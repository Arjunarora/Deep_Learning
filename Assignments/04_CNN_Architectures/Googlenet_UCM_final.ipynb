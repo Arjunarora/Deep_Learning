{
 "cells": [
  {
   "cell_type": "code",
   "execution_count": null,
   "metadata": {},
   "outputs": [],
   "source": []
  },
  {
   "cell_type": "code",
   "execution_count": 20,
   "metadata": {},
   "outputs": [],
   "source": [
    "import os\n",
    "import numpy as np\n",
    "import tensorflow as tf\n",
    "import matplotlib.pyplot as plt\n",
    "from tensorflow.keras import regularizers\n",
    "from tensorflow.keras.models import Sequential, Model\n",
    "from tensorflow.keras.layers import Input, Flatten, Dense, Dropout, BatchNormalization\n",
    "from tensorflow.keras.layers import Conv2D, MaxPooling2D, AveragePooling2D, ZeroPadding2D\n",
    "from tensorflow.keras.layers import Concatenate\n",
    "from tensorflow.keras.preprocessing.image import ImageDataGenerator\n",
    "from tensorflow.keras.optimizers import Adam, SGD"
   ]
  },
  {
   "cell_type": "code",
   "execution_count": 21,
   "metadata": {},
   "outputs": [],
   "source": [
    "CLASS_NUM = 21\n",
    "BATCH_SIZE = 16\n",
    "EPOCH_STEPS = int(4323/BATCH_SIZE)\n",
    "IMAGE_SHAPE = (256, 256, 3)\n",
    "MODEL_NAME = 'googlenet_ucm.h5'"
   ]
  },
  {
   "cell_type": "code",
   "execution_count": 22,
   "metadata": {},
   "outputs": [
    {
     "name": "stdout",
     "output_type": "stream",
     "text": [
      "Found 7350 images belonging to 21 classes.\n",
      "Found 2100 images belonging to 21 classes.\n",
      "Found 1050 images belonging to 21 classes.\n"
     ]
    }
   ],
   "source": [
    "datagen = ImageDataGenerator()\n",
    "train_it = datagen.flow_from_directory('archive/images_train_test_val/train/', target_size=(256, 256), batch_size=32, class_mode='categorical')\n",
    "val_it = datagen.flow_from_directory('archive/images_train_test_val/validation/', target_size=(256, 256), batch_size=32, class_mode='categorical')\n",
    "test_it = datagen.flow_from_directory('archive/images_train_test_val/test/', target_size=(256, 256), batch_size=32, class_mode='categorical')"
   ]
  },
  {
   "cell_type": "code",
   "execution_count": 23,
   "metadata": {},
   "outputs": [],
   "source": [
    "# create model\n",
    "def inception(x, filters):\n",
    "    # 1x1\n",
    "    path1 = Conv2D(filters=filters[0], kernel_size=(1,1), strides=1, padding='same', activation='relu')(x)\n",
    "\n",
    "    # 1x1->3x3\n",
    "    path2 = Conv2D(filters=filters[1][0], kernel_size=(1,1), strides=1, padding='same', activation='relu')(x)\n",
    "    path2 = Conv2D(filters=filters[1][1], kernel_size=(3,3), strides=1, padding='same', activation='relu')(path2)\n",
    "    \n",
    "    # 1x1->5x5\n",
    "    path3 = Conv2D(filters=filters[2][0], kernel_size=(1,1), strides=1, padding='same', activation='relu')(x)\n",
    "    path3 = Conv2D(filters=filters[2][1], kernel_size=(5,5), strides=1, padding='same', activation='relu')(path3)\n",
    "\n",
    "    # 3x3->1x1\n",
    "    path4 = MaxPooling2D(pool_size=(3,3), strides=1, padding='same')(x)\n",
    "    path4 = Conv2D(filters=filters[3], kernel_size=(1,1), strides=1, padding='same', activation='relu')(path4)\n",
    "\n",
    "    return Concatenate(axis=-1)([path1,path2,path3,path4])\n"
   ]
  },
  {
   "cell_type": "code",
   "execution_count": 24,
   "metadata": {},
   "outputs": [],
   "source": [
    "def auxiliary(x, name=None):\n",
    "    layer = AveragePooling2D(pool_size=(5,5), strides=3, padding='valid')(x)\n",
    "    layer = Conv2D(filters=128, kernel_size=(1,1), strides=1, padding='same', activation='relu')(layer)\n",
    "    layer = Flatten()(layer)\n",
    "    layer = Dense(units=256, activation='relu')(layer)\n",
    "    layer = Dropout(0.4)(layer)\n",
    "    layer = Dense(units=CLASS_NUM, activation='softmax', name=name)(layer)\n",
    "    return layer\n",
    "\n"
   ]
  },
  {
   "cell_type": "code",
   "execution_count": 25,
   "metadata": {},
   "outputs": [],
   "source": [
    "def googlenet():\n",
    "    layer_in = Input(shape=IMAGE_SHAPE)\n",
    "    \n",
    "    # stage-1\n",
    "    layer = Conv2D(filters=64, kernel_size=(7,7), strides=2, padding='same', activation='relu')(layer_in)\n",
    "    layer = MaxPooling2D(pool_size=(3,3), strides=2, padding='same')(layer)\n",
    "    layer = BatchNormalization()(layer)\n",
    "\n",
    "    # stage-2\n",
    "    layer = Conv2D(filters=64, kernel_size=(1,1), strides=1, padding='same', activation='relu')(layer)\n",
    "    layer = Conv2D(filters=192, kernel_size=(3,3), strides=1, padding='same', activation='relu')(layer)\n",
    "    layer = BatchNormalization()(layer)\n",
    "    layer = MaxPooling2D(pool_size=(3,3), strides=2, padding='same')(layer)\n",
    "\n",
    "    # stage-3\n",
    "    layer = inception(layer, [ 64,  (96,128), (16,32), 32]) #3a\n",
    "    layer = inception(layer, [128, (128,192), (32,96), 64]) #3b\n",
    "    layer = MaxPooling2D(pool_size=(3,3), strides=2, padding='same')(layer)\n",
    "    \n",
    "    # stage-4\n",
    "    layer = inception(layer, [192,  (96,208),  (16,48),  64]) #4a\n",
    "    aux1  = auxiliary(layer, name='aux1')\n",
    "    layer = inception(layer, [160, (112,224),  (24,64),  64]) #4b\n",
    "    layer = inception(layer, [128, (128,256),  (24,64),  64]) #4c\n",
    "    layer = inception(layer, [112, (144,288),  (32,64),  64]) #4d\n",
    "    aux2  = auxiliary(layer, name='aux2')\n",
    "    layer = inception(layer, [256, (160,320), (32,128), 128]) #4e\n",
    "    layer = MaxPooling2D(pool_size=(3,3), strides=2, padding='same')(layer)\n",
    "    \n",
    "    # stage-5\n",
    "    layer = inception(layer, [256, (160,320), (32,128), 128]) #5a\n",
    "    layer = inception(layer, [384, (192,384), (48,128), 128]) #5b\n",
    "    layer = AveragePooling2D(pool_size=(7,7), strides=1, padding='valid')(layer)\n",
    "    \n",
    "    # stage-6\n",
    "    layer = Flatten()(layer)\n",
    "    layer = Dropout(0.4)(layer)\n",
    "    layer = Dense(units=256, activation='linear')(layer)\n",
    "    main = Dense(units=CLASS_NUM, activation='softmax', name='main')(layer)\n",
    "    \n",
    "    model = Model(inputs=layer_in, outputs=[main, aux1, aux2])\n",
    "    \n",
    "    return model\n",
    "    "
   ]
  },
  {
   "cell_type": "code",
   "execution_count": 26,
   "metadata": {},
   "outputs": [
    {
     "name": "stdout",
     "output_type": "stream",
     "text": [
      "Model: \"model_2\"\n",
      "__________________________________________________________________________________________________\n",
      " Layer (type)                   Output Shape         Param #     Connected to                     \n",
      "==================================================================================================\n",
      " input_3 (InputLayer)           [(None, 256, 256, 3  0           []                               \n",
      "                                )]                                                                \n",
      "                                                                                                  \n",
      " conv2d_118 (Conv2D)            (None, 128, 128, 64  9472        ['input_3[0][0]']                \n",
      "                                )                                                                 \n",
      "                                                                                                  \n",
      " max_pooling2d_26 (MaxPooling2D  (None, 64, 64, 64)  0           ['conv2d_118[0][0]']             \n",
      " )                                                                                                \n",
      "                                                                                                  \n",
      " batch_normalization_4 (BatchNo  (None, 64, 64, 64)  256         ['max_pooling2d_26[0][0]']       \n",
      " rmalization)                                                                                     \n",
      "                                                                                                  \n",
      " conv2d_119 (Conv2D)            (None, 64, 64, 64)   4160        ['batch_normalization_4[0][0]']  \n",
      "                                                                                                  \n",
      " conv2d_120 (Conv2D)            (None, 64, 64, 192)  110784      ['conv2d_119[0][0]']             \n",
      "                                                                                                  \n",
      " batch_normalization_5 (BatchNo  (None, 64, 64, 192)  768        ['conv2d_120[0][0]']             \n",
      " rmalization)                                                                                     \n",
      "                                                                                                  \n",
      " max_pooling2d_27 (MaxPooling2D  (None, 32, 32, 192)  0          ['batch_normalization_5[0][0]']  \n",
      " )                                                                                                \n",
      "                                                                                                  \n",
      " conv2d_122 (Conv2D)            (None, 32, 32, 96)   18528       ['max_pooling2d_27[0][0]']       \n",
      "                                                                                                  \n",
      " conv2d_124 (Conv2D)            (None, 32, 32, 16)   3088        ['max_pooling2d_27[0][0]']       \n",
      "                                                                                                  \n",
      " max_pooling2d_28 (MaxPooling2D  (None, 32, 32, 192)  0          ['max_pooling2d_27[0][0]']       \n",
      " )                                                                                                \n",
      "                                                                                                  \n",
      " conv2d_121 (Conv2D)            (None, 32, 32, 64)   12352       ['max_pooling2d_27[0][0]']       \n",
      "                                                                                                  \n",
      " conv2d_123 (Conv2D)            (None, 32, 32, 128)  110720      ['conv2d_122[0][0]']             \n",
      "                                                                                                  \n",
      " conv2d_125 (Conv2D)            (None, 32, 32, 32)   12832       ['conv2d_124[0][0]']             \n",
      "                                                                                                  \n",
      " conv2d_126 (Conv2D)            (None, 32, 32, 32)   6176        ['max_pooling2d_28[0][0]']       \n",
      "                                                                                                  \n",
      " concatenate_18 (Concatenate)   (None, 32, 32, 256)  0           ['conv2d_121[0][0]',             \n",
      "                                                                  'conv2d_123[0][0]',             \n",
      "                                                                  'conv2d_125[0][0]',             \n",
      "                                                                  'conv2d_126[0][0]']             \n",
      "                                                                                                  \n",
      " conv2d_128 (Conv2D)            (None, 32, 32, 128)  32896       ['concatenate_18[0][0]']         \n",
      "                                                                                                  \n",
      " conv2d_130 (Conv2D)            (None, 32, 32, 32)   8224        ['concatenate_18[0][0]']         \n",
      "                                                                                                  \n",
      " max_pooling2d_29 (MaxPooling2D  (None, 32, 32, 256)  0          ['concatenate_18[0][0]']         \n",
      " )                                                                                                \n",
      "                                                                                                  \n",
      " conv2d_127 (Conv2D)            (None, 32, 32, 128)  32896       ['concatenate_18[0][0]']         \n",
      "                                                                                                  \n",
      " conv2d_129 (Conv2D)            (None, 32, 32, 192)  221376      ['conv2d_128[0][0]']             \n",
      "                                                                                                  \n",
      " conv2d_131 (Conv2D)            (None, 32, 32, 96)   76896       ['conv2d_130[0][0]']             \n",
      "                                                                                                  \n",
      " conv2d_132 (Conv2D)            (None, 32, 32, 64)   16448       ['max_pooling2d_29[0][0]']       \n",
      "                                                                                                  \n",
      " concatenate_19 (Concatenate)   (None, 32, 32, 480)  0           ['conv2d_127[0][0]',             \n",
      "                                                                  'conv2d_129[0][0]',             \n",
      "                                                                  'conv2d_131[0][0]',             \n",
      "                                                                  'conv2d_132[0][0]']             \n",
      "                                                                                                  \n",
      " max_pooling2d_30 (MaxPooling2D  (None, 16, 16, 480)  0          ['concatenate_19[0][0]']         \n",
      " )                                                                                                \n",
      "                                                                                                  \n",
      " conv2d_134 (Conv2D)            (None, 16, 16, 96)   46176       ['max_pooling2d_30[0][0]']       \n",
      "                                                                                                  \n",
      " conv2d_136 (Conv2D)            (None, 16, 16, 16)   7696        ['max_pooling2d_30[0][0]']       \n",
      "                                                                                                  \n",
      " max_pooling2d_31 (MaxPooling2D  (None, 16, 16, 480)  0          ['max_pooling2d_30[0][0]']       \n",
      " )                                                                                                \n",
      "                                                                                                  \n",
      " conv2d_133 (Conv2D)            (None, 16, 16, 192)  92352       ['max_pooling2d_30[0][0]']       \n",
      "                                                                                                  \n",
      " conv2d_135 (Conv2D)            (None, 16, 16, 208)  179920      ['conv2d_134[0][0]']             \n",
      "                                                                                                  \n",
      " conv2d_137 (Conv2D)            (None, 16, 16, 48)   19248       ['conv2d_136[0][0]']             \n",
      "                                                                                                  \n",
      " conv2d_138 (Conv2D)            (None, 16, 16, 64)   30784       ['max_pooling2d_31[0][0]']       \n",
      "                                                                                                  \n",
      " concatenate_20 (Concatenate)   (None, 16, 16, 512)  0           ['conv2d_133[0][0]',             \n",
      "                                                                  'conv2d_135[0][0]',             \n",
      "                                                                  'conv2d_137[0][0]',             \n",
      "                                                                  'conv2d_138[0][0]']             \n",
      "                                                                                                  \n",
      " conv2d_141 (Conv2D)            (None, 16, 16, 112)  57456       ['concatenate_20[0][0]']         \n",
      "                                                                                                  \n",
      " conv2d_143 (Conv2D)            (None, 16, 16, 24)   12312       ['concatenate_20[0][0]']         \n",
      "                                                                                                  \n",
      " max_pooling2d_32 (MaxPooling2D  (None, 16, 16, 512)  0          ['concatenate_20[0][0]']         \n",
      " )                                                                                                \n",
      "                                                                                                  \n",
      " conv2d_140 (Conv2D)            (None, 16, 16, 160)  82080       ['concatenate_20[0][0]']         \n",
      "                                                                                                  \n",
      " conv2d_142 (Conv2D)            (None, 16, 16, 224)  226016      ['conv2d_141[0][0]']             \n",
      "                                                                                                  \n",
      " conv2d_144 (Conv2D)            (None, 16, 16, 64)   38464       ['conv2d_143[0][0]']             \n",
      "                                                                                                  \n",
      " conv2d_145 (Conv2D)            (None, 16, 16, 64)   32832       ['max_pooling2d_32[0][0]']       \n",
      "                                                                                                  \n",
      " concatenate_21 (Concatenate)   (None, 16, 16, 512)  0           ['conv2d_140[0][0]',             \n",
      "                                                                  'conv2d_142[0][0]',             \n",
      "                                                                  'conv2d_144[0][0]',             \n",
      "                                                                  'conv2d_145[0][0]']             \n",
      "                                                                                                  \n",
      " conv2d_147 (Conv2D)            (None, 16, 16, 128)  65664       ['concatenate_21[0][0]']         \n",
      "                                                                                                  \n",
      " conv2d_149 (Conv2D)            (None, 16, 16, 24)   12312       ['concatenate_21[0][0]']         \n",
      "                                                                                                  \n",
      " max_pooling2d_33 (MaxPooling2D  (None, 16, 16, 512)  0          ['concatenate_21[0][0]']         \n",
      " )                                                                                                \n",
      "                                                                                                  \n",
      " conv2d_146 (Conv2D)            (None, 16, 16, 128)  65664       ['concatenate_21[0][0]']         \n",
      "                                                                                                  \n",
      " conv2d_148 (Conv2D)            (None, 16, 16, 256)  295168      ['conv2d_147[0][0]']             \n",
      "                                                                                                  \n",
      " conv2d_150 (Conv2D)            (None, 16, 16, 64)   38464       ['conv2d_149[0][0]']             \n",
      "                                                                                                  \n",
      " conv2d_151 (Conv2D)            (None, 16, 16, 64)   32832       ['max_pooling2d_33[0][0]']       \n",
      "                                                                                                  \n",
      " concatenate_22 (Concatenate)   (None, 16, 16, 512)  0           ['conv2d_146[0][0]',             \n",
      "                                                                  'conv2d_148[0][0]',             \n",
      "                                                                  'conv2d_150[0][0]',             \n",
      "                                                                  'conv2d_151[0][0]']             \n",
      "                                                                                                  \n",
      " conv2d_153 (Conv2D)            (None, 16, 16, 144)  73872       ['concatenate_22[0][0]']         \n",
      "                                                                                                  \n",
      " conv2d_155 (Conv2D)            (None, 16, 16, 32)   16416       ['concatenate_22[0][0]']         \n",
      "                                                                                                  \n",
      " max_pooling2d_34 (MaxPooling2D  (None, 16, 16, 512)  0          ['concatenate_22[0][0]']         \n",
      " )                                                                                                \n",
      "                                                                                                  \n",
      " conv2d_152 (Conv2D)            (None, 16, 16, 112)  57456       ['concatenate_22[0][0]']         \n",
      "                                                                                                  \n",
      " conv2d_154 (Conv2D)            (None, 16, 16, 288)  373536      ['conv2d_153[0][0]']             \n",
      "                                                                                                  \n",
      " conv2d_156 (Conv2D)            (None, 16, 16, 64)   51264       ['conv2d_155[0][0]']             \n",
      "                                                                                                  \n",
      " conv2d_157 (Conv2D)            (None, 16, 16, 64)   32832       ['max_pooling2d_34[0][0]']       \n",
      "                                                                                                  \n",
      " concatenate_23 (Concatenate)   (None, 16, 16, 528)  0           ['conv2d_152[0][0]',             \n",
      "                                                                  'conv2d_154[0][0]',             \n",
      "                                                                  'conv2d_156[0][0]',             \n",
      "                                                                  'conv2d_157[0][0]']             \n",
      "                                                                                                  \n",
      " conv2d_160 (Conv2D)            (None, 16, 16, 160)  84640       ['concatenate_23[0][0]']         \n",
      "                                                                                                  \n",
      " conv2d_162 (Conv2D)            (None, 16, 16, 32)   16928       ['concatenate_23[0][0]']         \n",
      "                                                                                                  \n",
      " max_pooling2d_35 (MaxPooling2D  (None, 16, 16, 528)  0          ['concatenate_23[0][0]']         \n",
      " )                                                                                                \n",
      "                                                                                                  \n",
      " conv2d_159 (Conv2D)            (None, 16, 16, 256)  135424      ['concatenate_23[0][0]']         \n",
      "                                                                                                  \n",
      " conv2d_161 (Conv2D)            (None, 16, 16, 320)  461120      ['conv2d_160[0][0]']             \n",
      "                                                                                                  \n",
      " conv2d_163 (Conv2D)            (None, 16, 16, 128)  102528      ['conv2d_162[0][0]']             \n",
      "                                                                                                  \n",
      " conv2d_164 (Conv2D)            (None, 16, 16, 128)  67712       ['max_pooling2d_35[0][0]']       \n",
      "                                                                                                  \n",
      " concatenate_24 (Concatenate)   (None, 16, 16, 832)  0           ['conv2d_159[0][0]',             \n",
      "                                                                  'conv2d_161[0][0]',             \n",
      "                                                                  'conv2d_163[0][0]',             \n",
      "                                                                  'conv2d_164[0][0]']             \n",
      "                                                                                                  \n",
      " max_pooling2d_36 (MaxPooling2D  (None, 8, 8, 832)   0           ['concatenate_24[0][0]']         \n",
      " )                                                                                                \n",
      "                                                                                                  \n",
      " conv2d_166 (Conv2D)            (None, 8, 8, 160)    133280      ['max_pooling2d_36[0][0]']       \n",
      "                                                                                                  \n",
      " conv2d_168 (Conv2D)            (None, 8, 8, 32)     26656       ['max_pooling2d_36[0][0]']       \n",
      "                                                                                                  \n",
      " max_pooling2d_37 (MaxPooling2D  (None, 8, 8, 832)   0           ['max_pooling2d_36[0][0]']       \n",
      " )                                                                                                \n",
      "                                                                                                  \n",
      " conv2d_165 (Conv2D)            (None, 8, 8, 256)    213248      ['max_pooling2d_36[0][0]']       \n",
      "                                                                                                  \n",
      " conv2d_167 (Conv2D)            (None, 8, 8, 320)    461120      ['conv2d_166[0][0]']             \n",
      "                                                                                                  \n",
      " conv2d_169 (Conv2D)            (None, 8, 8, 128)    102528      ['conv2d_168[0][0]']             \n",
      "                                                                                                  \n",
      " conv2d_170 (Conv2D)            (None, 8, 8, 128)    106624      ['max_pooling2d_37[0][0]']       \n",
      "                                                                                                  \n",
      " concatenate_25 (Concatenate)   (None, 8, 8, 832)    0           ['conv2d_165[0][0]',             \n",
      "                                                                  'conv2d_167[0][0]',             \n",
      "                                                                  'conv2d_169[0][0]',             \n",
      "                                                                  'conv2d_170[0][0]']             \n",
      "                                                                                                  \n",
      " conv2d_172 (Conv2D)            (None, 8, 8, 192)    159936      ['concatenate_25[0][0]']         \n",
      "                                                                                                  \n",
      " conv2d_174 (Conv2D)            (None, 8, 8, 48)     39984       ['concatenate_25[0][0]']         \n",
      "                                                                                                  \n",
      " max_pooling2d_38 (MaxPooling2D  (None, 8, 8, 832)   0           ['concatenate_25[0][0]']         \n",
      " )                                                                                                \n",
      "                                                                                                  \n",
      " conv2d_171 (Conv2D)            (None, 8, 8, 384)    319872      ['concatenate_25[0][0]']         \n",
      "                                                                                                  \n",
      " conv2d_173 (Conv2D)            (None, 8, 8, 384)    663936      ['conv2d_172[0][0]']             \n",
      "                                                                                                  \n",
      " conv2d_175 (Conv2D)            (None, 8, 8, 128)    153728      ['conv2d_174[0][0]']             \n",
      "                                                                                                  \n",
      " conv2d_176 (Conv2D)            (None, 8, 8, 128)    106624      ['max_pooling2d_38[0][0]']       \n",
      "                                                                                                  \n",
      " concatenate_26 (Concatenate)   (None, 8, 8, 1024)   0           ['conv2d_171[0][0]',             \n",
      "                                                                  'conv2d_173[0][0]',             \n",
      "                                                                  'conv2d_175[0][0]',             \n",
      "                                                                  'conv2d_176[0][0]']             \n",
      "                                                                                                  \n",
      " average_pooling2d_6 (AveragePo  (None, 4, 4, 512)   0           ['concatenate_20[0][0]']         \n",
      " oling2D)                                                                                         \n",
      "                                                                                                  \n",
      " average_pooling2d_7 (AveragePo  (None, 4, 4, 528)   0           ['concatenate_23[0][0]']         \n",
      " oling2D)                                                                                         \n",
      "                                                                                                  \n",
      " average_pooling2d_8 (AveragePo  (None, 2, 2, 1024)  0           ['concatenate_26[0][0]']         \n",
      " oling2D)                                                                                         \n",
      "                                                                                                  \n",
      " conv2d_139 (Conv2D)            (None, 4, 4, 128)    65664       ['average_pooling2d_6[0][0]']    \n",
      "                                                                                                  \n",
      " conv2d_158 (Conv2D)            (None, 4, 4, 128)    67712       ['average_pooling2d_7[0][0]']    \n",
      "                                                                                                  \n",
      " flatten_8 (Flatten)            (None, 4096)         0           ['average_pooling2d_8[0][0]']    \n",
      "                                                                                                  \n",
      " flatten_6 (Flatten)            (None, 2048)         0           ['conv2d_139[0][0]']             \n",
      "                                                                                                  \n",
      " flatten_7 (Flatten)            (None, 2048)         0           ['conv2d_158[0][0]']             \n",
      "                                                                                                  \n",
      " dropout_8 (Dropout)            (None, 4096)         0           ['flatten_8[0][0]']              \n",
      "                                                                                                  \n",
      " dense_6 (Dense)                (None, 256)          524544      ['flatten_6[0][0]']              \n",
      "                                                                                                  \n",
      " dense_7 (Dense)                (None, 256)          524544      ['flatten_7[0][0]']              \n",
      "                                                                                                  \n",
      " dense_8 (Dense)                (None, 256)          1048832     ['dropout_8[0][0]']              \n",
      "                                                                                                  \n",
      " dropout_6 (Dropout)            (None, 256)          0           ['dense_6[0][0]']                \n",
      "                                                                                                  \n",
      " dropout_7 (Dropout)            (None, 256)          0           ['dense_7[0][0]']                \n",
      "                                                                                                  \n",
      " main (Dense)                   (None, 21)           5397        ['dense_8[0][0]']                \n",
      "                                                                                                  \n",
      " aux1 (Dense)                   (None, 21)           5397        ['dropout_6[0][0]']              \n",
      "                                                                                                  \n",
      " aux2 (Dense)                   (None, 21)           5397        ['dropout_7[0][0]']              \n",
      "                                                                                                  \n",
      "==================================================================================================\n",
      "Total params: 8,222,063\n",
      "Trainable params: 8,221,551\n",
      "Non-trainable params: 512\n",
      "__________________________________________________________________________________________________\n"
     ]
    }
   ],
   "source": [
    "# train model\n",
    "model = googlenet()\n",
    "model.summary()"
   ]
  },
  {
   "cell_type": "code",
   "execution_count": null,
   "metadata": {},
   "outputs": [],
   "source": []
  },
  {
   "cell_type": "code",
   "execution_count": 31,
   "metadata": {},
   "outputs": [],
   "source": [
    "optimizer = ['Adam', 'SGD', 'Adam', 'SGD']\n",
    "epochs = [20, 30, 20, 30]\n",
    "history_all = {}"
   ]
  },
  {
   "cell_type": "code",
   "execution_count": 33,
   "metadata": {},
   "outputs": [
    {
     "name": "stdout",
     "output_type": "stream",
     "text": [
      "Usnig optimizer: Adam, Epoch: 20\n",
      "Epoch 1/20\n"
     ]
    },
    {
     "name": "stderr",
     "output_type": "stream",
     "text": [
      "2022-06-12 13:00:54.447301: I tensorflow/core/grappler/optimizers/custom_graph_optimizer_registry.cc:113] Plugin optimizer for device_type GPU is enabled.\n"
     ]
    },
    {
     "name": "stdout",
     "output_type": "stream",
     "text": [
      "230/270 [========================>.....] - ETA: 47s - loss: 3.0736 - main_loss: 1.9624 - aux1_loss: 1.7577 - aux2_loss: 1.9461 - main_accuracy: 0.3257 - aux1_accuracy: 0.4295 - aux2_accuracy: 0.3551WARNING:tensorflow:Your input ran out of data; interrupting training. Make sure that your dataset or generator can generate at least `steps_per_epoch * epochs` batches (in this case, 5400 batches). You may need to use the repeat() function when building your dataset.\n"
     ]
    },
    {
     "name": "stderr",
     "output_type": "stream",
     "text": [
      "2022-06-12 13:05:32.744978: I tensorflow/core/grappler/optimizers/custom_graph_optimizer_registry.cc:113] Plugin optimizer for device_type GPU is enabled.\n"
     ]
    },
    {
     "name": "stdout",
     "output_type": "stream",
     "text": [
      "270/270 [==============================] - 299s 1s/step - loss: 3.0736 - main_loss: 1.9624 - aux1_loss: 1.7577 - aux2_loss: 1.9461 - main_accuracy: 0.3257 - aux1_accuracy: 0.4295 - aux2_accuracy: 0.3551 - val_loss: 5.7663 - val_main_loss: 3.7892 - val_aux1_loss: 3.2564 - val_aux2_loss: 3.3337 - val_main_accuracy: 0.1190 - val_aux1_accuracy: 0.1352 - val_aux2_accuracy: 0.1243\n",
      "Usnig optimizer: SGD, Epoch: 30\n",
      "Epoch 1/30\n"
     ]
    },
    {
     "name": "stderr",
     "output_type": "stream",
     "text": [
      "2022-06-12 13:05:55.429744: I tensorflow/core/grappler/optimizers/custom_graph_optimizer_registry.cc:113] Plugin optimizer for device_type GPU is enabled.\n"
     ]
    },
    {
     "name": "stdout",
     "output_type": "stream",
     "text": [
      "230/270 [========================>.....] - ETA: 50s - loss: 2.3446 - main_loss: 1.5051 - aux1_loss: 1.3252 - aux2_loss: 1.4731 - main_accuracy: 0.4763 - aux1_accuracy: 0.5476 - aux2_accuracy: 0.5035WARNING:tensorflow:Your input ran out of data; interrupting training. Make sure that your dataset or generator can generate at least `steps_per_epoch * epochs` batches (in this case, 8100 batches). You may need to use the repeat() function when building your dataset.\n"
     ]
    },
    {
     "name": "stderr",
     "output_type": "stream",
     "text": [
      "2022-06-12 13:10:46.792386: I tensorflow/core/grappler/optimizers/custom_graph_optimizer_registry.cc:113] Plugin optimizer for device_type GPU is enabled.\n"
     ]
    },
    {
     "name": "stdout",
     "output_type": "stream",
     "text": [
      "270/270 [==============================] - 314s 1s/step - loss: 2.3446 - main_loss: 1.5051 - aux1_loss: 1.3252 - aux2_loss: 1.4731 - main_accuracy: 0.4763 - aux1_accuracy: 0.5476 - aux2_accuracy: 0.5035 - val_loss: 2.5295 - val_main_loss: 1.5970 - val_aux1_loss: 1.5602 - val_aux2_loss: 1.5482 - val_main_accuracy: 0.4629 - val_aux1_accuracy: 0.4719 - val_aux2_accuracy: 0.4767\n",
      "Usnig optimizer: Adam, Epoch: 20\n",
      "Epoch 1/20\n"
     ]
    },
    {
     "name": "stderr",
     "output_type": "stream",
     "text": [
      "2022-06-12 13:11:08.739013: I tensorflow/core/grappler/optimizers/custom_graph_optimizer_registry.cc:113] Plugin optimizer for device_type GPU is enabled.\n"
     ]
    },
    {
     "name": "stdout",
     "output_type": "stream",
     "text": [
      "230/270 [========================>.....] - ETA: 46s - loss: 2.3429 - main_loss: 1.5060 - aux1_loss: 1.3412 - aux2_loss: 1.4485 - main_accuracy: 0.4861 - aux1_accuracy: 0.5531 - aux2_accuracy: 0.5098WARNING:tensorflow:Your input ran out of data; interrupting training. Make sure that your dataset or generator can generate at least `steps_per_epoch * epochs` batches (in this case, 5400 batches). You may need to use the repeat() function when building your dataset.\n"
     ]
    },
    {
     "name": "stderr",
     "output_type": "stream",
     "text": [
      "2022-06-12 13:15:40.190197: I tensorflow/core/grappler/optimizers/custom_graph_optimizer_registry.cc:113] Plugin optimizer for device_type GPU is enabled.\n"
     ]
    },
    {
     "name": "stdout",
     "output_type": "stream",
     "text": [
      "270/270 [==============================] - 291s 1s/step - loss: 2.3429 - main_loss: 1.5060 - aux1_loss: 1.3412 - aux2_loss: 1.4485 - main_accuracy: 0.4861 - aux1_accuracy: 0.5531 - aux2_accuracy: 0.5098 - val_loss: 2.6032 - val_main_loss: 1.6361 - val_aux1_loss: 1.6022 - val_aux2_loss: 1.6216 - val_main_accuracy: 0.4333 - val_aux1_accuracy: 0.4676 - val_aux2_accuracy: 0.4452\n",
      "Usnig optimizer: SGD, Epoch: 30\n",
      "Epoch 1/30\n"
     ]
    },
    {
     "name": "stderr",
     "output_type": "stream",
     "text": [
      "2022-06-12 13:15:59.328829: I tensorflow/core/grappler/optimizers/custom_graph_optimizer_registry.cc:113] Plugin optimizer for device_type GPU is enabled.\n"
     ]
    },
    {
     "name": "stdout",
     "output_type": "stream",
     "text": [
      "230/270 [========================>.....] - ETA: 46s - loss: 1.7269 - main_loss: 1.0930 - aux1_loss: 1.0193 - aux2_loss: 1.0938 - main_accuracy: 0.6137 - aux1_accuracy: 0.6578 - aux2_accuracy: 0.6182WARNING:tensorflow:Your input ran out of data; interrupting training. Make sure that your dataset or generator can generate at least `steps_per_epoch * epochs` batches (in this case, 8100 batches). You may need to use the repeat() function when building your dataset.\n"
     ]
    },
    {
     "name": "stderr",
     "output_type": "stream",
     "text": [
      "2022-06-12 13:20:31.378157: I tensorflow/core/grappler/optimizers/custom_graph_optimizer_registry.cc:113] Plugin optimizer for device_type GPU is enabled.\n"
     ]
    },
    {
     "name": "stdout",
     "output_type": "stream",
     "text": [
      "270/270 [==============================] - 292s 1s/step - loss: 1.7269 - main_loss: 1.0930 - aux1_loss: 1.0193 - aux2_loss: 1.0938 - main_accuracy: 0.6137 - aux1_accuracy: 0.6578 - aux2_accuracy: 0.6182 - val_loss: 3.0317 - val_main_loss: 1.8582 - val_aux1_loss: 2.0151 - val_aux2_loss: 1.8967 - val_main_accuracy: 0.4419 - val_aux1_accuracy: 0.4067 - val_aux2_accuracy: 0.4267\n"
     ]
    }
   ],
   "source": [
    "for i in range(len(optimizer)):\n",
    "    print('Usnig optimizer: ' + optimizer[i] + ', Epoch: ' + str(epochs[i]))\n",
    "    \n",
    "    model.compile(loss='categorical_crossentropy', \n",
    "                  loss_weights={'main': 1.0, 'aux1': 0.3, 'aux2': 0.3},\n",
    "                  optimizer=optimizer[i], metrics=['accuracy'])\n",
    "    \n",
    "    train_history = model.fit(\n",
    "            train_it,\n",
    "            steps_per_epoch=EPOCH_STEPS,\n",
    "            epochs=epochs[i],\n",
    "            #callbacks=[checkpoint]\n",
    "            shuffle=True,\n",
    "            validation_data=val_it\n",
    "            )\n",
    "    \n",
    "    # save history    \n",
    "    if len(history_all) == 0:\n",
    "        history_all = {key: [] for key in train_history.history}\n",
    "    \n",
    "    for key in history_all:\n",
    "        history_all[key].extend(train_history.history[key])\n",
    "\n",
    "model.save(MODEL_NAME)\n"
   ]
  },
  {
   "cell_type": "code",
   "execution_count": 34,
   "metadata": {},
   "outputs": [
    {
     "name": "stdout",
     "output_type": "stream",
     "text": [
      " 33/270 [==>...........................] - ETA: 1:00 - loss: 2.9467 - main_loss: 1.8003 - aux1_loss: 1.9890 - aux2_loss: 1.8322 - main_accuracy: 0.4505 - aux1_accuracy: 0.4210 - aux2_accuracy: 0.4400WARNING:tensorflow:Your input ran out of data; interrupting training. Make sure that your dataset or generator can generate at least `steps_per_epoch * epochs` batches (in this case, 270 batches). You may need to use the repeat() function when building your dataset.\n",
      "270/270 [==============================] - 8s 30ms/step - loss: 2.9467 - main_loss: 1.8003 - aux1_loss: 1.9890 - aux2_loss: 1.8322 - main_accuracy: 0.4505 - aux1_accuracy: 0.4210 - aux2_accuracy: 0.4400\n"
     ]
    },
    {
     "data": {
      "text/plain": [
       "[2.9467079639434814,\n",
       " 1.8003422021865845,\n",
       " 1.98904550075531,\n",
       " 1.8321729898452759,\n",
       " 0.45047619938850403,\n",
       " 0.42095237970352173,\n",
       " 0.4399999976158142]"
      ]
     },
     "execution_count": 34,
     "metadata": {},
     "output_type": "execute_result"
    }
   ],
   "source": [
    "model.evaluate(test_it, steps=int(4323/BATCH_SIZE))"
   ]
  },
  {
   "cell_type": "code",
   "execution_count": 40,
   "metadata": {},
   "outputs": [
    {
     "data": {
      "image/png": "[encoded data removed]",
      "text/plain": [
       "<Figure size 432x288 with 1 Axes>"
      ]
     },
     "metadata": {
      "needs_background": "light"
     },
     "output_type": "display_data"
    },
    {
     "data": {
      "image/png": "[encoded data removed]",
      "text/plain": [
       "<Figure size 432x288 with 1 Axes>"
      ]
     },
     "metadata": {
      "needs_background": "light"
     },
     "output_type": "display_data"
    }
   ],
   "source": [
    "\n",
    "def show_train_history(history, xlabel, ylabel, train):\n",
    "    for item in train:\n",
    "        plt.plot(history[item])\n",
    "    plt.title('Train History')\n",
    "    plt.xlabel(xlabel)\n",
    "    plt.ylabel(ylabel)\n",
    "    plt.legend(train, loc='upper left')\n",
    "    plt.show()\n",
    "\n",
    "show_train_history(history_all, 'Epoch', 'Accuracy', ('main_accuracy', 'aux1_accuracy', 'aux2_accuracy'))\n",
    "show_train_history(history_all, 'Epoch', 'Loss', ('main_loss', 'aux1_loss', 'aux2_loss'))\n"
   ]
  },
  {
   "cell_type": "code",
   "execution_count": null,
   "metadata": {},
   "outputs": [],
   "source": []
  },
  {
   "cell_type": "code",
   "execution_count": null,
   "metadata": {},
   "outputs": [],
   "source": []
  }
 ],
 "metadata": {
  "interpreter": {
   "hash": "0a3aadebaddfbe734b1d334477c49318698dd57f53358bc0436e6a94ccc67973"
  },
  "kernelspec": {
   "display_name": "Python 3.10.4 ('deep')",
   "language": "python",
   "name": "python3"
  },
  "language_info": {
   "codemirror_mode": {
    "name": "ipython",
    "version": 3
   },
   "file_extension": ".py",
   "mimetype": "text/x-python",
   "name": "python",
   "nbconvert_exporter": "python",
   "pygments_lexer": "ipython3",
   "version": "3.10.4"
  },
  "orig_nbformat": 4
 },
 "nbformat": 4,
 "nbformat_minor": 2
}
