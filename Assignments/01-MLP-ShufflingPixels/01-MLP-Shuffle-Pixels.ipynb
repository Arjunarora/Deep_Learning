{
 "cells": [
  {
   "cell_type": "markdown",
   "metadata": {
    "id": "yuIfMMrkDzuT"
   },
   "source": [
    "[<img align=\"right\" width=\"400\" height=\"100\" src=\"https://www.tu-braunschweig.de/typo3conf/ext/tu_braunschweig/Resources/Public/Images/Logos/tu_braunschweig_logo.svg\">](https://www.tu-braunschweig.de/en/) \n",
    "\n",
    "[Mehdi Maboudi](https://www.tu-braunschweig.de/en/igp/staff/mehdi-maboudi) \\([m.maboudi@tu-bs.de](m.maboudi@tu-bs.de)) and [Pedro Diaz](https://www.tu-braunschweig.de/en/igp/staff/pedro-diaz) (p.diaz@tu-bs.de)\n",
    "\n",
    "[Technical University of Braunschweig](https://www.tu-braunschweig.de/en/)  \n",
    "[Institute of Geodesy and Photogrammetry](https://www.tu-braunschweig.de/igp)  \n",
    "\n",
    "\n",
    "**Image classification using MLP**  "
   ]
  },
  {
   "cell_type": "markdown",
   "metadata": {
    "id": "cinq72Jckqnp"
   },
   "source": [
    "# Deep Learning Shuffled vs Unshuffled with MLP\n",
    "<!--<badge>--><a href=\"https://colab.research.google.com/github/Deep-Learning-IGP-TUBS-SoSe2022/2022-Group06/blob/main/Assignments/01-MLP-ShufflingPixels/01-MLP-Shuffle-Pixels.ipynb\" target=\"_parent\"><img src=\"https://colab.research.google.com/assets/colab-badge.svg\" alt=\"Open In Colab\"/></a><!--</badge>-->"
   ]
  },
  {
   "cell_type": "markdown",
   "metadata": {
    "id": "We3qMEvHk5iS",
    "tags": []
   },
   "source": [
    "## 1. Import all necessary packages"
   ]
  },
  {
   "cell_type": "code",
   "execution_count": 2,
   "metadata": {
    "id": "4cEKc2I2lCEs"
   },
   "outputs": [
    {
     "name": "stderr",
     "output_type": "stream",
     "text": [
      "/home/burak/anaconda3/envs/ml/lib/python3.9/site-packages/tqdm/auto.py:22: TqdmWarning: IProgress not found. Please update jupyter and ipywidgets. See https://ipywidgets.readthedocs.io/en/stable/user_install.html\n",
      "  from .autonotebook import tqdm as notebook_tqdm\n"
     ]
    }
   ],
   "source": [
    "import itertools\n",
    "\n",
    "import numpy as np\n",
    "import torch\n",
    "import torchvision\n",
    "import matplotlib.pyplot as plt\n",
    "import matplotlib.cm as cm\n",
    "import torchvision.transforms as T\n",
    "\n",
    "from PIL import Image\n",
    "from torch.utils.data import DataLoader, random_split\n",
    "from torch.optim import Adam\n",
    "\n",
    "# let's try to fix randomness\n",
    "torch.backends.cudnn.enabled = False\n",
    "torch.backends.cudnn.deterministic = True"
   ]
  },
  {
   "cell_type": "markdown",
   "metadata": {
    "id": "4nm6BDwQkwil"
   },
   "source": [
    "## 2. Load the [Fashion MNIST dataset](https://github.com/zalandoresearch/fashion-mnist]) for image classification and show some samples \n",
    "It is also available in [PyTorch datasets](https://pytorch.org/vision/stable/datasets.html) and [TensorFlow datasets](https://www.tensorflow.org/datasets)"
   ]
  },
  {
   "cell_type": "markdown",
   "metadata": {
    "id": "DWbUXwUmFcBx"
   },
   "source": [
    "### 2.1 Loading the dataset"
   ]
  },
  {
   "cell_type": "code",
   "execution_count": 3,
   "metadata": {
    "id": "O6JFkJmRFpYf"
   },
   "outputs": [
    {
     "name": "stdout",
     "output_type": "stream",
     "text": [
      "Train set size 58000\n",
      "Valid set size 2000\n",
      "Test set size 10000\n"
     ]
    }
   ],
   "source": [
    "train_set = torchvision.datasets.FashionMNIST(\n",
    "    \"./fashion_mnist\",\n",
    "    download=True,\n",
    "    train=True,\n",
    "    transform=T.ToTensor()\n",
    ")\n",
    "\n",
    "\n",
    "test_set = torchvision.datasets.FashionMNIST(\n",
    "    \"./fashion_mnist\",\n",
    "    download=True,\n",
    "    train=False,\n",
    "    transform=T.ToTensor()\n",
    ")\n",
    "\n",
    "train_set, valid_set = random_split(train_set, [58000, 2000], generator=torch.Generator().manual_seed(42))\n",
    "print(\"Train set size\", len(train_set))\n",
    "print(\"Valid set size\", len(valid_set))\n",
    "print(\"Test set size\", len(test_set))"
   ]
  },
  {
   "cell_type": "markdown",
   "metadata": {
    "id": "u5DSZu_xkwza"
   },
   "source": [
    "## 3. Create a **Multi Layer Perceptron (MLP)** for image classification."
   ]
  },
  {
   "cell_type": "code",
   "execution_count": 4,
   "metadata": {
    "id": "WMT1O9vclNpx"
   },
   "outputs": [],
   "source": [
    "class MLPModel(torch.nn.Module):\n",
    "    def __init__(self, input_size=28*28):\n",
    "        super(MLPModel, self).__init__()\n",
    "        self.linear1 = torch.nn.Linear(input_size, 128)\n",
    "        self.linear2 = torch.nn.Linear(128, 128)\n",
    "        self.linear3 = torch.nn.Linear(128, 10)\n",
    "        self.relu = torch.nn.ReLU()\n",
    "        self.softmax = torch.nn.Softmax(dim=1)\n",
    "        \n",
    "    def forward(self, x):\n",
    "        x = x.reshape(x.shape[0], -1)\n",
    "        x = self.linear1(x)\n",
    "        x = self.relu(x)\n",
    "        x = self.linear2(x)\n",
    "        x = self.relu(x)\n",
    "        x = self.linear3(x)\n",
    "        x = self.softmax(x)\n",
    "        return x"
   ]
  },
  {
   "cell_type": "markdown",
   "metadata": {
    "id": "MEKQa49Ckw1s"
   },
   "source": [
    "## 4. Train the model Unshuffled"
   ]
  },
  {
   "cell_type": "code",
   "execution_count": 5,
   "metadata": {
    "id": "J2bvbZr4lfbl"
   },
   "outputs": [
    {
     "name": "stdout",
     "output_type": "stream",
     "text": [
      "Epoch 0, Avg loss 1.727589510654581, Validation set accuracy 0.81\n",
      "Epoch 1, Avg loss 1.630965333774172, Validation set accuracy 0.835\n",
      "Epoch 2, Avg loss 1.616591592953123, Validation set accuracy 0.832\n",
      "Epoch 3, Avg loss 1.6089180501740554, Validation set accuracy 0.837\n",
      "Epoch 4, Avg loss 1.6030959619653635, Validation set accuracy 0.8525\n",
      "Epoch 5, Avg loss 1.5989304000262556, Validation set accuracy 0.8585\n",
      "Epoch 6, Avg loss 1.5983039103540881, Validation set accuracy 0.8445\n",
      "Epoch 7, Avg loss 1.5897518673929676, Validation set accuracy 0.8525\n",
      "Epoch 8, Avg loss 1.5891601454964999, Validation set accuracy 0.8485\n",
      "Epoch 9, Avg loss 1.5856854871881418, Validation set accuracy 0.855\n"
     ]
    }
   ],
   "source": [
    "# let's try to fix randomness\n",
    "torch.manual_seed(123)\n",
    "torch.cuda.manual_seed(123)\n",
    "\n",
    "loss = torch.nn.CrossEntropyLoss()\n",
    "model = MLPModel()\n",
    "\n",
    "optimizer = Adam(model.parameters(), lr=.001) # I also tried .01 and 0.0001\n",
    "# we want to train in batches\n",
    "train_dataloader = DataLoader(train_set, batch_size=128, shuffle=True)\n",
    "valid_dataloader = DataLoader(valid_set, batch_size=512, shuffle=False) # no need to shuffle since we only test on it\n",
    "loss_per_epoch_tmp = []\n",
    "accuracy_per_epoch_tmp = []\n",
    "for epoch in range(10):\n",
    "    model.train()\n",
    "    #I tried to overfit the first batch to see if model was ok\n",
    "    #first_batch = next(iter(train_dataloader))\n",
    "    #for batch_idx, (images, labels) in enumerate([first_batch] * 50):\n",
    "    sum_loss = 0.0\n",
    "    for images, labels in train_dataloader:\n",
    "        output = model(images)\n",
    "        loss_batch = loss(output, labels)\n",
    "        sum_loss += loss_batch.item() * images.shape[0]\n",
    "        optimizer.zero_grad()\n",
    "        loss_batch.backward()\n",
    "        optimizer.step()\n",
    "    loss_per_epoch_tmp.append(sum_loss / len(train_set))\n",
    "    # save weights    \n",
    "    # torch.save(model.state_dict(), f\"./model_states/ep_{epoch}.pth\")\n",
    "    model.eval()\n",
    "    accuracy = []\n",
    "    #for batch_idx, (images, labels) in enumerate([first_batch]):\n",
    "    for images, labels in valid_dataloader:\n",
    "        output = model(images)\n",
    "        output = torch.argmax(output, 1)\n",
    "        accuracy.append(output == labels)\n",
    "    accuracy = torch.cat(accuracy).double().mean()\n",
    "    accuracy_per_epoch_tmp.append(accuracy)\n",
    "    print(f\"Epoch {epoch}, Avg loss {loss_per_epoch_tmp[-1]}, Validation set accuracy {accuracy}\")\n",
    "loss_per_epoch = loss_per_epoch_tmp\n",
    "accuracy_per_epoch = accuracy_per_epoch_tmp"
   ]
  },
  {
   "cell_type": "code",
   "execution_count": 6,
   "metadata": {
    "id": "Pf4aGJtclsZr"
   },
   "outputs": [
    {
     "name": "stdout",
     "output_type": "stream",
     "text": [
      "Test set accuracy 0.8557\n"
     ]
    }
   ],
   "source": [
    "test_dataloader = DataLoader(test_set, batch_size=512, shuffle=False) # no need to shuffle since we only test on it\n",
    "test_accuracy = []\n",
    "for images, labels in test_dataloader:\n",
    "    output = model(images)\n",
    "    output = torch.argmax(output, 1)\n",
    "    test_accuracy.append(output == labels)\n",
    "test_accuracy = torch.cat(test_accuracy).double().mean()\n",
    "print(f\"Test set accuracy {test_accuracy}\")"
   ]
  },
  {
   "cell_type": "markdown",
   "metadata": {},
   "source": [
    "# 5. Training and testing with shuffled pixels\n",
    "\n",
    "We want to see what happens if we shuffle the pixels of every image with the MLP performance. In theory if we shuffle every image in the same way MLP performance should not decrease as it does not care about pixel location."
   ]
  },
  {
   "cell_type": "code",
   "execution_count": 7,
   "metadata": {},
   "outputs": [
    {
     "name": "stdout",
     "output_type": "stream",
     "text": [
      "Epoch 0, Avg loss 1.5856854871881418, Validation set accuracy 0.7465\n",
      "Epoch 1, Avg loss 1.5856854871881418, Validation set accuracy 0.784\n",
      "Epoch 2, Avg loss 1.5856854871881418, Validation set accuracy 0.7955\n",
      "Epoch 3, Avg loss 1.5856854871881418, Validation set accuracy 0.8015\n",
      "Epoch 4, Avg loss 1.5856854871881418, Validation set accuracy 0.8045\n",
      "Epoch 5, Avg loss 1.5856854871881418, Validation set accuracy 0.805\n",
      "Epoch 6, Avg loss 1.5856854871881418, Validation set accuracy 0.7955\n",
      "Epoch 7, Avg loss 1.5856854871881418, Validation set accuracy 0.809\n",
      "Epoch 8, Avg loss 1.5856854871881418, Validation set accuracy 0.8115\n",
      "Epoch 9, Avg loss 1.5856854871881418, Validation set accuracy 0.8065\n"
     ]
    }
   ],
   "source": [
    "np.random.seed(42)\n",
    "shuffle = np.arange(0, 784) # We want to shuffle every image in the same way!\n",
    "np.random.shuffle(shuffle)\n",
    "loss = torch.nn.CrossEntropyLoss()\n",
    "\n",
    "# let's try to fix randomness\n",
    "torch.manual_seed(123)\n",
    "torch.cuda.manual_seed(123)\n",
    "\n",
    "shuffled_model = MLPModel()\n",
    "\n",
    "optimizer = Adam(shuffled_model.parameters(), lr=.001)\n",
    "# we want to train in batches\n",
    "train_dataloader = DataLoader(train_set, batch_size=128, shuffle=True)\n",
    "valid_dataloader = DataLoader(valid_set, batch_size=512, shuffle=False) # no need to shuffle since we only test on it\n",
    "loss_per_epoch_tmp_shuff = []\n",
    "accuracy_per_epoch_tmp_shuff = []\n",
    "for epoch in range(10):\n",
    "    shuffled_model.train()\n",
    "    sum_loss = 0.0\n",
    "    for images, labels in train_dataloader:\n",
    "        images = images.detach().clone()\n",
    "        images = images.reshape(images.shape[0], -1)\n",
    "        images = images[:, shuffle]\n",
    "        images = images.reshape(images.shape[0], 1, 28, 28)\n",
    "        output = shuffled_model(images)\n",
    "        loss_batch = loss(output, labels)\n",
    "        sum_loss += loss_batch.item() * images.shape[0]\n",
    "        optimizer.zero_grad()\n",
    "        loss_batch.backward()\n",
    "        optimizer.step()\n",
    "    loss_per_epoch_tmp_shuff.append(sum_loss / len(train_set))\n",
    "    # save weights    \n",
    "    #torch.save(shuffled_model.state_dict(), f\"./model_states/ep_{epoch}.pth\")\n",
    "    shuffled_model.eval()\n",
    "    accuracy = []\n",
    "    #for batch_idx, (images, labels) in enumerate([first_batch]):\n",
    "    for images, labels in valid_dataloader:\n",
    "        images = images.detach().clone()\n",
    "        images = images.reshape(images.shape[0], -1)\n",
    "        images = images[:, shuffle]\n",
    "        images = images.reshape(images.shape[0], 1, 28, 28)\n",
    "        output = shuffled_model(images)\n",
    "        output = torch.argmax(output, 1)\n",
    "        accuracy.append(output == labels)\n",
    "    accuracy = torch.cat(accuracy).double().mean()\n",
    "    accuracy_per_epoch_tmp_shuff.append(accuracy)\n",
    "    print(f\"Epoch {epoch}, Avg loss {loss_per_epoch_tmp[-1]}, Validation set accuracy {accuracy}\")\n",
    "loss_per_epoch_shuff = loss_per_epoch_tmp_shuff\n",
    "accuracy_per_epoch_shuff = accuracy_per_epoch_tmp_shuff"
   ]
  },
  {
   "cell_type": "markdown",
   "metadata": {},
   "source": [
    "Both models have similar validation set accuracies. So for MLP if we shuffle every image(including test and validation) in the same way it actually cannot understand the difference. For a convolutional network this would present a challenge."
   ]
  },
  {
   "cell_type": "code",
   "execution_count": 18,
   "metadata": {},
   "outputs": [
    {
     "data": {
      "text/plain": [
       "<matplotlib.legend.Legend at 0x7f7da8238f40>"
      ]
     },
     "execution_count": 18,
     "metadata": {},
     "output_type": "execute_result"
    },
    {
     "data": {
      "image/png": "[encoded data removed]",
      "text/plain": [
       "<Figure size 576x576 with 1 Axes>"
      ]
     },
     "metadata": {
      "needs_background": "light"
     },
     "output_type": "display_data"
    }
   ],
   "source": [
    "fig, ax = plt.subplots(1, 1, figsize=(8, 8))\n",
    "ax.set_title('Loss/Accuracy vs Epoch')\n",
    "lpes, = ax.plot(loss_per_epoch_shuff, label='Shuffled Loss', linestyle='dashed', color='red')\n",
    "lpe, = ax.plot(loss_per_epoch, label='Not Shuflled Loss', linestyle='dashed', color='blue')\n",
    "\n",
    "apes, = ax.plot(accuracy_per_epoch_shuff, label='Shuffled Accuracy', color='red')\n",
    "ape, = ax.plot(accuracy_per_epoch, label='Not Shuflled Accuracy', color='blue')\n",
    "\n",
    "ax.legend(handles=[apes, lpes, ape, lpe])"
   ]
  },
  {
   "cell_type": "markdown",
   "metadata": {},
   "source": [
    "We reason that difference between shuffled and not shuffled is due to randomness in weight initialization"
   ]
  }
 ],
 "metadata": {
  "colab": {
   "collapsed_sections": [],
   "name": "Deep_Learning_SoSe2022_EntryTask.ipynb",
   "provenance": []
  },
  "kernelspec": {
   "display_name": "Python 3 (ipykernel)",
   "language": "python",
   "name": "python3"
  },
  "language_info": {
   "codemirror_mode": {
    "name": "ipython",
    "version": 3
   },
   "file_extension": ".py",
   "mimetype": "text/x-python",
   "name": "python",
   "nbconvert_exporter": "python",
   "pygments_lexer": "ipython3",
   "version": "3.9.7"
  }
 },
 "nbformat": 4,
 "nbformat_minor": 4
}
