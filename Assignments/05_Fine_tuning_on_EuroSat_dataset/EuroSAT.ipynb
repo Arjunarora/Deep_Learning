{
 "cells": [
  {
   "cell_type": "code",
   "execution_count": 121,
   "metadata": {},
   "outputs": [
    {
     "name": "stdout",
     "output_type": "stream",
     "text": [
      "The tensorboard extension is already loaded. To reload it, use:\n",
      "  %reload_ext tensorboard\n"
     ]
    }
   ],
   "source": [
    "import tensorflow as tf\n",
    "from tensorflow import keras\n",
    "from tensorflow.keras.preprocessing.image import ImageDataGenerator\n",
    "from sklearn.model_selection import StratifiedShuffleSplit\n",
    "from tensorflow.keras.models import Sequential, Model\n",
    "from tensorflow.keras.layers import Dense, Flatten, Conv2D, MaxPooling2D, Dropout, Input, BatchNormalization\n",
    "from tensorflow.keras.optimizers import SGD, RMSprop, Adam, Adadelta, Adagrad, Adamax, Nadam\n",
    "from tensorflow.keras.optimizers.schedules import ExponentialDecay\n",
    "from tensorflow.keras.applications.vgg16 import VGG16, preprocess_input\n",
    "from tensorflow.keras.utils import to_categorical\n",
    "# Callbacks\n",
    "from tensorflow.keras.callbacks import ModelCheckpoint, EarlyStopping, TensorBoard\n",
    "# Visualization\n",
    "import matplotlib.pyplot as plt\n",
    "\n",
    "import numpy as np\n",
    "from sklearn.utils import shuffle\n",
    "from sklearn.model_selection import train_test_split\n",
    "\n",
    "from os.path import join,basename\n",
    "import requests, zipfile, re\n",
    "from glob import glob\n",
    "import pandas as pd\n",
    "import tifffile\n",
    "import datetime, os,io\n",
    "from tqdm import tqdm\n",
    "import shutil\n",
    "\n",
    "%load_ext tensorboard"
   ]
  },
  {
   "cell_type": "code",
   "execution_count": 122,
   "metadata": {},
   "outputs": [],
   "source": [
    "#Get file names\n",
    "with zipfile.ZipFile('EuroSAT.zip', 'r') as f:\n",
    "    names = f.namelist()\n",
    "\n",
    "txtfiles = [x for x in names if \".jpg\" in x]"
   ]
  },
  {
   "cell_type": "code",
   "execution_count": null,
   "metadata": {},
   "outputs": [],
   "source": []
  },
  {
   "cell_type": "code",
   "execution_count": 123,
   "metadata": {},
   "outputs": [
    {
     "name": "stdout",
     "output_type": "stream",
     "text": [
      "['Forest', 'River', 'Highway', 'AnnualCrop', 'SeaLake', 'HerbaceousVegetation', 'Industrial', 'Residential', 'PermanentCrop', 'Pasture']\n"
     ]
    }
   ],
   "source": [
    "DATASET = \"2750\"\n",
    "\n",
    "LABELS = os.listdir(DATASET)\n",
    "print(LABELS)\n"
   ]
  },
  {
   "cell_type": "code",
   "execution_count": 124,
   "metadata": {},
   "outputs": [
    {
     "data": {
      "image/png": "[encoded data removed]",
      "text/plain": [
       "<Figure size 864x432 with 1 Axes>"
      ]
     },
     "metadata": {
      "needs_background": "light"
     },
     "output_type": "display_data"
    }
   ],
   "source": [
    "# plot class distributions of whole dataset\n",
    "counts = {}\n",
    "\n",
    "for l in LABELS:\n",
    "    counts[l] = len(glob(join(DATASET,l,\"*.jpg\")))\n",
    "\n",
    "    \n",
    "plt.figure(figsize=(12, 6))\n",
    "\n",
    "plt.bar(range(len(counts)), list(counts.values()), align='center')\n",
    "plt.xticks(range(len(counts)), list(counts.keys()), fontsize=12, rotation=40)\n",
    "plt.xlabel('class label', fontsize=13)\n",
    "plt.ylabel('class size', fontsize=13)\n",
    "plt.title('EUROSAT Class Distribution', fontsize=15);"
   ]
  },
  {
   "cell_type": "code",
   "execution_count": 125,
   "metadata": {},
   "outputs": [],
   "source": [
    "TRAIN_DIR = 'EuroSAT/train'\n",
    "TEST_DIR = 'EuroSAT/test'\n",
    "BATCH_SIZE = 64\n",
    "NUM_CLASSES=len(LABELS)\n",
    "INPUT_SHAPE = (64, 64, 3)\n",
    "CLASS_MODE = 'categorical'\n",
    "\n",
    "# create training and testing directories\n",
    "for path in (TRAIN_DIR, TEST_DIR):\n",
    "    if not os.path.exists(path):\n",
    "        os.mkdir(path)\n",
    "\n",
    "# create class label subdirectories in train and test\n",
    "for l in LABELS:\n",
    "    \n",
    "    if not os.path.exists(os.path.join(TRAIN_DIR, l)):\n",
    "        os.mkdir(os.path.join(TRAIN_DIR, l))\n",
    "\n",
    "    if not os.path.exists(os.path.join(TEST_DIR, l)):\n",
    "        os.mkdir(os.path.join(TEST_DIR, l))\n"
   ]
  },
  {
   "cell_type": "code",
   "execution_count": 126,
   "metadata": {},
   "outputs": [
    {
     "name": "stdout",
     "output_type": "stream",
     "text": [
      "moving training files..\n"
     ]
    },
    {
     "name": "stderr",
     "output_type": "stream",
     "text": [
      " 40%|███▉      | 8630/21600 [00:00<00:00, 494215.58it/s]\n"
     ]
    },
    {
     "ename": "FileNotFoundError",
     "evalue": "[Errno 2] No such file or directory: 'EuroSAT/train/HerbaceousVegetation/HerbaceousVegetation_EuroSAT/train.jpg'",
     "output_type": "error",
     "traceback": [
      "\u001b[0;31m---------------------------------------------------------------------------\u001b[0m",
      "\u001b[0;31mFileNotFoundError\u001b[0m                         Traceback (most recent call last)",
      "\u001b[1;32m/Users/arjunarora/Documents/TUB/Studies/SS22/DL SS22/EuroSAT/EuroSAT.ipynb Cell 7'\u001b[0m in \u001b[0;36m<cell line: 14>\u001b[0;34m()\u001b[0m\n\u001b[1;32m     <a href='vscode-notebook-cell:/Users/arjunarora/Documents/TUB/Studies/SS22/DL%20SS22/EuroSAT/EuroSAT.ipynb#ch0000006?line=28'>29</a>\u001b[0m     \u001b[39mif\u001b[39;00m \u001b[39mnot\u001b[39;00m os\u001b[39m.\u001b[39mpath\u001b[39m.\u001b[39mexists(i[\u001b[39m1\u001b[39m]):\n\u001b[1;32m     <a href='vscode-notebook-cell:/Users/arjunarora/Documents/TUB/Studies/SS22/DL%20SS22/EuroSAT/EuroSAT.ipynb#ch0000006?line=29'>30</a>\u001b[0m         \u001b[39mif\u001b[39;00m \u001b[39mnot\u001b[39;00m os\u001b[39m.\u001b[39mpath\u001b[39m.\u001b[39mexists(re\u001b[39m.\u001b[39msub(\u001b[39m'\u001b[39m\u001b[39mtrain\u001b[39m\u001b[39m'\u001b[39m, \u001b[39m'\u001b[39m\u001b[39mtest\u001b[39m\u001b[39m'\u001b[39m, i[\u001b[39m1\u001b[39m])):\n\u001b[0;32m---> <a href='vscode-notebook-cell:/Users/arjunarora/Documents/TUB/Studies/SS22/DL%20SS22/EuroSAT/EuroSAT.ipynb#ch0000006?line=30'>31</a>\u001b[0m             shutil\u001b[39m.\u001b[39;49mcopy(i[\u001b[39m0\u001b[39;49m], i[\u001b[39m1\u001b[39;49m])\n\u001b[1;32m     <a href='vscode-notebook-cell:/Users/arjunarora/Documents/TUB/Studies/SS22/DL%20SS22/EuroSAT/EuroSAT.ipynb#ch0000006?line=32'>33</a>\u001b[0m \u001b[39mprint\u001b[39m(\u001b[39m\"\u001b[39m\u001b[39mmoving testing files..\u001b[39m\u001b[39m\"\u001b[39m)\n\u001b[1;32m     <a href='vscode-notebook-cell:/Users/arjunarora/Documents/TUB/Studies/SS22/DL%20SS22/EuroSAT/EuroSAT.ipynb#ch0000006?line=33'>34</a>\u001b[0m \u001b[39mfor\u001b[39;00m i \u001b[39min\u001b[39;00m tqdm(test_path_map):\n",
      "File \u001b[0;32m~/miniforge3/envs/deep/lib/python3.10/shutil.py:417\u001b[0m, in \u001b[0;36mcopy\u001b[0;34m(src, dst, follow_symlinks)\u001b[0m\n\u001b[1;32m    415\u001b[0m \u001b[39mif\u001b[39;00m os\u001b[39m.\u001b[39mpath\u001b[39m.\u001b[39misdir(dst):\n\u001b[1;32m    416\u001b[0m     dst \u001b[39m=\u001b[39m os\u001b[39m.\u001b[39mpath\u001b[39m.\u001b[39mjoin(dst, os\u001b[39m.\u001b[39mpath\u001b[39m.\u001b[39mbasename(src))\n\u001b[0;32m--> 417\u001b[0m copyfile(src, dst, follow_symlinks\u001b[39m=\u001b[39;49mfollow_symlinks)\n\u001b[1;32m    418\u001b[0m copymode(src, dst, follow_symlinks\u001b[39m=\u001b[39mfollow_symlinks)\n\u001b[1;32m    419\u001b[0m \u001b[39mreturn\u001b[39;00m dst\n",
      "File \u001b[0;32m~/miniforge3/envs/deep/lib/python3.10/shutil.py:256\u001b[0m, in \u001b[0;36mcopyfile\u001b[0;34m(src, dst, follow_symlinks)\u001b[0m\n\u001b[1;32m    254\u001b[0m \u001b[39mwith\u001b[39;00m \u001b[39mopen\u001b[39m(src, \u001b[39m'\u001b[39m\u001b[39mrb\u001b[39m\u001b[39m'\u001b[39m) \u001b[39mas\u001b[39;00m fsrc:\n\u001b[1;32m    255\u001b[0m     \u001b[39mtry\u001b[39;00m:\n\u001b[0;32m--> 256\u001b[0m         \u001b[39mwith\u001b[39;00m \u001b[39mopen\u001b[39;49m(dst, \u001b[39m'\u001b[39;49m\u001b[39mwb\u001b[39;49m\u001b[39m'\u001b[39;49m) \u001b[39mas\u001b[39;00m fdst:\n\u001b[1;32m    257\u001b[0m             \u001b[39m# macOS\u001b[39;00m\n\u001b[1;32m    258\u001b[0m             \u001b[39mif\u001b[39;00m _HAS_FCOPYFILE:\n\u001b[1;32m    259\u001b[0m                 \u001b[39mtry\u001b[39;00m:\n",
      "\u001b[0;31mFileNotFoundError\u001b[0m: [Errno 2] No such file or directory: 'EuroSAT/train/HerbaceousVegetation/HerbaceousVegetation_EuroSAT/train.jpg'"
     ]
    }
   ],
   "source": [
    "# map each image path to their class label in 'data'\n",
    "data = {}\n",
    "\n",
    "for l in LABELS:\n",
    "    for img in os.listdir(DATASET+'/'+l):\n",
    "        data.update({os.path.join(DATASET, l, img): l})\n",
    "\n",
    "X = pd.Series(list(data.keys()))\n",
    "y = pd.get_dummies(pd.Series(data.values()))\n",
    "\n",
    "split = StratifiedShuffleSplit(n_splits=1, test_size=0.2, random_state=69)\n",
    "\n",
    "# split the list of image paths\n",
    "for train_idx, test_idx in split.split(X, y):\n",
    "    \n",
    "    train_paths = X[train_idx]\n",
    "    test_paths = X[test_idx]\n",
    "\n",
    "    # define a new path for each image depending on training or testing\n",
    "    new_train_paths = [re.sub('2750', 'EuroSAT/train', i) for i in train_paths]\n",
    "    new_test_paths = [re.sub('2750', 'EuroSAT/test', i) for i in test_paths]\n",
    "\n",
    "    train_path_map = list((zip(train_paths, new_train_paths)))\n",
    "    test_path_map = list((zip(test_paths, new_test_paths)))\n",
    "    \n",
    "    # move the files\n",
    "    print(\"moving training files..\")\n",
    "    for i in tqdm(train_path_map):\n",
    "        if not os.path.exists(i[1]):\n",
    "            if not os.path.exists(re.sub('train', 'test', i[1])):\n",
    "                shutil.copy(i[0], i[1])\n",
    "    \n",
    "    print(\"moving testing files..\")\n",
    "    for i in tqdm(test_path_map):\n",
    "        if not os.path.exists(i[1]):\n",
    "            if not os.path.exists(re.sub('train', 'test', i[1])):\n",
    "                shutil.copy(i[0], i[1])"
   ]
  },
  {
   "cell_type": "code",
   "execution_count": 127,
   "metadata": {},
   "outputs": [
    {
     "name": "stdout",
     "output_type": "stream",
     "text": [
      "['Forest', 'River', 'Highway', 'AnnualCrop', 'SeaLake', 'HerbaceousVegetation', 'Industrial', 'Residential', 'PermanentCrop', 'Pasture']\n"
     ]
    }
   ],
   "source": [
    "DATASET = \"input/EUROSAT\"\n",
    "\n",
    "LABELS = os.listdir(DATASET)\n",
    "print(LABELS)\n"
   ]
  },
  {
   "cell_type": "code",
   "execution_count": 128,
   "metadata": {},
   "outputs": [
    {
     "data": {
      "image/png": "[encoded data removed]",
      "text/plain": [
       "<Figure size 720x360 with 1 Axes>"
      ]
     },
     "metadata": {
      "needs_background": "light"
     },
     "output_type": "display_data"
    }
   ],
   "source": [
    "# plot class distributions of whole dataset\n",
    "counts = {}\n",
    "\n",
    "for l in LABELS:\n",
    "    counts[l] = len(os.listdir(os.path.join(DATASET, l)))\n",
    "\n",
    "    \n",
    "plt.figure(figsize=(10, 5))\n",
    "\n",
    "plt.bar(range(len(counts)), list(counts.values()), align='center')\n",
    "plt.xticks(range(len(counts)), list(counts.keys()), fontsize=12, rotation=80)\n",
    "plt.xlabel('class label', fontsize=13)\n",
    "plt.ylabel('class size', fontsize=13)\n",
    "plt.title('EUROSAT Class Distribution', fontsize=15);"
   ]
  },
  {
   "cell_type": "code",
   "execution_count": 129,
   "metadata": {},
   "outputs": [],
   "source": [
    "import re\n",
    "from sklearn.model_selection import StratifiedShuffleSplit\n",
    "from keras.preprocessing.image import ImageDataGenerator\n",
    "\n",
    "TRAIN_DIR = 'working/training'\n",
    "TEST_DIR = 'working/testing'\n",
    "BATCH_SIZE = 128\n",
    "NUM_CLASSES=len(LABELS)\n",
    "INPUT_SHAPE = (64, 64, 3)\n",
    "CLASS_MODE = 'categorical'\n",
    "\n",
    "# create training and testing directories\n",
    "for path in (TRAIN_DIR, TEST_DIR):\n",
    "    if not os.path.exists(path):\n",
    "        os.mkdir(path)\n",
    "\n",
    "# create class label subdirectories in train and test\n",
    "for l in LABELS:\n",
    "    \n",
    "    if not os.path.exists(os.path.join(TRAIN_DIR, l)):\n",
    "        os.mkdir(os.path.join(TRAIN_DIR, l))\n",
    "\n",
    "    if not os.path.exists(os.path.join(TEST_DIR, l)):\n",
    "        os.mkdir(os.path.join(TEST_DIR, l))"
   ]
  },
  {
   "cell_type": "code",
   "execution_count": 132,
   "metadata": {},
   "outputs": [
    {
     "name": "stdout",
     "output_type": "stream",
     "text": [
      "moving training files..\n"
     ]
    },
    {
     "name": "stderr",
     "output_type": "stream",
     "text": [
      "100%|██████████| 18900/18900 [00:04<00:00, 4668.94it/s]\n"
     ]
    },
    {
     "name": "stdout",
     "output_type": "stream",
     "text": [
      "moving testing files..\n"
     ]
    },
    {
     "name": "stderr",
     "output_type": "stream",
     "text": [
      "100%|██████████| 8100/8100 [00:01<00:00, 4526.48it/s]\n"
     ]
    }
   ],
   "source": [
    "data = {}\n",
    "\n",
    "for l in LABELS:\n",
    "    for img in os.listdir(DATASET+'/'+l):\n",
    "        data.update({os.path.join(DATASET, l, img): l})\n",
    "\n",
    "X = pd.Series(list(data.keys()))\n",
    "y = pd.get_dummies(pd.Series(data.values()))\n",
    "\n",
    "split = StratifiedShuffleSplit(n_splits=1, test_size=0.3, random_state=69)\n",
    "\n",
    "# split the list of image paths\n",
    "for train_idx, test_idx in split.split(X, y):\n",
    "    \n",
    "    train_paths = X[train_idx]\n",
    "    test_paths = X[test_idx]\n",
    "\n",
    "    # define a new path for each image depending on training or testing\n",
    "    new_train_paths = [re.sub('input\\/EUROSAT', 'working/training', i) for i in train_paths]\n",
    "    new_test_paths = [re.sub('input\\/EUROSAT', 'working/testing', i) for i in test_paths]\n",
    "\n",
    "    train_path_map = list((zip(train_paths, new_train_paths)))\n",
    "    test_path_map = list((zip(test_paths, new_test_paths)))\n",
    "    \n",
    "    # move the files\n",
    "    print(\"moving training files..\")\n",
    "    for i in tqdm(train_path_map):\n",
    "        if not os.path.exists(i[1]):\n",
    "            if not os.path.exists(re.sub('training', 'testing', i[1])):\n",
    "                shutil.copy(i[0], i[1])\n",
    "    \n",
    "    print(\"moving testing files..\")\n",
    "    for i in tqdm(test_path_map):\n",
    "        if not os.path.exists(i[1]):\n",
    "            if not os.path.exists(re.sub('training', 'testing', i[1])):\n",
    "                shutil.copy(i[0], i[1])\n",
    "\n"
   ]
  },
  {
   "cell_type": "code",
   "execution_count": 133,
   "metadata": {},
   "outputs": [
    {
     "name": "stdout",
     "output_type": "stream",
     "text": [
      "Found 13230 images belonging to 10 classes.\n",
      "Found 5670 images belonging to 10 classes.\n",
      "Found 8100 images belonging to 10 classes.\n"
     ]
    }
   ],
   "source": [
    "# training generator - create one for validation subset\n",
    "train_gen = ImageDataGenerator(\n",
    "    rescale=1./255,\n",
    "    rotation_range=60,\n",
    "    width_shift_range=0.3,\n",
    "    height_shift_range=0.3,\n",
    "    shear_range=0.3,\n",
    "    zoom_range=0.3,\n",
    "    horizontal_flip=True,\n",
    "    validation_split=0.3\n",
    ")\n",
    "\n",
    "train_generator = train_gen.flow_from_directory(\n",
    "    directory=TRAIN_DIR,\n",
    "    target_size=(64, 64),\n",
    "    batch_size=BATCH_SIZE,\n",
    "    class_mode=CLASS_MODE,\n",
    "    subset='training',\n",
    "    color_mode='rgb',\n",
    "    shuffle=True,\n",
    "    seed=69\n",
    ")\n",
    "\n",
    "valid_generator = train_gen.flow_from_directory(\n",
    "    directory=TRAIN_DIR,\n",
    "    target_size=(64, 64),\n",
    "    batch_size=BATCH_SIZE,\n",
    "    class_mode=CLASS_MODE,\n",
    "    subset='validation',    \n",
    "    color_mode='rgb',\n",
    "    shuffle=True,\n",
    "    seed=69\n",
    ")\n",
    "\n",
    "# test generator for evaluation purposes - no augmentations, just rescaling\n",
    "test_gen = ImageDataGenerator(\n",
    "    rescale=1./255\n",
    ")\n",
    "\n",
    "test_generator = test_gen.flow_from_directory(\n",
    "    directory=TEST_DIR,\n",
    "    target_size=(64, 64),\n",
    "    batch_size=1,\n",
    "    class_mode=None,\n",
    "    color_mode='rgb',\n",
    "    shuffle=False,\n",
    "    seed=69\n",
    ")"
   ]
  },
  {
   "cell_type": "code",
   "execution_count": 134,
   "metadata": {},
   "outputs": [
    {
     "name": "stdout",
     "output_type": "stream",
     "text": [
      "{'AnnualCrop': 0, 'Forest': 1, 'HerbaceousVegetation': 2, 'Highway': 3, 'Industrial': 4, 'Pasture': 5, 'PermanentCrop': 6, 'Residential': 7, 'River': 8, 'SeaLake': 9}\n"
     ]
    }
   ],
   "source": [
    "print(train_generator.class_indices)"
   ]
  },
  {
   "cell_type": "code",
   "execution_count": 135,
   "metadata": {},
   "outputs": [],
   "source": [
    "np.save('class_indices', train_generator.class_indices)"
   ]
  },
  {
   "cell_type": "code",
   "execution_count": 136,
   "metadata": {},
   "outputs": [],
   "source": [
    "\n",
    "\n",
    "import tensorflow as tf\n",
    "from keras.models import Model\n",
    "from keras.layers import Dense\n",
    "from keras.callbacks import ModelCheckpoint, EarlyStopping\n",
    "from keras.optimizers import Adagrad\n",
    "\n",
    "\n",
    "from keras.applications.vgg16 import VGG16\n",
    "\n",
    "\n",
    "from sklearn.metrics import precision_recall_fscore_support, confusion_matrix"
   ]
  },
  {
   "cell_type": "code",
   "execution_count": 137,
   "metadata": {},
   "outputs": [
    {
     "name": "stdout",
     "output_type": "stream",
     "text": [
      "Metal device set to: Apple M1\n",
      "\n",
      "systemMemory: 16.00 GB\n",
      "maxCacheSize: 5.33 GB\n",
      "\n"
     ]
    },
    {
     "name": "stderr",
     "output_type": "stream",
     "text": [
      "2022-06-23 23:30:55.007087: I tensorflow/core/common_runtime/pluggable_device/pluggable_device_factory.cc:305] Could not identify NUMA node of platform GPU ID 0, defaulting to 0. Your kernel may not have been built with NUMA support.\n",
      "2022-06-23 23:30:55.007682: I tensorflow/core/common_runtime/pluggable_device/pluggable_device_factory.cc:271] Created TensorFlow device (/job:localhost/replica:0/task:0/device:GPU:0 with 0 MB memory) -> physical PluggableDevice (device: 0, name: METAL, pci bus id: <undefined>)\n"
     ]
    },
    {
     "name": "stdout",
     "output_type": "stream",
     "text": [
      "Downloading data from https://storage.googleapis.com/tensorflow/keras-applications/vgg16/vgg16_weights_tf_dim_ordering_tf_kernels.h5\n",
      "553467096/553467096 [==============================] - 100s 0us/step\n",
      "Model: \"vgg16\"\n",
      "_________________________________________________________________\n",
      " Layer (type)                Output Shape              Param #   \n",
      "=================================================================\n",
      " input_1 (InputLayer)        [(None, 224, 224, 3)]     0         \n",
      "                                                                 \n",
      " block1_conv1 (Conv2D)       (None, 224, 224, 64)      1792      \n",
      "                                                                 \n",
      " block1_conv2 (Conv2D)       (None, 224, 224, 64)      36928     \n",
      "                                                                 \n",
      " block1_pool (MaxPooling2D)  (None, 112, 112, 64)      0         \n",
      "                                                                 \n",
      " block2_conv1 (Conv2D)       (None, 112, 112, 128)     73856     \n",
      "                                                                 \n",
      " block2_conv2 (Conv2D)       (None, 112, 112, 128)     147584    \n",
      "                                                                 \n",
      " block2_pool (MaxPooling2D)  (None, 56, 56, 128)       0         \n",
      "                                                                 \n",
      " block3_conv1 (Conv2D)       (None, 56, 56, 256)       295168    \n",
      "                                                                 \n",
      " block3_conv2 (Conv2D)       (None, 56, 56, 256)       590080    \n",
      "                                                                 \n",
      " block3_conv3 (Conv2D)       (None, 56, 56, 256)       590080    \n",
      "                                                                 \n",
      " block3_pool (MaxPooling2D)  (None, 28, 28, 256)       0         \n",
      "                                                                 \n",
      " block4_conv1 (Conv2D)       (None, 28, 28, 512)       1180160   \n",
      "                                                                 \n",
      " block4_conv2 (Conv2D)       (None, 28, 28, 512)       2359808   \n",
      "                                                                 \n",
      " block4_conv3 (Conv2D)       (None, 28, 28, 512)       2359808   \n",
      "                                                                 \n",
      " block4_pool (MaxPooling2D)  (None, 14, 14, 512)       0         \n",
      "                                                                 \n",
      " block5_conv1 (Conv2D)       (None, 14, 14, 512)       2359808   \n",
      "                                                                 \n",
      " block5_conv2 (Conv2D)       (None, 14, 14, 512)       2359808   \n",
      "                                                                 \n",
      " block5_conv3 (Conv2D)       (None, 14, 14, 512)       2359808   \n",
      "                                                                 \n",
      " block5_pool (MaxPooling2D)  (None, 7, 7, 512)         0         \n",
      "                                                                 \n",
      " flatten (Flatten)           (None, 25088)             0         \n",
      "                                                                 \n",
      " fc1 (Dense)                 (None, 4096)              102764544 \n",
      "                                                                 \n",
      " fc2 (Dense)                 (None, 4096)              16781312  \n",
      "                                                                 \n",
      " predictions (Dense)         (None, 1000)              4097000   \n",
      "                                                                 \n",
      "=================================================================\n",
      "Total params: 138,357,544\n",
      "Trainable params: 138,357,544\n",
      "Non-trainable params: 0\n",
      "_________________________________________________________________\n"
     ]
    }
   ],
   "source": [
    "# Full VGG16 model\n",
    "VGG16(weights=\"imagenet\",\n",
    "      include_top=True,      \n",
    "      input_shape=(224,224,3)).summary()"
   ]
  },
  {
   "cell_type": "code",
   "execution_count": 138,
   "metadata": {},
   "outputs": [
    {
     "name": "stdout",
     "output_type": "stream",
     "text": [
      "Downloading data from https://storage.googleapis.com/tensorflow/keras-applications/vgg16/vgg16_weights_tf_dim_ordering_tf_kernels_notop.h5\n",
      "58889256/58889256 [==============================] - 122s 2us/step\n",
      "Model: \"vgg16\"\n",
      "_________________________________________________________________\n",
      " Layer (type)                Output Shape              Param #   \n",
      "=================================================================\n",
      " input_2 (InputLayer)        [(None, 224, 224, 3)]     0         \n",
      "                                                                 \n",
      " block1_conv1 (Conv2D)       (None, 224, 224, 64)      1792      \n",
      "                                                                 \n",
      " block1_conv2 (Conv2D)       (None, 224, 224, 64)      36928     \n",
      "                                                                 \n",
      " block1_pool (MaxPooling2D)  (None, 112, 112, 64)      0         \n",
      "                                                                 \n",
      " block2_conv1 (Conv2D)       (None, 112, 112, 128)     73856     \n",
      "                                                                 \n",
      " block2_conv2 (Conv2D)       (None, 112, 112, 128)     147584    \n",
      "                                                                 \n",
      " block2_pool (MaxPooling2D)  (None, 56, 56, 128)       0         \n",
      "                                                                 \n",
      " block3_conv1 (Conv2D)       (None, 56, 56, 256)       295168    \n",
      "                                                                 \n",
      " block3_conv2 (Conv2D)       (None, 56, 56, 256)       590080    \n",
      "                                                                 \n",
      " block3_conv3 (Conv2D)       (None, 56, 56, 256)       590080    \n",
      "                                                                 \n",
      " block3_pool (MaxPooling2D)  (None, 28, 28, 256)       0         \n",
      "                                                                 \n",
      " block4_conv1 (Conv2D)       (None, 28, 28, 512)       1180160   \n",
      "                                                                 \n",
      " block4_conv2 (Conv2D)       (None, 28, 28, 512)       2359808   \n",
      "                                                                 \n",
      " block4_conv3 (Conv2D)       (None, 28, 28, 512)       2359808   \n",
      "                                                                 \n",
      " block4_pool (MaxPooling2D)  (None, 14, 14, 512)       0         \n",
      "                                                                 \n",
      " block5_conv1 (Conv2D)       (None, 14, 14, 512)       2359808   \n",
      "                                                                 \n",
      " block5_conv2 (Conv2D)       (None, 14, 14, 512)       2359808   \n",
      "                                                                 \n",
      " block5_conv3 (Conv2D)       (None, 14, 14, 512)       2359808   \n",
      "                                                                 \n",
      " block5_pool (MaxPooling2D)  (None, 7, 7, 512)         0         \n",
      "                                                                 \n",
      "=================================================================\n",
      "Total params: 14,714,688\n",
      "Trainable params: 14,714,688\n",
      "Non-trainable params: 0\n",
      "_________________________________________________________________\n"
     ]
    }
   ],
   "source": [
    "# VGG16 model without top layers (feature extractor)\n",
    "VGG16(weights=\"imagenet\",\n",
    "      include_top=False,      \n",
    "      input_shape=(224,224,3)).summary()"
   ]
  },
  {
   "cell_type": "code",
   "execution_count": 139,
   "metadata": {},
   "outputs": [],
   "source": [
    "def get_vgg_model(n_classes, fine_tuning=True):\n",
    "    # Pre-trained model VGG16 with ImageNet\n",
    "    base_model = VGG16(weights=\"imagenet\",\n",
    "                       include_top=False,\n",
    "                       input_shape=(256,256,3),\n",
    "                       classes=n_classes\n",
    "                       )\n",
    "            \n",
    "    model = Sequential([base_model,\n",
    "                        Flatten(),\n",
    "                        Dense(100, activation=\"relu\"),\n",
    "                        Dense(50, activation=\"relu\"),\n",
    "                        Dense(n_classes, activation=\"softmax\")]\n",
    "                       )\n",
    "    \n",
    "    model.compile(optimizer=SGD(learning_rate=0.001),\n",
    "                  loss=\"categorical_crossentropy\",\n",
    "                  metrics=['accuracy']\n",
    "                  )\n",
    "    \n",
    "    if fine_tuning:\n",
    "        base_model.trainable = False\n",
    "    else:\n",
    "        model.trainable = False\n",
    "\n",
    "    return model"
   ]
  },
  {
   "cell_type": "code",
   "execution_count": 140,
   "metadata": {},
   "outputs": [
    {
     "name": "stdout",
     "output_type": "stream",
     "text": [
      "Model: \"sequential\"\n",
      "_________________________________________________________________\n",
      " Layer (type)                Output Shape              Param #   \n",
      "=================================================================\n",
      " vgg16 (Functional)          (None, 8, 8, 512)         14714688  \n",
      "                                                                 \n",
      " flatten (Flatten)           (None, 32768)             0         \n",
      "                                                                 \n",
      " dense (Dense)               (None, 100)               3276900   \n",
      "                                                                 \n",
      " dense_1 (Dense)             (None, 50)                5050      \n",
      "                                                                 \n",
      " dense_2 (Dense)             (None, 10)                510       \n",
      "                                                                 \n",
      "=================================================================\n",
      "Total params: 17,997,148\n",
      "Trainable params: 0\n",
      "Non-trainable params: 17,997,148\n",
      "_________________________________________________________________\n",
      "Model: \"sequential_1\"\n",
      "_________________________________________________________________\n",
      " Layer (type)                Output Shape              Param #   \n",
      "=================================================================\n",
      " vgg16 (Functional)          (None, 8, 8, 512)         14714688  \n",
      "                                                                 \n",
      " flatten_1 (Flatten)         (None, 32768)             0         \n",
      "                                                                 \n",
      " dense_3 (Dense)             (None, 100)               3276900   \n",
      "                                                                 \n",
      " dense_4 (Dense)             (None, 50)                5050      \n",
      "                                                                 \n",
      " dense_5 (Dense)             (None, 10)                510       \n",
      "                                                                 \n",
      "=================================================================\n",
      "Total params: 17,997,148\n",
      "Trainable params: 3,282,460\n",
      "Non-trainable params: 14,714,688\n",
      "_________________________________________________________________\n"
     ]
    }
   ],
   "source": [
    "n_classes = len(LABELS)\n",
    "model_vgg16 = get_vgg_model(n_classes=n_classes, fine_tuning=False)\n",
    "model_vgg16_fine_tune = get_vgg_model(n_classes=n_classes, fine_tuning=True)\n",
    "\n",
    "model_vgg16.summary()\n",
    "model_vgg16_fine_tune.summary()"
   ]
  },
  {
   "cell_type": "code",
   "execution_count": 141,
   "metadata": {},
   "outputs": [],
   "source": [
    "def compile_model(input_shape, n_classes, optimizer, fine_tune=None):\n",
    "    \n",
    "    conv_base = VGG16(include_top=False,\n",
    "                     weights='imagenet', \n",
    "                     input_shape=input_shape,\n",
    "                     pooling='avg')\n",
    "    \n",
    "    top_model = conv_base.output\n",
    "    top_model = Dense(2048, activation='relu')(top_model)\n",
    "    output_layer = Dense(n_classes, activation='softmax')(top_model)\n",
    "    \n",
    "    model = Model(inputs=conv_base.input, outputs=output_layer)\n",
    "        \n",
    "    if type(fine_tune) == int:\n",
    "        for layer in conv_base.layers[fine_tune:]:\n",
    "            layer.trainable = True\n",
    "    else:\n",
    "        for layer in conv_base.layers:\n",
    "            layer.trainable = False\n",
    "\n",
    "    model.compile(optimizer=optimizer, loss='categorical_crossentropy',\n",
    "                 metrics=['categorical_accuracy'])\n",
    "    \n",
    "    return model"
   ]
  },
  {
   "cell_type": "code",
   "execution_count": 158,
   "metadata": {},
   "outputs": [
    {
     "name": "stdout",
     "output_type": "stream",
     "text": [
      "Model: \"model_2\"\n",
      "_________________________________________________________________\n",
      " Layer (type)                Output Shape              Param #   \n",
      "=================================================================\n",
      " input_14 (InputLayer)       [(None, 64, 64, 3)]       0         \n",
      "                                                                 \n",
      " block1_conv1 (Conv2D)       (None, 64, 64, 64)        1792      \n",
      "                                                                 \n",
      " block1_conv2 (Conv2D)       (None, 64, 64, 64)        36928     \n",
      "                                                                 \n",
      " block1_pool (MaxPooling2D)  (None, 32, 32, 64)        0         \n",
      "                                                                 \n",
      " block2_conv1 (Conv2D)       (None, 32, 32, 128)       73856     \n",
      "                                                                 \n",
      " block2_conv2 (Conv2D)       (None, 32, 32, 128)       147584    \n",
      "                                                                 \n",
      " block2_pool (MaxPooling2D)  (None, 16, 16, 128)       0         \n",
      "                                                                 \n",
      " block3_conv1 (Conv2D)       (None, 16, 16, 256)       295168    \n",
      "                                                                 \n",
      " block3_conv2 (Conv2D)       (None, 16, 16, 256)       590080    \n",
      "                                                                 \n",
      " block3_conv3 (Conv2D)       (None, 16, 16, 256)       590080    \n",
      "                                                                 \n",
      " block3_pool (MaxPooling2D)  (None, 8, 8, 256)         0         \n",
      "                                                                 \n",
      " block4_conv1 (Conv2D)       (None, 8, 8, 512)         1180160   \n",
      "                                                                 \n",
      " block4_conv2 (Conv2D)       (None, 8, 8, 512)         2359808   \n",
      "                                                                 \n",
      " block4_conv3 (Conv2D)       (None, 8, 8, 512)         2359808   \n",
      "                                                                 \n",
      " block4_pool (MaxPooling2D)  (None, 4, 4, 512)         0         \n",
      "                                                                 \n",
      " block5_conv1 (Conv2D)       (None, 4, 4, 512)         2359808   \n",
      "                                                                 \n",
      " block5_conv2 (Conv2D)       (None, 4, 4, 512)         2359808   \n",
      "                                                                 \n",
      " block5_conv3 (Conv2D)       (None, 4, 4, 512)         2359808   \n",
      "                                                                 \n",
      " block5_pool (MaxPooling2D)  (None, 2, 2, 512)         0         \n",
      "                                                                 \n",
      " global_average_pooling2d_2   (None, 512)              0         \n",
      " (GlobalAveragePooling2D)                                        \n",
      "                                                                 \n",
      " dense_10 (Dense)            (None, 2048)              1050624   \n",
      "                                                                 \n",
      " dense_11 (Dense)            (None, 10)                20490     \n",
      "                                                                 \n",
      "=================================================================\n",
      "Total params: 15,785,802\n",
      "Trainable params: 1,071,114\n",
      "Non-trainable params: 14,714,688\n",
      "_________________________________________________________________\n"
     ]
    }
   ],
   "source": [
    "optim = Adagrad()\n",
    "model = compile_model((64,64,3), 10, optim, fine_tune=None)\n",
    "model.summary()"
   ]
  },
  {
   "cell_type": "code",
   "execution_count": 159,
   "metadata": {},
   "outputs": [],
   "source": [
    "N_STEPS = train_generator.samples//BATCH_SIZE\n",
    "N_VAL_STEPS = valid_generator.samples//BATCH_SIZE\n",
    "N_EPOCHS = 100\n",
    "\n",
    "   # model callbacks\n",
    "checkpoint = ModelCheckpoint(filepath='working/model.weights.best.hdf5',\n",
    "                        monitor='val_categorical_accuracy',\n",
    "                        save_best_only=True,\n",
    "                        verbose=1)\n",
    "\n",
    "early_stop = EarlyStopping(monitor='val_categorical_accuracy',\n",
    "                           patience=10,\n",
    "                           restore_best_weights=True,\n",
    "                           mode='max')"
   ]
  },
  {
   "cell_type": "code",
   "execution_count": 160,
   "metadata": {},
   "outputs": [
    {
     "name": "stdout",
     "output_type": "stream",
     "text": [
      "Epoch 1/100\n"
     ]
    },
    {
     "name": "stderr",
     "output_type": "stream",
     "text": [
      "/var/folders/wm/jf5bq5r94mqgp8j4gnpmb7xw0000gn/T/ipykernel_16370/3581953124.py:1: UserWarning: `Model.fit_generator` is deprecated and will be removed in a future version. Please use `Model.fit`, which supports generators.\n",
      "  history = model.fit_generator(train_generator,\n",
      "2022-06-24 00:10:52.214151: I tensorflow/core/grappler/optimizers/custom_graph_optimizer_registry.cc:113] Plugin optimizer for device_type GPU is enabled.\n"
     ]
    },
    {
     "name": "stdout",
     "output_type": "stream",
     "text": [
      "103/103 [==============================] - ETA: 0s - loss: 2.1710 - categorical_accuracy: 0.2769"
     ]
    },
    {
     "name": "stderr",
     "output_type": "stream",
     "text": [
      "2022-06-24 00:11:12.844812: I tensorflow/core/grappler/optimizers/custom_graph_optimizer_registry.cc:113] Plugin optimizer for device_type GPU is enabled.\n"
     ]
    },
    {
     "name": "stdout",
     "output_type": "stream",
     "text": [
      "\n",
      "Epoch 1: val_categorical_accuracy improved from -inf to 0.38814, saving model to working/model.weights.best.hdf5\n",
      "103/103 [==============================] - 30s 282ms/step - loss: 2.1710 - categorical_accuracy: 0.2769 - val_loss: 2.0419 - val_categorical_accuracy: 0.3881\n",
      "Epoch 2/100\n",
      "103/103 [==============================] - ETA: 0s - loss: 1.9565 - categorical_accuracy: 0.4246\n",
      "Epoch 2: val_categorical_accuracy improved from 0.38814 to 0.44638, saving model to working/model.weights.best.hdf5\n",
      "103/103 [==============================] - 28s 276ms/step - loss: 1.9565 - categorical_accuracy: 0.4246 - val_loss: 1.8796 - val_categorical_accuracy: 0.4464\n",
      "Epoch 3/100\n",
      "103/103 [==============================] - ETA: 0s - loss: 1.8182 - categorical_accuracy: 0.4715\n",
      "Epoch 3: val_categorical_accuracy improved from 0.44638 to 0.49379, saving model to working/model.weights.best.hdf5\n",
      "103/103 [==============================] - 32s 309ms/step - loss: 1.8182 - categorical_accuracy: 0.4715 - val_loss: 1.7672 - val_categorical_accuracy: 0.4938\n",
      "Epoch 4/100\n",
      "103/103 [==============================] - ETA: 0s - loss: 1.7181 - categorical_accuracy: 0.4905\n",
      "Epoch 4: val_categorical_accuracy improved from 0.49379 to 0.54084, saving model to working/model.weights.best.hdf5\n",
      "103/103 [==============================] - 39s 374ms/step - loss: 1.7181 - categorical_accuracy: 0.4905 - val_loss: 1.6796 - val_categorical_accuracy: 0.5408\n",
      "Epoch 5/100\n",
      "103/103 [==============================] - ETA: 0s - loss: 1.6396 - categorical_accuracy: 0.5161\n",
      "Epoch 5: val_categorical_accuracy did not improve from 0.54084\n",
      "103/103 [==============================] - 43s 423ms/step - loss: 1.6396 - categorical_accuracy: 0.5161 - val_loss: 1.6093 - val_categorical_accuracy: 0.5059\n",
      "Epoch 6/100\n",
      "103/103 [==============================] - ETA: 0s - loss: 1.5808 - categorical_accuracy: 0.5286\n",
      "Epoch 6: val_categorical_accuracy improved from 0.54084 to 0.54208, saving model to working/model.weights.best.hdf5\n",
      "103/103 [==============================] - 44s 430ms/step - loss: 1.5808 - categorical_accuracy: 0.5286 - val_loss: 1.5542 - val_categorical_accuracy: 0.5421\n",
      "Epoch 7/100\n",
      "103/103 [==============================] - ETA: 0s - loss: 1.5267 - categorical_accuracy: 0.5430\n",
      "Epoch 7: val_categorical_accuracy did not improve from 0.54208\n",
      "103/103 [==============================] - 44s 429ms/step - loss: 1.5267 - categorical_accuracy: 0.5430 - val_loss: 1.5091 - val_categorical_accuracy: 0.5124\n",
      "Epoch 8/100\n",
      "103/103 [==============================] - ETA: 0s - loss: 1.4848 - categorical_accuracy: 0.5475\n",
      "Epoch 8: val_categorical_accuracy improved from 0.54208 to 0.55700, saving model to working/model.weights.best.hdf5\n",
      "103/103 [==============================] - 46s 451ms/step - loss: 1.4848 - categorical_accuracy: 0.5475 - val_loss: 1.4649 - val_categorical_accuracy: 0.5570\n",
      "Epoch 9/100\n",
      "103/103 [==============================] - ETA: 0s - loss: 1.4476 - categorical_accuracy: 0.5466\n",
      "Epoch 9: val_categorical_accuracy improved from 0.55700 to 0.57191, saving model to working/model.weights.best.hdf5\n",
      "103/103 [==============================] - 51s 494ms/step - loss: 1.4476 - categorical_accuracy: 0.5466 - val_loss: 1.4377 - val_categorical_accuracy: 0.5719\n",
      "Epoch 10/100\n",
      "103/103 [==============================] - ETA: 0s - loss: 1.4191 - categorical_accuracy: 0.5609\n",
      "Epoch 10: val_categorical_accuracy did not improve from 0.57191\n",
      "103/103 [==============================] - 43s 420ms/step - loss: 1.4191 - categorical_accuracy: 0.5609 - val_loss: 1.4066 - val_categorical_accuracy: 0.5630\n",
      "Epoch 11/100\n",
      "103/103 [==============================] - ETA: 0s - loss: 1.3906 - categorical_accuracy: 0.5582\n",
      "Epoch 11: val_categorical_accuracy did not improve from 0.57191\n",
      "103/103 [==============================] - 44s 424ms/step - loss: 1.3906 - categorical_accuracy: 0.5582 - val_loss: 1.3804 - val_categorical_accuracy: 0.5568\n",
      "Epoch 12/100\n",
      "103/103 [==============================] - ETA: 0s - loss: 1.3661 - categorical_accuracy: 0.5655\n",
      "Epoch 12: val_categorical_accuracy improved from 0.57191 to 0.57564, saving model to working/model.weights.best.hdf5\n",
      "103/103 [==============================] - 48s 463ms/step - loss: 1.3661 - categorical_accuracy: 0.5655 - val_loss: 1.3732 - val_categorical_accuracy: 0.5756\n",
      "Epoch 13/100\n",
      "103/103 [==============================] - ETA: 0s - loss: 1.3463 - categorical_accuracy: 0.5683\n",
      "Epoch 13: val_categorical_accuracy improved from 0.57564 to 0.58807, saving model to working/model.weights.best.hdf5\n",
      "103/103 [==============================] - 47s 456ms/step - loss: 1.3463 - categorical_accuracy: 0.5683 - val_loss: 1.3526 - val_categorical_accuracy: 0.5881\n",
      "Epoch 14/100\n",
      "103/103 [==============================] - ETA: 0s - loss: 1.3241 - categorical_accuracy: 0.5832\n",
      "Epoch 14: val_categorical_accuracy did not improve from 0.58807\n",
      "103/103 [==============================] - 47s 456ms/step - loss: 1.3241 - categorical_accuracy: 0.5832 - val_loss: 1.3294 - val_categorical_accuracy: 0.5701\n",
      "Epoch 15/100\n",
      "103/103 [==============================] - ETA: 0s - loss: 1.3110 - categorical_accuracy: 0.5817\n",
      "Epoch 15: val_categorical_accuracy did not improve from 0.58807\n",
      "103/103 [==============================] - 48s 470ms/step - loss: 1.3110 - categorical_accuracy: 0.5817 - val_loss: 1.3145 - val_categorical_accuracy: 0.5794\n",
      "Epoch 16/100\n",
      "103/103 [==============================] - ETA: 0s - loss: 1.2985 - categorical_accuracy: 0.5846\n",
      "Epoch 16: val_categorical_accuracy did not improve from 0.58807\n",
      "103/103 [==============================] - 50s 488ms/step - loss: 1.2985 - categorical_accuracy: 0.5846 - val_loss: 1.2920 - val_categorical_accuracy: 0.5815\n",
      "Epoch 17/100\n",
      "103/103 [==============================] - ETA: 0s - loss: 1.2842 - categorical_accuracy: 0.5809\n",
      "Epoch 17: val_categorical_accuracy did not improve from 0.58807\n",
      "103/103 [==============================] - 56s 544ms/step - loss: 1.2842 - categorical_accuracy: 0.5809 - val_loss: 1.2894 - val_categorical_accuracy: 0.5772\n",
      "Epoch 18/100\n",
      "103/103 [==============================] - ETA: 0s - loss: 1.2709 - categorical_accuracy: 0.5902\n",
      "Epoch 18: val_categorical_accuracy did not improve from 0.58807\n",
      "103/103 [==============================] - 59s 576ms/step - loss: 1.2709 - categorical_accuracy: 0.5902 - val_loss: 1.2765 - val_categorical_accuracy: 0.5650\n",
      "Epoch 19/100\n",
      "103/103 [==============================] - ETA: 0s - loss: 1.2644 - categorical_accuracy: 0.5833\n",
      "Epoch 19: val_categorical_accuracy did not improve from 0.58807\n",
      "103/103 [==============================] - 60s 585ms/step - loss: 1.2644 - categorical_accuracy: 0.5833 - val_loss: 1.2607 - val_categorical_accuracy: 0.5827\n",
      "Epoch 20/100\n",
      "103/103 [==============================] - ETA: 0s - loss: 1.2476 - categorical_accuracy: 0.5837\n",
      "Epoch 20: val_categorical_accuracy improved from 0.58807 to 0.60210, saving model to working/model.weights.best.hdf5\n",
      "103/103 [==============================] - 60s 584ms/step - loss: 1.2476 - categorical_accuracy: 0.5837 - val_loss: 1.2473 - val_categorical_accuracy: 0.6021\n",
      "Epoch 21/100\n",
      "103/103 [==============================] - ETA: 0s - loss: 1.2372 - categorical_accuracy: 0.5970\n",
      "Epoch 21: val_categorical_accuracy improved from 0.60210 to 0.60334, saving model to working/model.weights.best.hdf5\n",
      "103/103 [==============================] - 61s 597ms/step - loss: 1.2372 - categorical_accuracy: 0.5970 - val_loss: 1.2494 - val_categorical_accuracy: 0.6033\n",
      "Epoch 22/100\n",
      "103/103 [==============================] - ETA: 0s - loss: 1.2248 - categorical_accuracy: 0.6024\n",
      "Epoch 22: val_categorical_accuracy did not improve from 0.60334\n",
      "103/103 [==============================] - 63s 613ms/step - loss: 1.2248 - categorical_accuracy: 0.6024 - val_loss: 1.2280 - val_categorical_accuracy: 0.5969\n",
      "Epoch 23/100\n",
      "103/103 [==============================] - ETA: 0s - loss: 1.2209 - categorical_accuracy: 0.6022\n",
      "Epoch 23: val_categorical_accuracy did not improve from 0.60334\n",
      "103/103 [==============================] - 63s 612ms/step - loss: 1.2209 - categorical_accuracy: 0.6022 - val_loss: 1.2269 - val_categorical_accuracy: 0.5953\n",
      "Epoch 24/100\n",
      "103/103 [==============================] - ETA: 0s - loss: 1.2039 - categorical_accuracy: 0.6089\n",
      "Epoch 24: val_categorical_accuracy did not improve from 0.60334\n",
      "103/103 [==============================] - 62s 606ms/step - loss: 1.2039 - categorical_accuracy: 0.6089 - val_loss: 1.2139 - val_categorical_accuracy: 0.5941\n",
      "Epoch 25/100\n",
      "103/103 [==============================] - ETA: 0s - loss: 1.1966 - categorical_accuracy: 0.6122\n",
      "Epoch 25: val_categorical_accuracy improved from 0.60334 to 0.60582, saving model to working/model.weights.best.hdf5\n",
      "103/103 [==============================] - 62s 607ms/step - loss: 1.1966 - categorical_accuracy: 0.6122 - val_loss: 1.2012 - val_categorical_accuracy: 0.6058\n",
      "Epoch 26/100\n",
      "103/103 [==============================] - ETA: 0s - loss: 1.1929 - categorical_accuracy: 0.6064\n",
      "Epoch 26: val_categorical_accuracy improved from 0.60582 to 0.61204, saving model to working/model.weights.best.hdf5\n",
      "103/103 [==============================] - 63s 610ms/step - loss: 1.1929 - categorical_accuracy: 0.6064 - val_loss: 1.1968 - val_categorical_accuracy: 0.6120\n",
      "Epoch 27/100\n",
      "103/103 [==============================] - ETA: 0s - loss: 1.1824 - categorical_accuracy: 0.6146\n",
      "Epoch 27: val_categorical_accuracy did not improve from 0.61204\n",
      "103/103 [==============================] - 63s 610ms/step - loss: 1.1824 - categorical_accuracy: 0.6146 - val_loss: 1.1825 - val_categorical_accuracy: 0.5973\n",
      "Epoch 28/100\n",
      "103/103 [==============================] - ETA: 0s - loss: 1.1678 - categorical_accuracy: 0.6152\n",
      "Epoch 28: val_categorical_accuracy did not improve from 0.61204\n",
      "103/103 [==============================] - 62s 607ms/step - loss: 1.1678 - categorical_accuracy: 0.6152 - val_loss: 1.1893 - val_categorical_accuracy: 0.6120\n",
      "Epoch 29/100\n",
      "103/103 [==============================] - ETA: 0s - loss: 1.1675 - categorical_accuracy: 0.6088\n",
      "Epoch 29: val_categorical_accuracy did not improve from 0.61204\n",
      "103/103 [==============================] - 62s 607ms/step - loss: 1.1675 - categorical_accuracy: 0.6088 - val_loss: 1.1757 - val_categorical_accuracy: 0.6103\n",
      "Epoch 30/100\n",
      "103/103 [==============================] - ETA: 0s - loss: 1.1562 - categorical_accuracy: 0.6131\n",
      "Epoch 30: val_categorical_accuracy improved from 0.61204 to 0.62180, saving model to working/model.weights.best.hdf5\n",
      "103/103 [==============================] - 62s 607ms/step - loss: 1.1562 - categorical_accuracy: 0.6131 - val_loss: 1.1639 - val_categorical_accuracy: 0.6218\n",
      "Epoch 31/100\n",
      "103/103 [==============================] - ETA: 0s - loss: 1.1557 - categorical_accuracy: 0.6170\n",
      "Epoch 31: val_categorical_accuracy improved from 0.62180 to 0.62766, saving model to working/model.weights.best.hdf5\n",
      "103/103 [==============================] - 62s 607ms/step - loss: 1.1557 - categorical_accuracy: 0.6170 - val_loss: 1.1523 - val_categorical_accuracy: 0.6277\n",
      "Epoch 32/100\n",
      "103/103 [==============================] - ETA: 0s - loss: 1.1495 - categorical_accuracy: 0.6208\n",
      "Epoch 32: val_categorical_accuracy did not improve from 0.62766\n",
      "103/103 [==============================] - 62s 605ms/step - loss: 1.1495 - categorical_accuracy: 0.6208 - val_loss: 1.1519 - val_categorical_accuracy: 0.6209\n",
      "Epoch 33/100\n",
      "103/103 [==============================] - ETA: 0s - loss: 1.1414 - categorical_accuracy: 0.6205\n",
      "Epoch 33: val_categorical_accuracy did not improve from 0.62766\n",
      "103/103 [==============================] - 62s 606ms/step - loss: 1.1414 - categorical_accuracy: 0.6205 - val_loss: 1.1581 - val_categorical_accuracy: 0.6261\n",
      "Epoch 34/100\n",
      "103/103 [==============================] - ETA: 0s - loss: 1.1405 - categorical_accuracy: 0.6205\n",
      "Epoch 34: val_categorical_accuracy did not improve from 0.62766\n",
      "103/103 [==============================] - 63s 610ms/step - loss: 1.1405 - categorical_accuracy: 0.6205 - val_loss: 1.1546 - val_categorical_accuracy: 0.6199\n",
      "Epoch 35/100\n",
      "103/103 [==============================] - ETA: 0s - loss: 1.1318 - categorical_accuracy: 0.6275\n",
      "Epoch 35: val_categorical_accuracy did not improve from 0.62766\n",
      "103/103 [==============================] - 63s 612ms/step - loss: 1.1318 - categorical_accuracy: 0.6275 - val_loss: 1.1440 - val_categorical_accuracy: 0.6206\n",
      "Epoch 36/100\n",
      "103/103 [==============================] - ETA: 0s - loss: 1.1194 - categorical_accuracy: 0.6281\n",
      "Epoch 36: val_categorical_accuracy did not improve from 0.62766\n",
      "103/103 [==============================] - 63s 613ms/step - loss: 1.1194 - categorical_accuracy: 0.6281 - val_loss: 1.1322 - val_categorical_accuracy: 0.6200\n",
      "Epoch 37/100\n",
      "103/103 [==============================] - ETA: 0s - loss: 1.1200 - categorical_accuracy: 0.6275\n",
      "Epoch 37: val_categorical_accuracy did not improve from 0.62766\n",
      "103/103 [==============================] - 63s 611ms/step - loss: 1.1200 - categorical_accuracy: 0.6275 - val_loss: 1.1290 - val_categorical_accuracy: 0.6190\n",
      "Epoch 38/100\n",
      "103/103 [==============================] - ETA: 0s - loss: 1.1140 - categorical_accuracy: 0.6252\n",
      "Epoch 38: val_categorical_accuracy did not improve from 0.62766\n",
      "103/103 [==============================] - 63s 611ms/step - loss: 1.1140 - categorical_accuracy: 0.6252 - val_loss: 1.1142 - val_categorical_accuracy: 0.6236\n",
      "Epoch 39/100\n",
      "103/103 [==============================] - ETA: 0s - loss: 1.1083 - categorical_accuracy: 0.6365\n",
      "Epoch 39: val_categorical_accuracy improved from 0.62766 to 0.62820, saving model to working/model.weights.best.hdf5\n",
      "103/103 [==============================] - 64s 618ms/step - loss: 1.1083 - categorical_accuracy: 0.6365 - val_loss: 1.1132 - val_categorical_accuracy: 0.6282\n",
      "Epoch 40/100\n",
      "103/103 [==============================] - ETA: 0s - loss: 1.0996 - categorical_accuracy: 0.6336\n",
      "Epoch 40: val_categorical_accuracy improved from 0.62820 to 0.63281, saving model to working/model.weights.best.hdf5\n",
      "103/103 [==============================] - 63s 615ms/step - loss: 1.0996 - categorical_accuracy: 0.6336 - val_loss: 1.1076 - val_categorical_accuracy: 0.6328\n",
      "Epoch 41/100\n",
      "103/103 [==============================] - ETA: 0s - loss: 1.1017 - categorical_accuracy: 0.6273\n",
      "Epoch 41: val_categorical_accuracy did not improve from 0.63281\n",
      "103/103 [==============================] - 63s 615ms/step - loss: 1.1017 - categorical_accuracy: 0.6273 - val_loss: 1.1106 - val_categorical_accuracy: 0.6325\n",
      "Epoch 42/100\n",
      "103/103 [==============================] - ETA: 0s - loss: 1.1010 - categorical_accuracy: 0.6364\n",
      "Epoch 42: val_categorical_accuracy did not improve from 0.63281\n",
      "103/103 [==============================] - 63s 615ms/step - loss: 1.1010 - categorical_accuracy: 0.6364 - val_loss: 1.1031 - val_categorical_accuracy: 0.6293\n",
      "Epoch 43/100\n",
      "103/103 [==============================] - ETA: 0s - loss: 1.0929 - categorical_accuracy: 0.6343\n",
      "Epoch 43: val_categorical_accuracy improved from 0.63281 to 0.63743, saving model to working/model.weights.best.hdf5\n",
      "103/103 [==============================] - 61s 591ms/step - loss: 1.0929 - categorical_accuracy: 0.6343 - val_loss: 1.0953 - val_categorical_accuracy: 0.6374\n",
      "Epoch 44/100\n",
      "103/103 [==============================] - ETA: 0s - loss: 1.0869 - categorical_accuracy: 0.6381\n",
      "Epoch 44: val_categorical_accuracy did not improve from 0.63743\n",
      "103/103 [==============================] - 59s 574ms/step - loss: 1.0869 - categorical_accuracy: 0.6381 - val_loss: 1.0981 - val_categorical_accuracy: 0.6326\n",
      "Epoch 45/100\n",
      "103/103 [==============================] - ETA: 0s - loss: 1.0875 - categorical_accuracy: 0.6384\n",
      "Epoch 45: val_categorical_accuracy improved from 0.63743 to 0.64169, saving model to working/model.weights.best.hdf5\n",
      "103/103 [==============================] - 59s 569ms/step - loss: 1.0875 - categorical_accuracy: 0.6384 - val_loss: 1.0853 - val_categorical_accuracy: 0.6417\n",
      "Epoch 46/100\n",
      "103/103 [==============================] - ETA: 0s - loss: 1.0800 - categorical_accuracy: 0.6416\n",
      "Epoch 46: val_categorical_accuracy did not improve from 0.64169\n",
      "103/103 [==============================] - 59s 569ms/step - loss: 1.0800 - categorical_accuracy: 0.6416 - val_loss: 1.0826 - val_categorical_accuracy: 0.6369\n",
      "Epoch 47/100\n",
      "103/103 [==============================] - ETA: 0s - loss: 1.0823 - categorical_accuracy: 0.6436\n",
      "Epoch 47: val_categorical_accuracy did not improve from 0.64169\n",
      "103/103 [==============================] - 60s 583ms/step - loss: 1.0823 - categorical_accuracy: 0.6436 - val_loss: 1.0896 - val_categorical_accuracy: 0.6396\n",
      "Epoch 48/100\n",
      "103/103 [==============================] - ETA: 0s - loss: 1.0723 - categorical_accuracy: 0.6476\n",
      "Epoch 48: val_categorical_accuracy improved from 0.64169 to 0.64506, saving model to working/model.weights.best.hdf5\n",
      "103/103 [==============================] - 61s 590ms/step - loss: 1.0723 - categorical_accuracy: 0.6476 - val_loss: 1.0717 - val_categorical_accuracy: 0.6451\n",
      "Epoch 49/100\n",
      "103/103 [==============================] - ETA: 0s - loss: 1.0660 - categorical_accuracy: 0.6475\n",
      "Epoch 49: val_categorical_accuracy did not improve from 0.64506\n",
      "103/103 [==============================] - 61s 591ms/step - loss: 1.0660 - categorical_accuracy: 0.6475 - val_loss: 1.0697 - val_categorical_accuracy: 0.6429\n",
      "Epoch 50/100\n",
      "103/103 [==============================] - ETA: 0s - loss: 1.0578 - categorical_accuracy: 0.6458\n",
      "Epoch 50: val_categorical_accuracy improved from 0.64506 to 0.64862, saving model to working/model.weights.best.hdf5\n",
      "103/103 [==============================] - 61s 593ms/step - loss: 1.0578 - categorical_accuracy: 0.6458 - val_loss: 1.0704 - val_categorical_accuracy: 0.6486\n",
      "Epoch 51/100\n",
      "103/103 [==============================] - ETA: 0s - loss: 1.0531 - categorical_accuracy: 0.6494\n",
      "Epoch 51: val_categorical_accuracy did not improve from 0.64862\n",
      "103/103 [==============================] - 62s 601ms/step - loss: 1.0531 - categorical_accuracy: 0.6494 - val_loss: 1.0622 - val_categorical_accuracy: 0.6428\n",
      "Epoch 52/100\n",
      "103/103 [==============================] - ETA: 0s - loss: 1.0562 - categorical_accuracy: 0.6431\n",
      "Epoch 52: val_categorical_accuracy did not improve from 0.64862\n",
      "103/103 [==============================] - 61s 596ms/step - loss: 1.0562 - categorical_accuracy: 0.6431 - val_loss: 1.0638 - val_categorical_accuracy: 0.6424\n",
      "Epoch 53/100\n",
      "103/103 [==============================] - ETA: 0s - loss: 1.0491 - categorical_accuracy: 0.6530\n",
      "Epoch 53: val_categorical_accuracy did not improve from 0.64862\n",
      "103/103 [==============================] - 62s 598ms/step - loss: 1.0491 - categorical_accuracy: 0.6530 - val_loss: 1.0639 - val_categorical_accuracy: 0.6403\n",
      "Epoch 54/100\n",
      "103/103 [==============================] - ETA: 0s - loss: 1.0431 - categorical_accuracy: 0.6526\n",
      "Epoch 54: val_categorical_accuracy improved from 0.64862 to 0.64915, saving model to working/model.weights.best.hdf5\n",
      "103/103 [==============================] - 62s 600ms/step - loss: 1.0431 - categorical_accuracy: 0.6526 - val_loss: 1.0537 - val_categorical_accuracy: 0.6491\n",
      "Epoch 55/100\n",
      "103/103 [==============================] - ETA: 0s - loss: 1.0441 - categorical_accuracy: 0.6523\n",
      "Epoch 55: val_categorical_accuracy did not improve from 0.64915\n",
      "103/103 [==============================] - 62s 601ms/step - loss: 1.0441 - categorical_accuracy: 0.6523 - val_loss: 1.0590 - val_categorical_accuracy: 0.6463\n",
      "Epoch 56/100\n",
      "103/103 [==============================] - ETA: 0s - loss: 1.0463 - categorical_accuracy: 0.6517\n",
      "Epoch 56: val_categorical_accuracy did not improve from 0.64915\n",
      "103/103 [==============================] - 62s 600ms/step - loss: 1.0463 - categorical_accuracy: 0.6517 - val_loss: 1.0546 - val_categorical_accuracy: 0.6490\n",
      "Epoch 57/100\n",
      "103/103 [==============================] - ETA: 0s - loss: 1.0403 - categorical_accuracy: 0.6516\n",
      "Epoch 57: val_categorical_accuracy improved from 0.64915 to 0.65465, saving model to working/model.weights.best.hdf5\n",
      "103/103 [==============================] - 62s 599ms/step - loss: 1.0403 - categorical_accuracy: 0.6516 - val_loss: 1.0447 - val_categorical_accuracy: 0.6547\n",
      "Epoch 58/100\n",
      "103/103 [==============================] - ETA: 0s - loss: 1.0316 - categorical_accuracy: 0.6549\n",
      "Epoch 58: val_categorical_accuracy did not improve from 0.65465\n",
      "103/103 [==============================] - 61s 596ms/step - loss: 1.0316 - categorical_accuracy: 0.6549 - val_loss: 1.0534 - val_categorical_accuracy: 0.6444\n",
      "Epoch 59/100\n",
      "103/103 [==============================] - ETA: 0s - loss: 1.0300 - categorical_accuracy: 0.6548\n",
      "Epoch 59: val_categorical_accuracy did not improve from 0.65465\n",
      "103/103 [==============================] - 62s 602ms/step - loss: 1.0300 - categorical_accuracy: 0.6548 - val_loss: 1.0406 - val_categorical_accuracy: 0.6458\n",
      "Epoch 60/100\n",
      "103/103 [==============================] - ETA: 0s - loss: 1.0326 - categorical_accuracy: 0.6509\n",
      "Epoch 60: val_categorical_accuracy did not improve from 0.65465\n",
      "103/103 [==============================] - 63s 610ms/step - loss: 1.0326 - categorical_accuracy: 0.6509 - val_loss: 1.0350 - val_categorical_accuracy: 0.6513\n",
      "Epoch 61/100\n",
      "103/103 [==============================] - ETA: 0s - loss: 1.0300 - categorical_accuracy: 0.6541\n",
      "Epoch 61: val_categorical_accuracy did not improve from 0.65465\n",
      "103/103 [==============================] - 62s 606ms/step - loss: 1.0300 - categorical_accuracy: 0.6541 - val_loss: 1.0364 - val_categorical_accuracy: 0.6500\n",
      "Epoch 62/100\n",
      "103/103 [==============================] - ETA: 0s - loss: 1.0194 - categorical_accuracy: 0.6568\n",
      "Epoch 62: val_categorical_accuracy improved from 0.65465 to 0.65838, saving model to working/model.weights.best.hdf5\n",
      "103/103 [==============================] - 62s 602ms/step - loss: 1.0194 - categorical_accuracy: 0.6568 - val_loss: 1.0317 - val_categorical_accuracy: 0.6584\n",
      "Epoch 63/100\n",
      "103/103 [==============================] - ETA: 0s - loss: 1.0246 - categorical_accuracy: 0.6581\n",
      "Epoch 63: val_categorical_accuracy did not improve from 0.65838\n",
      "103/103 [==============================] - 62s 602ms/step - loss: 1.0246 - categorical_accuracy: 0.6581 - val_loss: 1.0247 - val_categorical_accuracy: 0.6573\n",
      "Epoch 64/100\n",
      "103/103 [==============================] - ETA: 0s - loss: 1.0140 - categorical_accuracy: 0.6600\n",
      "Epoch 64: val_categorical_accuracy did not improve from 0.65838\n",
      "103/103 [==============================] - 62s 600ms/step - loss: 1.0140 - categorical_accuracy: 0.6600 - val_loss: 1.0234 - val_categorical_accuracy: 0.6568\n",
      "Epoch 65/100\n",
      "103/103 [==============================] - ETA: 0s - loss: 1.0212 - categorical_accuracy: 0.6512\n",
      "Epoch 65: val_categorical_accuracy did not improve from 0.65838\n",
      "103/103 [==============================] - 62s 604ms/step - loss: 1.0212 - categorical_accuracy: 0.6512 - val_loss: 1.0224 - val_categorical_accuracy: 0.6532\n",
      "Epoch 66/100\n",
      "103/103 [==============================] - ETA: 0s - loss: 1.0202 - categorical_accuracy: 0.6562\n",
      "Epoch 66: val_categorical_accuracy improved from 0.65838 to 0.66850, saving model to working/model.weights.best.hdf5\n",
      "103/103 [==============================] - 63s 611ms/step - loss: 1.0202 - categorical_accuracy: 0.6562 - val_loss: 1.0152 - val_categorical_accuracy: 0.6685\n",
      "Epoch 67/100\n",
      "103/103 [==============================] - ETA: 0s - loss: 1.0070 - categorical_accuracy: 0.6613\n",
      "Epoch 67: val_categorical_accuracy did not improve from 0.66850\n",
      "103/103 [==============================] - 64s 622ms/step - loss: 1.0070 - categorical_accuracy: 0.6613 - val_loss: 1.0276 - val_categorical_accuracy: 0.6594\n",
      "Epoch 68/100\n",
      "103/103 [==============================] - ETA: 0s - loss: 1.0060 - categorical_accuracy: 0.6613\n",
      "Epoch 68: val_categorical_accuracy did not improve from 0.66850\n",
      "103/103 [==============================] - 64s 619ms/step - loss: 1.0060 - categorical_accuracy: 0.6613 - val_loss: 1.0149 - val_categorical_accuracy: 0.6619\n",
      "Epoch 69/100\n",
      "103/103 [==============================] - ETA: 0s - loss: 1.0077 - categorical_accuracy: 0.6606\n",
      "Epoch 69: val_categorical_accuracy improved from 0.66850 to 0.67170, saving model to working/model.weights.best.hdf5\n",
      "103/103 [==============================] - 63s 616ms/step - loss: 1.0077 - categorical_accuracy: 0.6606 - val_loss: 0.9965 - val_categorical_accuracy: 0.6717\n",
      "Epoch 70/100\n",
      "103/103 [==============================] - ETA: 0s - loss: 1.0051 - categorical_accuracy: 0.6603\n",
      "Epoch 70: val_categorical_accuracy did not improve from 0.67170\n",
      "103/103 [==============================] - 63s 612ms/step - loss: 1.0051 - categorical_accuracy: 0.6603 - val_loss: 1.0069 - val_categorical_accuracy: 0.6614\n",
      "Epoch 71/100\n",
      "103/103 [==============================] - ETA: 0s - loss: 0.9976 - categorical_accuracy: 0.6650\n",
      "Epoch 71: val_categorical_accuracy did not improve from 0.67170\n",
      "103/103 [==============================] - 64s 618ms/step - loss: 0.9976 - categorical_accuracy: 0.6650 - val_loss: 1.0100 - val_categorical_accuracy: 0.6602\n",
      "Epoch 72/100\n",
      "103/103 [==============================] - ETA: 0s - loss: 1.0028 - categorical_accuracy: 0.6607\n",
      "Epoch 72: val_categorical_accuracy did not improve from 0.67170\n",
      "103/103 [==============================] - 64s 617ms/step - loss: 1.0028 - categorical_accuracy: 0.6607 - val_loss: 1.0122 - val_categorical_accuracy: 0.6614\n",
      "Epoch 73/100\n",
      "103/103 [==============================] - ETA: 0s - loss: 0.9835 - categorical_accuracy: 0.6709\n",
      "Epoch 73: val_categorical_accuracy did not improve from 0.67170\n",
      "103/103 [==============================] - 63s 614ms/step - loss: 0.9835 - categorical_accuracy: 0.6709 - val_loss: 1.0043 - val_categorical_accuracy: 0.6578\n",
      "Epoch 74/100\n",
      "103/103 [==============================] - ETA: 0s - loss: 0.9985 - categorical_accuracy: 0.6625\n",
      "Epoch 74: val_categorical_accuracy did not improve from 0.67170\n",
      "103/103 [==============================] - 65s 628ms/step - loss: 0.9985 - categorical_accuracy: 0.6625 - val_loss: 1.0107 - val_categorical_accuracy: 0.6639\n",
      "Epoch 75/100\n",
      "103/103 [==============================] - ETA: 0s - loss: 0.9877 - categorical_accuracy: 0.6690\n",
      "Epoch 75: val_categorical_accuracy did not improve from 0.67170\n",
      "103/103 [==============================] - 66s 641ms/step - loss: 0.9877 - categorical_accuracy: 0.6690 - val_loss: 1.0173 - val_categorical_accuracy: 0.6621\n",
      "Epoch 76/100\n",
      "103/103 [==============================] - ETA: 0s - loss: 0.9858 - categorical_accuracy: 0.6713\n",
      "Epoch 76: val_categorical_accuracy did not improve from 0.67170\n",
      "103/103 [==============================] - 65s 636ms/step - loss: 0.9858 - categorical_accuracy: 0.6713 - val_loss: 0.9934 - val_categorical_accuracy: 0.6657\n",
      "Epoch 77/100\n",
      "103/103 [==============================] - ETA: 0s - loss: 0.9844 - categorical_accuracy: 0.6669\n",
      "Epoch 77: val_categorical_accuracy did not improve from 0.67170\n",
      "103/103 [==============================] - 64s 626ms/step - loss: 0.9844 - categorical_accuracy: 0.6669 - val_loss: 0.9926 - val_categorical_accuracy: 0.6603\n",
      "Epoch 78/100\n",
      "103/103 [==============================] - ETA: 0s - loss: 0.9775 - categorical_accuracy: 0.6723\n",
      "Epoch 78: val_categorical_accuracy did not improve from 0.67170\n",
      "103/103 [==============================] - 64s 625ms/step - loss: 0.9775 - categorical_accuracy: 0.6723 - val_loss: 0.9864 - val_categorical_accuracy: 0.6692\n",
      "Epoch 79/100\n",
      "103/103 [==============================] - ETA: 0s - loss: 0.9859 - categorical_accuracy: 0.6657\n",
      "Epoch 79: val_categorical_accuracy did not improve from 0.67170\n",
      "103/103 [==============================] - 65s 629ms/step - loss: 0.9859 - categorical_accuracy: 0.6657 - val_loss: 0.9822 - val_categorical_accuracy: 0.6705\n"
     ]
    }
   ],
   "source": [
    "\n",
    "\n",
    "history = model.fit_generator(train_generator,\n",
    "                             steps_per_epoch=N_STEPS,\n",
    "                             epochs=N_EPOCHS,\n",
    "                             callbacks=[early_stop, checkpoint],\n",
    "                             validation_data=valid_generator,\n",
    "                             validation_steps=N_VAL_STEPS)\n",
    "\n"
   ]
  },
  {
   "cell_type": "code",
   "execution_count": 163,
   "metadata": {},
   "outputs": [
    {
     "name": "stderr",
     "output_type": "stream",
     "text": [
      "/var/folders/wm/jf5bq5r94mqgp8j4gnpmb7xw0000gn/T/ipykernel_16370/2326854842.py:4: UserWarning: `Model.predict_generator` is deprecated and will be removed in a future version. Please use `Model.predict`, which supports generators.\n",
      "  predictions = model.predict_generator(test_generator, steps=N_VAL_STEPS)\n",
      "/var/folders/wm/jf5bq5r94mqgp8j4gnpmb7xw0000gn/T/ipykernel_16370/2326854842.py:5: UserWarning: `Model.evaluate_generator` is deprecated and will be removed in a future version. Please use `Model.evaluate`, which supports generators.\n",
      "  model.evaluate_generator(test_generator, steps=N_VAL_STEPS)\n",
      "2022-06-24 09:33:38.738882: I tensorflow/core/grappler/optimizers/custom_graph_optimizer_registry.cc:113] Plugin optimizer for device_type GPU is enabled.\n"
     ]
    }
   ],
   "source": [
    "#Test on test set\n",
    "test_generator.reset()\n",
    "predictions = model.predict_generator(test_generator, steps=N_VAL_STEPS)\n",
    "model.evaluate_generator(test_generator, steps=N_VAL_STEPS)\n",
    "y_pred = np.argmax(predictions, axis=1)\n",
    "y_true = test_generator.classes\n",
    "#Print accuracy\n"
   ]
  },
  {
   "cell_type": "code",
   "execution_count": 164,
   "metadata": {},
   "outputs": [
    {
     "name": "stdout",
     "output_type": "stream",
     "text": [
      "44/44 [==============================] - 0s 3ms/step - loss: 0.0000e+00 - categorical_accuracy: 0.0000e+00\n"
     ]
    },
    {
     "data": {
      "text/plain": [
       "[0.0, 0.0]"
      ]
     },
     "execution_count": 164,
     "metadata": {},
     "output_type": "execute_result"
    }
   ],
   "source": [
    "model.evaluate(test_generator, steps=N_VAL_STEPS)\n"
   ]
  },
  {
   "cell_type": "code",
   "execution_count": 144,
   "metadata": {},
   "outputs": [
    {
     "name": "stdout",
     "output_type": "stream",
     "text": [
      "Epoch 1/10\n"
     ]
    },
    {
     "name": "stderr",
     "output_type": "stream",
     "text": [
      "/var/folders/wm/jf5bq5r94mqgp8j4gnpmb7xw0000gn/T/ipykernel_16370/2974558472.py:1: UserWarning: `Model.fit_generator` is deprecated and will be removed in a future version. Please use `Model.fit`, which supports generators.\n",
      "  compile_model(input_shape=(64,64,3), n_classes=len(LABELS), optimizer=Adagrad()).fit_generator(train_generator,epochs=10, validation_data=valid_generator)\n",
      "2022-06-23 23:40:11.243923: W tensorflow/core/platform/profile_utils/cpu_utils.cc:128] Failed to get CPU frequency: 0 Hz\n",
      "2022-06-23 23:40:11.621217: I tensorflow/core/grappler/optimizers/custom_graph_optimizer_registry.cc:113] Plugin optimizer for device_type GPU is enabled.\n"
     ]
    },
    {
     "name": "stdout",
     "output_type": "stream",
     "text": [
      "104/104 [==============================] - ETA: 0s - loss: 2.1689 - categorical_accuracy: 0.2878"
     ]
    },
    {
     "name": "stderr",
     "output_type": "stream",
     "text": [
      "2022-06-23 23:40:32.656938: I tensorflow/core/grappler/optimizers/custom_graph_optimizer_registry.cc:113] Plugin optimizer for device_type GPU is enabled.\n"
     ]
    },
    {
     "name": "stdout",
     "output_type": "stream",
     "text": [
      "104/104 [==============================] - 30s 283ms/step - loss: 2.1689 - categorical_accuracy: 0.2878 - val_loss: 2.0412 - val_categorical_accuracy: 0.3827\n",
      "Epoch 2/10\n",
      "104/104 [==============================] - 30s 287ms/step - loss: 1.9560 - categorical_accuracy: 0.4282 - val_loss: 1.8782 - val_categorical_accuracy: 0.4242\n",
      "Epoch 3/10\n",
      "104/104 [==============================] - 34s 329ms/step - loss: 1.8159 - categorical_accuracy: 0.4574 - val_loss: 1.7632 - val_categorical_accuracy: 0.5150\n",
      "Epoch 4/10\n",
      "104/104 [==============================] - 42s 400ms/step - loss: 1.7197 - categorical_accuracy: 0.4940 - val_loss: 1.6750 - val_categorical_accuracy: 0.4674\n",
      "Epoch 5/10\n",
      "104/104 [==============================] - 44s 419ms/step - loss: 1.6364 - categorical_accuracy: 0.5203 - val_loss: 1.6025 - val_categorical_accuracy: 0.5293\n",
      "Epoch 6/10\n",
      "104/104 [==============================] - 46s 447ms/step - loss: 1.5745 - categorical_accuracy: 0.5399 - val_loss: 1.5537 - val_categorical_accuracy: 0.4940\n",
      "Epoch 7/10\n",
      "104/104 [==============================] - 49s 467ms/step - loss: 1.5284 - categorical_accuracy: 0.5370 - val_loss: 1.5050 - val_categorical_accuracy: 0.5109\n",
      "Epoch 8/10\n",
      "104/104 [==============================] - 49s 467ms/step - loss: 1.4818 - categorical_accuracy: 0.5444 - val_loss: 1.4648 - val_categorical_accuracy: 0.5238\n",
      "Epoch 9/10\n",
      "104/104 [==============================] - 45s 436ms/step - loss: 1.4503 - categorical_accuracy: 0.5486 - val_loss: 1.4344 - val_categorical_accuracy: 0.5783\n",
      "Epoch 10/10\n",
      "104/104 [==============================] - 45s 431ms/step - loss: 1.4212 - categorical_accuracy: 0.5630 - val_loss: 1.4068 - val_categorical_accuracy: 0.5414\n"
     ]
    },
    {
     "data": {
      "text/plain": [
       "<keras.callbacks.History at 0x29d311840>"
      ]
     },
     "execution_count": 144,
     "metadata": {},
     "output_type": "execute_result"
    }
   ],
   "source": [
    "compile_model(input_shape=(64,64,3), n_classes=len(LABELS), optimizer=Adagrad()).fit_generator(train_generator,epochs=10, validation_data=valid_generator)"
   ]
  },
  {
   "cell_type": "code",
   "execution_count": 156,
   "metadata": {},
   "outputs": [],
   "source": [
    "#Train the data on pretrained vgg16 model\n",
    "model__vgg16_fine_tune = VGG16(weights=\"imagenet\",input_shape=(64,64,3), include_top=False, classes= len(LABELS))\n",
    "model_vgg16_fine_tune.compile(optimizer=Adagrad(), loss='categorical_crossentropy', metrics=['categorical_accuracy'])\n",
    "\n"
   ]
  },
  {
   "cell_type": "code",
   "execution_count": 157,
   "metadata": {},
   "outputs": [
    {
     "name": "stdout",
     "output_type": "stream",
     "text": [
      "Epoch 1/10\n"
     ]
    },
    {
     "name": "stderr",
     "output_type": "stream",
     "text": [
      "/var/folders/wm/jf5bq5r94mqgp8j4gnpmb7xw0000gn/T/ipykernel_16370/1213506448.py:1: UserWarning: `Model.fit_generator` is deprecated and will be removed in a future version. Please use `Model.fit`, which supports generators.\n",
      "  model_vgg16_fine_tune.fit_generator(train_generator,epochs=10, validation_data=valid_generator)\n",
      "2022-06-23 23:53:19.005128: I tensorflow/core/grappler/optimizers/custom_graph_optimizer_registry.cc:113] Plugin optimizer for device_type GPU is enabled.\n"
     ]
    },
    {
     "ename": "InvalidArgumentError",
     "evalue": "Graph execution error:\n\nDetected at node 'categorical_crossentropy/softmax_cross_entropy_with_logits' defined at (most recent call last):\n    File \"/Users/arjunarora/miniforge3/envs/deep/lib/python3.10/runpy.py\", line 196, in _run_module_as_main\n      return _run_code(code, main_globals, None,\n    File \"/Users/arjunarora/miniforge3/envs/deep/lib/python3.10/runpy.py\", line 86, in _run_code\n      exec(code, run_globals)\n    File \"/Users/arjunarora/miniforge3/envs/deep/lib/python3.10/site-packages/ipykernel_launcher.py\", line 17, in <module>\n      app.launch_new_instance()\n    File \"/Users/arjunarora/miniforge3/envs/deep/lib/python3.10/site-packages/traitlets/config/application.py\", line 972, in launch_instance\n      app.start()\n    File \"/Users/arjunarora/miniforge3/envs/deep/lib/python3.10/site-packages/ipykernel/kernelapp.py\", line 712, in start\n      self.io_loop.start()\n    File \"/Users/arjunarora/miniforge3/envs/deep/lib/python3.10/site-packages/tornado/platform/asyncio.py\", line 199, in start\n      self.asyncio_loop.run_forever()\n    File \"/Users/arjunarora/miniforge3/envs/deep/lib/python3.10/asyncio/base_events.py\", line 600, in run_forever\n      self._run_once()\n    File \"/Users/arjunarora/miniforge3/envs/deep/lib/python3.10/asyncio/base_events.py\", line 1896, in _run_once\n      handle._run()\n    File \"/Users/arjunarora/miniforge3/envs/deep/lib/python3.10/asyncio/events.py\", line 80, in _run\n      self._context.run(self._callback, *self._args)\n    File \"/Users/arjunarora/miniforge3/envs/deep/lib/python3.10/site-packages/ipykernel/kernelbase.py\", line 504, in dispatch_queue\n      await self.process_one()\n    File \"/Users/arjunarora/miniforge3/envs/deep/lib/python3.10/site-packages/ipykernel/kernelbase.py\", line 493, in process_one\n      await dispatch(*args)\n    File \"/Users/arjunarora/miniforge3/envs/deep/lib/python3.10/site-packages/ipykernel/kernelbase.py\", line 400, in dispatch_shell\n      await result\n    File \"/Users/arjunarora/miniforge3/envs/deep/lib/python3.10/site-packages/ipykernel/kernelbase.py\", line 724, in execute_request\n      reply_content = await reply_content\n    File \"/Users/arjunarora/miniforge3/envs/deep/lib/python3.10/site-packages/ipykernel/ipkernel.py\", line 383, in do_execute\n      res = shell.run_cell(\n    File \"/Users/arjunarora/miniforge3/envs/deep/lib/python3.10/site-packages/ipykernel/zmqshell.py\", line 528, in run_cell\n      return super().run_cell(*args, **kwargs)\n    File \"/Users/arjunarora/miniforge3/envs/deep/lib/python3.10/site-packages/IPython/core/interactiveshell.py\", line 2881, in run_cell\n      result = self._run_cell(\n    File \"/Users/arjunarora/miniforge3/envs/deep/lib/python3.10/site-packages/IPython/core/interactiveshell.py\", line 2936, in _run_cell\n      return runner(coro)\n    File \"/Users/arjunarora/miniforge3/envs/deep/lib/python3.10/site-packages/IPython/core/async_helpers.py\", line 129, in _pseudo_sync_runner\n      coro.send(None)\n    File \"/Users/arjunarora/miniforge3/envs/deep/lib/python3.10/site-packages/IPython/core/interactiveshell.py\", line 3135, in run_cell_async\n      has_raised = await self.run_ast_nodes(code_ast.body, cell_name,\n    File \"/Users/arjunarora/miniforge3/envs/deep/lib/python3.10/site-packages/IPython/core/interactiveshell.py\", line 3338, in run_ast_nodes\n      if await self.run_code(code, result, async_=asy):\n    File \"/Users/arjunarora/miniforge3/envs/deep/lib/python3.10/site-packages/IPython/core/interactiveshell.py\", line 3398, in run_code\n      exec(code_obj, self.user_global_ns, self.user_ns)\n    File \"/var/folders/wm/jf5bq5r94mqgp8j4gnpmb7xw0000gn/T/ipykernel_16370/1213506448.py\", line 1, in <cell line: 1>\n      model_vgg16_fine_tune.fit_generator(train_generator,epochs=10, validation_data=valid_generator)\n    File \"/Users/arjunarora/miniforge3/envs/deep/lib/python3.10/site-packages/keras/engine/training.py\", line 2260, in fit_generator\n      return self.fit(\n    File \"/Users/arjunarora/miniforge3/envs/deep/lib/python3.10/site-packages/keras/utils/traceback_utils.py\", line 64, in error_handler\n      return fn(*args, **kwargs)\n    File \"/Users/arjunarora/miniforge3/envs/deep/lib/python3.10/site-packages/keras/engine/training.py\", line 1409, in fit\n      tmp_logs = self.train_function(iterator)\n    File \"/Users/arjunarora/miniforge3/envs/deep/lib/python3.10/site-packages/keras/engine/training.py\", line 1051, in train_function\n      return step_function(self, iterator)\n    File \"/Users/arjunarora/miniforge3/envs/deep/lib/python3.10/site-packages/keras/engine/training.py\", line 1040, in step_function\n      outputs = model.distribute_strategy.run(run_step, args=(data,))\n    File \"/Users/arjunarora/miniforge3/envs/deep/lib/python3.10/site-packages/keras/engine/training.py\", line 1030, in run_step\n      outputs = model.train_step(data)\n    File \"/Users/arjunarora/miniforge3/envs/deep/lib/python3.10/site-packages/keras/engine/training.py\", line 890, in train_step\n      loss = self.compute_loss(x, y, y_pred, sample_weight)\n    File \"/Users/arjunarora/miniforge3/envs/deep/lib/python3.10/site-packages/keras/engine/training.py\", line 948, in compute_loss\n      return self.compiled_loss(\n    File \"/Users/arjunarora/miniforge3/envs/deep/lib/python3.10/site-packages/keras/engine/compile_utils.py\", line 201, in __call__\n      loss_value = loss_obj(y_t, y_p, sample_weight=sw)\n    File \"/Users/arjunarora/miniforge3/envs/deep/lib/python3.10/site-packages/keras/losses.py\", line 139, in __call__\n      losses = call_fn(y_true, y_pred)\n    File \"/Users/arjunarora/miniforge3/envs/deep/lib/python3.10/site-packages/keras/losses.py\", line 243, in call\n      return ag_fn(y_true, y_pred, **self._fn_kwargs)\n    File \"/Users/arjunarora/miniforge3/envs/deep/lib/python3.10/site-packages/keras/losses.py\", line 1787, in categorical_crossentropy\n      return backend.categorical_crossentropy(\n    File \"/Users/arjunarora/miniforge3/envs/deep/lib/python3.10/site-packages/keras/backend.py\", line 5134, in categorical_crossentropy\n      return tf.nn.softmax_cross_entropy_with_logits(\nNode: 'categorical_crossentropy/softmax_cross_entropy_with_logits'\nDetected at node 'categorical_crossentropy/softmax_cross_entropy_with_logits' defined at (most recent call last):\n    File \"/Users/arjunarora/miniforge3/envs/deep/lib/python3.10/runpy.py\", line 196, in _run_module_as_main\n      return _run_code(code, main_globals, None,\n    File \"/Users/arjunarora/miniforge3/envs/deep/lib/python3.10/runpy.py\", line 86, in _run_code\n      exec(code, run_globals)\n    File \"/Users/arjunarora/miniforge3/envs/deep/lib/python3.10/site-packages/ipykernel_launcher.py\", line 17, in <module>\n      app.launch_new_instance()\n    File \"/Users/arjunarora/miniforge3/envs/deep/lib/python3.10/site-packages/traitlets/config/application.py\", line 972, in launch_instance\n      app.start()\n    File \"/Users/arjunarora/miniforge3/envs/deep/lib/python3.10/site-packages/ipykernel/kernelapp.py\", line 712, in start\n      self.io_loop.start()\n    File \"/Users/arjunarora/miniforge3/envs/deep/lib/python3.10/site-packages/tornado/platform/asyncio.py\", line 199, in start\n      self.asyncio_loop.run_forever()\n    File \"/Users/arjunarora/miniforge3/envs/deep/lib/python3.10/asyncio/base_events.py\", line 600, in run_forever\n      self._run_once()\n    File \"/Users/arjunarora/miniforge3/envs/deep/lib/python3.10/asyncio/base_events.py\", line 1896, in _run_once\n      handle._run()\n    File \"/Users/arjunarora/miniforge3/envs/deep/lib/python3.10/asyncio/events.py\", line 80, in _run\n      self._context.run(self._callback, *self._args)\n    File \"/Users/arjunarora/miniforge3/envs/deep/lib/python3.10/site-packages/ipykernel/kernelbase.py\", line 504, in dispatch_queue\n      await self.process_one()\n    File \"/Users/arjunarora/miniforge3/envs/deep/lib/python3.10/site-packages/ipykernel/kernelbase.py\", line 493, in process_one\n      await dispatch(*args)\n    File \"/Users/arjunarora/miniforge3/envs/deep/lib/python3.10/site-packages/ipykernel/kernelbase.py\", line 400, in dispatch_shell\n      await result\n    File \"/Users/arjunarora/miniforge3/envs/deep/lib/python3.10/site-packages/ipykernel/kernelbase.py\", line 724, in execute_request\n      reply_content = await reply_content\n    File \"/Users/arjunarora/miniforge3/envs/deep/lib/python3.10/site-packages/ipykernel/ipkernel.py\", line 383, in do_execute\n      res = shell.run_cell(\n    File \"/Users/arjunarora/miniforge3/envs/deep/lib/python3.10/site-packages/ipykernel/zmqshell.py\", line 528, in run_cell\n      return super().run_cell(*args, **kwargs)\n    File \"/Users/arjunarora/miniforge3/envs/deep/lib/python3.10/site-packages/IPython/core/interactiveshell.py\", line 2881, in run_cell\n      result = self._run_cell(\n    File \"/Users/arjunarora/miniforge3/envs/deep/lib/python3.10/site-packages/IPython/core/interactiveshell.py\", line 2936, in _run_cell\n      return runner(coro)\n    File \"/Users/arjunarora/miniforge3/envs/deep/lib/python3.10/site-packages/IPython/core/async_helpers.py\", line 129, in _pseudo_sync_runner\n      coro.send(None)\n    File \"/Users/arjunarora/miniforge3/envs/deep/lib/python3.10/site-packages/IPython/core/interactiveshell.py\", line 3135, in run_cell_async\n      has_raised = await self.run_ast_nodes(code_ast.body, cell_name,\n    File \"/Users/arjunarora/miniforge3/envs/deep/lib/python3.10/site-packages/IPython/core/interactiveshell.py\", line 3338, in run_ast_nodes\n      if await self.run_code(code, result, async_=asy):\n    File \"/Users/arjunarora/miniforge3/envs/deep/lib/python3.10/site-packages/IPython/core/interactiveshell.py\", line 3398, in run_code\n      exec(code_obj, self.user_global_ns, self.user_ns)\n    File \"/var/folders/wm/jf5bq5r94mqgp8j4gnpmb7xw0000gn/T/ipykernel_16370/1213506448.py\", line 1, in <cell line: 1>\n      model_vgg16_fine_tune.fit_generator(train_generator,epochs=10, validation_data=valid_generator)\n    File \"/Users/arjunarora/miniforge3/envs/deep/lib/python3.10/site-packages/keras/engine/training.py\", line 2260, in fit_generator\n      return self.fit(\n    File \"/Users/arjunarora/miniforge3/envs/deep/lib/python3.10/site-packages/keras/utils/traceback_utils.py\", line 64, in error_handler\n      return fn(*args, **kwargs)\n    File \"/Users/arjunarora/miniforge3/envs/deep/lib/python3.10/site-packages/keras/engine/training.py\", line 1409, in fit\n      tmp_logs = self.train_function(iterator)\n    File \"/Users/arjunarora/miniforge3/envs/deep/lib/python3.10/site-packages/keras/engine/training.py\", line 1051, in train_function\n      return step_function(self, iterator)\n    File \"/Users/arjunarora/miniforge3/envs/deep/lib/python3.10/site-packages/keras/engine/training.py\", line 1040, in step_function\n      outputs = model.distribute_strategy.run(run_step, args=(data,))\n    File \"/Users/arjunarora/miniforge3/envs/deep/lib/python3.10/site-packages/keras/engine/training.py\", line 1030, in run_step\n      outputs = model.train_step(data)\n    File \"/Users/arjunarora/miniforge3/envs/deep/lib/python3.10/site-packages/keras/engine/training.py\", line 890, in train_step\n      loss = self.compute_loss(x, y, y_pred, sample_weight)\n    File \"/Users/arjunarora/miniforge3/envs/deep/lib/python3.10/site-packages/keras/engine/training.py\", line 948, in compute_loss\n      return self.compiled_loss(\n    File \"/Users/arjunarora/miniforge3/envs/deep/lib/python3.10/site-packages/keras/engine/compile_utils.py\", line 201, in __call__\n      loss_value = loss_obj(y_t, y_p, sample_weight=sw)\n    File \"/Users/arjunarora/miniforge3/envs/deep/lib/python3.10/site-packages/keras/losses.py\", line 139, in __call__\n      losses = call_fn(y_true, y_pred)\n    File \"/Users/arjunarora/miniforge3/envs/deep/lib/python3.10/site-packages/keras/losses.py\", line 243, in call\n      return ag_fn(y_true, y_pred, **self._fn_kwargs)\n    File \"/Users/arjunarora/miniforge3/envs/deep/lib/python3.10/site-packages/keras/losses.py\", line 1787, in categorical_crossentropy\n      return backend.categorical_crossentropy(\n    File \"/Users/arjunarora/miniforge3/envs/deep/lib/python3.10/site-packages/keras/backend.py\", line 5134, in categorical_crossentropy\n      return tf.nn.softmax_cross_entropy_with_logits(\nNode: 'categorical_crossentropy/softmax_cross_entropy_with_logits'\n2 root error(s) found.\n  (0) INVALID_ARGUMENT:  logits and labels must be broadcastable: logits_size=[8,10] labels_size=[128,10]\n\t [[{{node categorical_crossentropy/softmax_cross_entropy_with_logits}}]]\n\t [[sequential_1/dense_5/Softmax/_10]]\n  (1) INVALID_ARGUMENT:  logits and labels must be broadcastable: logits_size=[8,10] labels_size=[128,10]\n\t [[{{node categorical_crossentropy/softmax_cross_entropy_with_logits}}]]\n0 successful operations.\n0 derived errors ignored. [Op:__inference_train_function_18745]",
     "output_type": "error",
     "traceback": [
      "\u001b[0;31m---------------------------------------------------------------------------\u001b[0m",
      "\u001b[0;31mInvalidArgumentError\u001b[0m                      Traceback (most recent call last)",
      "\u001b[1;32m/Users/arjunarora/Documents/TUB/Studies/SS22/DL SS22/EuroSAT/EuroSAT.ipynb Cell 23'\u001b[0m in \u001b[0;36m<cell line: 1>\u001b[0;34m()\u001b[0m\n\u001b[0;32m----> <a href='vscode-notebook-cell:/Users/arjunarora/Documents/TUB/Studies/SS22/DL%20SS22/EuroSAT/EuroSAT.ipynb#ch0000022?line=0'>1</a>\u001b[0m model_vgg16_fine_tune\u001b[39m.\u001b[39;49mfit_generator(train_generator,epochs\u001b[39m=\u001b[39;49m\u001b[39m10\u001b[39;49m, validation_data\u001b[39m=\u001b[39;49mvalid_generator)\n",
      "File \u001b[0;32m~/miniforge3/envs/deep/lib/python3.10/site-packages/keras/engine/training.py:2260\u001b[0m, in \u001b[0;36mModel.fit_generator\u001b[0;34m(self, generator, steps_per_epoch, epochs, verbose, callbacks, validation_data, validation_steps, validation_freq, class_weight, max_queue_size, workers, use_multiprocessing, shuffle, initial_epoch)\u001b[0m\n\u001b[1;32m   2249\u001b[0m \u001b[39m\"\"\"Fits the model on data yielded batch-by-batch by a Python generator.\u001b[39;00m\n\u001b[1;32m   2250\u001b[0m \n\u001b[1;32m   2251\u001b[0m \u001b[39mDEPRECATED:\u001b[39;00m\n\u001b[1;32m   2252\u001b[0m \u001b[39m  `Model.fit` now supports generators, so there is no longer any need to use\u001b[39;00m\n\u001b[1;32m   2253\u001b[0m \u001b[39m  this endpoint.\u001b[39;00m\n\u001b[1;32m   2254\u001b[0m \u001b[39m\"\"\"\u001b[39;00m\n\u001b[1;32m   2255\u001b[0m warnings\u001b[39m.\u001b[39mwarn(\n\u001b[1;32m   2256\u001b[0m     \u001b[39m'\u001b[39m\u001b[39m`Model.fit_generator` is deprecated and \u001b[39m\u001b[39m'\u001b[39m\n\u001b[1;32m   2257\u001b[0m     \u001b[39m'\u001b[39m\u001b[39mwill be removed in a future version. \u001b[39m\u001b[39m'\u001b[39m\n\u001b[1;32m   2258\u001b[0m     \u001b[39m'\u001b[39m\u001b[39mPlease use `Model.fit`, which supports generators.\u001b[39m\u001b[39m'\u001b[39m,\n\u001b[1;32m   2259\u001b[0m     stacklevel\u001b[39m=\u001b[39m\u001b[39m2\u001b[39m)\n\u001b[0;32m-> 2260\u001b[0m \u001b[39mreturn\u001b[39;00m \u001b[39mself\u001b[39;49m\u001b[39m.\u001b[39;49mfit(\n\u001b[1;32m   2261\u001b[0m     generator,\n\u001b[1;32m   2262\u001b[0m     steps_per_epoch\u001b[39m=\u001b[39;49msteps_per_epoch,\n\u001b[1;32m   2263\u001b[0m     epochs\u001b[39m=\u001b[39;49mepochs,\n\u001b[1;32m   2264\u001b[0m     verbose\u001b[39m=\u001b[39;49mverbose,\n\u001b[1;32m   2265\u001b[0m     callbacks\u001b[39m=\u001b[39;49mcallbacks,\n\u001b[1;32m   2266\u001b[0m     validation_data\u001b[39m=\u001b[39;49mvalidation_data,\n\u001b[1;32m   2267\u001b[0m     validation_steps\u001b[39m=\u001b[39;49mvalidation_steps,\n\u001b[1;32m   2268\u001b[0m     validation_freq\u001b[39m=\u001b[39;49mvalidation_freq,\n\u001b[1;32m   2269\u001b[0m     class_weight\u001b[39m=\u001b[39;49mclass_weight,\n\u001b[1;32m   2270\u001b[0m     max_queue_size\u001b[39m=\u001b[39;49mmax_queue_size,\n\u001b[1;32m   2271\u001b[0m     workers\u001b[39m=\u001b[39;49mworkers,\n\u001b[1;32m   2272\u001b[0m     use_multiprocessing\u001b[39m=\u001b[39;49muse_multiprocessing,\n\u001b[1;32m   2273\u001b[0m     shuffle\u001b[39m=\u001b[39;49mshuffle,\n\u001b[1;32m   2274\u001b[0m     initial_epoch\u001b[39m=\u001b[39;49minitial_epoch)\n",
      "File \u001b[0;32m~/miniforge3/envs/deep/lib/python3.10/site-packages/keras/utils/traceback_utils.py:67\u001b[0m, in \u001b[0;36mfilter_traceback.<locals>.error_handler\u001b[0;34m(*args, **kwargs)\u001b[0m\n\u001b[1;32m     65\u001b[0m \u001b[39mexcept\u001b[39;00m \u001b[39mException\u001b[39;00m \u001b[39mas\u001b[39;00m e:  \u001b[39m# pylint: disable=broad-except\u001b[39;00m\n\u001b[1;32m     66\u001b[0m   filtered_tb \u001b[39m=\u001b[39m _process_traceback_frames(e\u001b[39m.\u001b[39m__traceback__)\n\u001b[0;32m---> 67\u001b[0m   \u001b[39mraise\u001b[39;00m e\u001b[39m.\u001b[39mwith_traceback(filtered_tb) \u001b[39mfrom\u001b[39;00m \u001b[39mNone\u001b[39m\n\u001b[1;32m     68\u001b[0m \u001b[39mfinally\u001b[39;00m:\n\u001b[1;32m     69\u001b[0m   \u001b[39mdel\u001b[39;00m filtered_tb\n",
      "File \u001b[0;32m~/miniforge3/envs/deep/lib/python3.10/site-packages/tensorflow/python/eager/execute.py:54\u001b[0m, in \u001b[0;36mquick_execute\u001b[0;34m(op_name, num_outputs, inputs, attrs, ctx, name)\u001b[0m\n\u001b[1;32m     52\u001b[0m \u001b[39mtry\u001b[39;00m:\n\u001b[1;32m     53\u001b[0m   ctx\u001b[39m.\u001b[39mensure_initialized()\n\u001b[0;32m---> 54\u001b[0m   tensors \u001b[39m=\u001b[39m pywrap_tfe\u001b[39m.\u001b[39mTFE_Py_Execute(ctx\u001b[39m.\u001b[39m_handle, device_name, op_name,\n\u001b[1;32m     55\u001b[0m                                       inputs, attrs, num_outputs)\n\u001b[1;32m     56\u001b[0m \u001b[39mexcept\u001b[39;00m core\u001b[39m.\u001b[39m_NotOkStatusException \u001b[39mas\u001b[39;00m e:\n\u001b[1;32m     57\u001b[0m   \u001b[39mif\u001b[39;00m name \u001b[39mis\u001b[39;00m \u001b[39mnot\u001b[39;00m \u001b[39mNone\u001b[39;00m:\n",
      "\u001b[0;31mInvalidArgumentError\u001b[0m: Graph execution error:\n\nDetected at node 'categorical_crossentropy/softmax_cross_entropy_with_logits' defined at (most recent call last):\n    File \"/Users/arjunarora/miniforge3/envs/deep/lib/python3.10/runpy.py\", line 196, in _run_module_as_main\n      return _run_code(code, main_globals, None,\n    File \"/Users/arjunarora/miniforge3/envs/deep/lib/python3.10/runpy.py\", line 86, in _run_code\n      exec(code, run_globals)\n    File \"/Users/arjunarora/miniforge3/envs/deep/lib/python3.10/site-packages/ipykernel_launcher.py\", line 17, in <module>\n      app.launch_new_instance()\n    File \"/Users/arjunarora/miniforge3/envs/deep/lib/python3.10/site-packages/traitlets/config/application.py\", line 972, in launch_instance\n      app.start()\n    File \"/Users/arjunarora/miniforge3/envs/deep/lib/python3.10/site-packages/ipykernel/kernelapp.py\", line 712, in start\n      self.io_loop.start()\n    File \"/Users/arjunarora/miniforge3/envs/deep/lib/python3.10/site-packages/tornado/platform/asyncio.py\", line 199, in start\n      self.asyncio_loop.run_forever()\n    File \"/Users/arjunarora/miniforge3/envs/deep/lib/python3.10/asyncio/base_events.py\", line 600, in run_forever\n      self._run_once()\n    File \"/Users/arjunarora/miniforge3/envs/deep/lib/python3.10/asyncio/base_events.py\", line 1896, in _run_once\n      handle._run()\n    File \"/Users/arjunarora/miniforge3/envs/deep/lib/python3.10/asyncio/events.py\", line 80, in _run\n      self._context.run(self._callback, *self._args)\n    File \"/Users/arjunarora/miniforge3/envs/deep/lib/python3.10/site-packages/ipykernel/kernelbase.py\", line 504, in dispatch_queue\n      await self.process_one()\n    File \"/Users/arjunarora/miniforge3/envs/deep/lib/python3.10/site-packages/ipykernel/kernelbase.py\", line 493, in process_one\n      await dispatch(*args)\n    File \"/Users/arjunarora/miniforge3/envs/deep/lib/python3.10/site-packages/ipykernel/kernelbase.py\", line 400, in dispatch_shell\n      await result\n    File \"/Users/arjunarora/miniforge3/envs/deep/lib/python3.10/site-packages/ipykernel/kernelbase.py\", line 724, in execute_request\n      reply_content = await reply_content\n    File \"/Users/arjunarora/miniforge3/envs/deep/lib/python3.10/site-packages/ipykernel/ipkernel.py\", line 383, in do_execute\n      res = shell.run_cell(\n    File \"/Users/arjunarora/miniforge3/envs/deep/lib/python3.10/site-packages/ipykernel/zmqshell.py\", line 528, in run_cell\n      return super().run_cell(*args, **kwargs)\n    File \"/Users/arjunarora/miniforge3/envs/deep/lib/python3.10/site-packages/IPython/core/interactiveshell.py\", line 2881, in run_cell\n      result = self._run_cell(\n    File \"/Users/arjunarora/miniforge3/envs/deep/lib/python3.10/site-packages/IPython/core/interactiveshell.py\", line 2936, in _run_cell\n      return runner(coro)\n    File \"/Users/arjunarora/miniforge3/envs/deep/lib/python3.10/site-packages/IPython/core/async_helpers.py\", line 129, in _pseudo_sync_runner\n      coro.send(None)\n    File \"/Users/arjunarora/miniforge3/envs/deep/lib/python3.10/site-packages/IPython/core/interactiveshell.py\", line 3135, in run_cell_async\n      has_raised = await self.run_ast_nodes(code_ast.body, cell_name,\n    File \"/Users/arjunarora/miniforge3/envs/deep/lib/python3.10/site-packages/IPython/core/interactiveshell.py\", line 3338, in run_ast_nodes\n      if await self.run_code(code, result, async_=asy):\n    File \"/Users/arjunarora/miniforge3/envs/deep/lib/python3.10/site-packages/IPython/core/interactiveshell.py\", line 3398, in run_code\n      exec(code_obj, self.user_global_ns, self.user_ns)\n    File \"/var/folders/wm/jf5bq5r94mqgp8j4gnpmb7xw0000gn/T/ipykernel_16370/1213506448.py\", line 1, in <cell line: 1>\n      model_vgg16_fine_tune.fit_generator(train_generator,epochs=10, validation_data=valid_generator)\n    File \"/Users/arjunarora/miniforge3/envs/deep/lib/python3.10/site-packages/keras/engine/training.py\", line 2260, in fit_generator\n      return self.fit(\n    File \"/Users/arjunarora/miniforge3/envs/deep/lib/python3.10/site-packages/keras/utils/traceback_utils.py\", line 64, in error_handler\n      return fn(*args, **kwargs)\n    File \"/Users/arjunarora/miniforge3/envs/deep/lib/python3.10/site-packages/keras/engine/training.py\", line 1409, in fit\n      tmp_logs = self.train_function(iterator)\n    File \"/Users/arjunarora/miniforge3/envs/deep/lib/python3.10/site-packages/keras/engine/training.py\", line 1051, in train_function\n      return step_function(self, iterator)\n    File \"/Users/arjunarora/miniforge3/envs/deep/lib/python3.10/site-packages/keras/engine/training.py\", line 1040, in step_function\n      outputs = model.distribute_strategy.run(run_step, args=(data,))\n    File \"/Users/arjunarora/miniforge3/envs/deep/lib/python3.10/site-packages/keras/engine/training.py\", line 1030, in run_step\n      outputs = model.train_step(data)\n    File \"/Users/arjunarora/miniforge3/envs/deep/lib/python3.10/site-packages/keras/engine/training.py\", line 890, in train_step\n      loss = self.compute_loss(x, y, y_pred, sample_weight)\n    File \"/Users/arjunarora/miniforge3/envs/deep/lib/python3.10/site-packages/keras/engine/training.py\", line 948, in compute_loss\n      return self.compiled_loss(\n    File \"/Users/arjunarora/miniforge3/envs/deep/lib/python3.10/site-packages/keras/engine/compile_utils.py\", line 201, in __call__\n      loss_value = loss_obj(y_t, y_p, sample_weight=sw)\n    File \"/Users/arjunarora/miniforge3/envs/deep/lib/python3.10/site-packages/keras/losses.py\", line 139, in __call__\n      losses = call_fn(y_true, y_pred)\n    File \"/Users/arjunarora/miniforge3/envs/deep/lib/python3.10/site-packages/keras/losses.py\", line 243, in call\n      return ag_fn(y_true, y_pred, **self._fn_kwargs)\n    File \"/Users/arjunarora/miniforge3/envs/deep/lib/python3.10/site-packages/keras/losses.py\", line 1787, in categorical_crossentropy\n      return backend.categorical_crossentropy(\n    File \"/Users/arjunarora/miniforge3/envs/deep/lib/python3.10/site-packages/keras/backend.py\", line 5134, in categorical_crossentropy\n      return tf.nn.softmax_cross_entropy_with_logits(\nNode: 'categorical_crossentropy/softmax_cross_entropy_with_logits'\nDetected at node 'categorical_crossentropy/softmax_cross_entropy_with_logits' defined at (most recent call last):\n    File \"/Users/arjunarora/miniforge3/envs/deep/lib/python3.10/runpy.py\", line 196, in _run_module_as_main\n      return _run_code(code, main_globals, None,\n    File \"/Users/arjunarora/miniforge3/envs/deep/lib/python3.10/runpy.py\", line 86, in _run_code\n      exec(code, run_globals)\n    File \"/Users/arjunarora/miniforge3/envs/deep/lib/python3.10/site-packages/ipykernel_launcher.py\", line 17, in <module>\n      app.launch_new_instance()\n    File \"/Users/arjunarora/miniforge3/envs/deep/lib/python3.10/site-packages/traitlets/config/application.py\", line 972, in launch_instance\n      app.start()\n    File \"/Users/arjunarora/miniforge3/envs/deep/lib/python3.10/site-packages/ipykernel/kernelapp.py\", line 712, in start\n      self.io_loop.start()\n    File \"/Users/arjunarora/miniforge3/envs/deep/lib/python3.10/site-packages/tornado/platform/asyncio.py\", line 199, in start\n      self.asyncio_loop.run_forever()\n    File \"/Users/arjunarora/miniforge3/envs/deep/lib/python3.10/asyncio/base_events.py\", line 600, in run_forever\n      self._run_once()\n    File \"/Users/arjunarora/miniforge3/envs/deep/lib/python3.10/asyncio/base_events.py\", line 1896, in _run_once\n      handle._run()\n    File \"/Users/arjunarora/miniforge3/envs/deep/lib/python3.10/asyncio/events.py\", line 80, in _run\n      self._context.run(self._callback, *self._args)\n    File \"/Users/arjunarora/miniforge3/envs/deep/lib/python3.10/site-packages/ipykernel/kernelbase.py\", line 504, in dispatch_queue\n      await self.process_one()\n    File \"/Users/arjunarora/miniforge3/envs/deep/lib/python3.10/site-packages/ipykernel/kernelbase.py\", line 493, in process_one\n      await dispatch(*args)\n    File \"/Users/arjunarora/miniforge3/envs/deep/lib/python3.10/site-packages/ipykernel/kernelbase.py\", line 400, in dispatch_shell\n      await result\n    File \"/Users/arjunarora/miniforge3/envs/deep/lib/python3.10/site-packages/ipykernel/kernelbase.py\", line 724, in execute_request\n      reply_content = await reply_content\n    File \"/Users/arjunarora/miniforge3/envs/deep/lib/python3.10/site-packages/ipykernel/ipkernel.py\", line 383, in do_execute\n      res = shell.run_cell(\n    File \"/Users/arjunarora/miniforge3/envs/deep/lib/python3.10/site-packages/ipykernel/zmqshell.py\", line 528, in run_cell\n      return super().run_cell(*args, **kwargs)\n    File \"/Users/arjunarora/miniforge3/envs/deep/lib/python3.10/site-packages/IPython/core/interactiveshell.py\", line 2881, in run_cell\n      result = self._run_cell(\n    File \"/Users/arjunarora/miniforge3/envs/deep/lib/python3.10/site-packages/IPython/core/interactiveshell.py\", line 2936, in _run_cell\n      return runner(coro)\n    File \"/Users/arjunarora/miniforge3/envs/deep/lib/python3.10/site-packages/IPython/core/async_helpers.py\", line 129, in _pseudo_sync_runner\n      coro.send(None)\n    File \"/Users/arjunarora/miniforge3/envs/deep/lib/python3.10/site-packages/IPython/core/interactiveshell.py\", line 3135, in run_cell_async\n      has_raised = await self.run_ast_nodes(code_ast.body, cell_name,\n    File \"/Users/arjunarora/miniforge3/envs/deep/lib/python3.10/site-packages/IPython/core/interactiveshell.py\", line 3338, in run_ast_nodes\n      if await self.run_code(code, result, async_=asy):\n    File \"/Users/arjunarora/miniforge3/envs/deep/lib/python3.10/site-packages/IPython/core/interactiveshell.py\", line 3398, in run_code\n      exec(code_obj, self.user_global_ns, self.user_ns)\n    File \"/var/folders/wm/jf5bq5r94mqgp8j4gnpmb7xw0000gn/T/ipykernel_16370/1213506448.py\", line 1, in <cell line: 1>\n      model_vgg16_fine_tune.fit_generator(train_generator,epochs=10, validation_data=valid_generator)\n    File \"/Users/arjunarora/miniforge3/envs/deep/lib/python3.10/site-packages/keras/engine/training.py\", line 2260, in fit_generator\n      return self.fit(\n    File \"/Users/arjunarora/miniforge3/envs/deep/lib/python3.10/site-packages/keras/utils/traceback_utils.py\", line 64, in error_handler\n      return fn(*args, **kwargs)\n    File \"/Users/arjunarora/miniforge3/envs/deep/lib/python3.10/site-packages/keras/engine/training.py\", line 1409, in fit\n      tmp_logs = self.train_function(iterator)\n    File \"/Users/arjunarora/miniforge3/envs/deep/lib/python3.10/site-packages/keras/engine/training.py\", line 1051, in train_function\n      return step_function(self, iterator)\n    File \"/Users/arjunarora/miniforge3/envs/deep/lib/python3.10/site-packages/keras/engine/training.py\", line 1040, in step_function\n      outputs = model.distribute_strategy.run(run_step, args=(data,))\n    File \"/Users/arjunarora/miniforge3/envs/deep/lib/python3.10/site-packages/keras/engine/training.py\", line 1030, in run_step\n      outputs = model.train_step(data)\n    File \"/Users/arjunarora/miniforge3/envs/deep/lib/python3.10/site-packages/keras/engine/training.py\", line 890, in train_step\n      loss = self.compute_loss(x, y, y_pred, sample_weight)\n    File \"/Users/arjunarora/miniforge3/envs/deep/lib/python3.10/site-packages/keras/engine/training.py\", line 948, in compute_loss\n      return self.compiled_loss(\n    File \"/Users/arjunarora/miniforge3/envs/deep/lib/python3.10/site-packages/keras/engine/compile_utils.py\", line 201, in __call__\n      loss_value = loss_obj(y_t, y_p, sample_weight=sw)\n    File \"/Users/arjunarora/miniforge3/envs/deep/lib/python3.10/site-packages/keras/losses.py\", line 139, in __call__\n      losses = call_fn(y_true, y_pred)\n    File \"/Users/arjunarora/miniforge3/envs/deep/lib/python3.10/site-packages/keras/losses.py\", line 243, in call\n      return ag_fn(y_true, y_pred, **self._fn_kwargs)\n    File \"/Users/arjunarora/miniforge3/envs/deep/lib/python3.10/site-packages/keras/losses.py\", line 1787, in categorical_crossentropy\n      return backend.categorical_crossentropy(\n    File \"/Users/arjunarora/miniforge3/envs/deep/lib/python3.10/site-packages/keras/backend.py\", line 5134, in categorical_crossentropy\n      return tf.nn.softmax_cross_entropy_with_logits(\nNode: 'categorical_crossentropy/softmax_cross_entropy_with_logits'\n2 root error(s) found.\n  (0) INVALID_ARGUMENT:  logits and labels must be broadcastable: logits_size=[8,10] labels_size=[128,10]\n\t [[{{node categorical_crossentropy/softmax_cross_entropy_with_logits}}]]\n\t [[sequential_1/dense_5/Softmax/_10]]\n  (1) INVALID_ARGUMENT:  logits and labels must be broadcastable: logits_size=[8,10] labels_size=[128,10]\n\t [[{{node categorical_crossentropy/softmax_cross_entropy_with_logits}}]]\n0 successful operations.\n0 derived errors ignored. [Op:__inference_train_function_18745]"
     ]
    }
   ],
   "source": [
    "model_vgg16_fine_tune.fit_generator(train_generator,epochs=10, validation_data=valid_generator)\n"
   ]
  },
  {
   "cell_type": "code",
   "execution_count": 172,
   "metadata": {},
   "outputs": [],
   "source": [
    "#IMport googlenet\n",
    "from keras.applications.inception_resnet_v2 import InceptionResNetV2"
   ]
  },
  {
   "cell_type": "code",
   "execution_count": 178,
   "metadata": {},
   "outputs": [
    {
     "ename": "ValueError",
     "evalue": "Input size must be at least 75x75; Received: input_shape=(64, 64, 3)",
     "output_type": "error",
     "traceback": [
      "\u001b[0;31m---------------------------------------------------------------------------\u001b[0m",
      "\u001b[0;31mValueError\u001b[0m                                Traceback (most recent call last)",
      "\u001b[1;32m/Users/arjunarora/Documents/TUB/Studies/SS22/DL SS22/EuroSAT/EuroSAT.ipynb Cell 30'\u001b[0m in \u001b[0;36m<cell line: 1>\u001b[0;34m()\u001b[0m\n\u001b[0;32m----> <a href='vscode-notebook-cell:/Users/arjunarora/Documents/TUB/Studies/SS22/DL%20SS22/EuroSAT/EuroSAT.ipynb#ch0000023?line=0'>1</a>\u001b[0m model \u001b[39m=\u001b[39m InceptionResNetV2(weights\u001b[39m=\u001b[39;49m\u001b[39m\"\u001b[39;49m\u001b[39mimagenet\u001b[39;49m\u001b[39m\"\u001b[39;49m,input_shape\u001b[39m=\u001b[39;49m(\u001b[39m64\u001b[39;49m,\u001b[39m64\u001b[39;49m,\u001b[39m3\u001b[39;49m), include_top\u001b[39m=\u001b[39;49m\u001b[39mFalse\u001b[39;49;00m, classes\u001b[39m=\u001b[39;49m \u001b[39mlen\u001b[39;49m(LABELS))\n",
      "File \u001b[0;32m~/miniforge3/envs/deep/lib/python3.10/site-packages/keras/applications/inception_resnet_v2.py:130\u001b[0m, in \u001b[0;36mInceptionResNetV2\u001b[0;34m(include_top, weights, input_tensor, input_shape, pooling, classes, classifier_activation, **kwargs)\u001b[0m\n\u001b[1;32m    126\u001b[0m   \u001b[39mraise\u001b[39;00m \u001b[39mValueError\u001b[39;00m(\u001b[39m'\u001b[39m\u001b[39mIf using `weights` as `\u001b[39m\u001b[39m\"\u001b[39m\u001b[39mimagenet\u001b[39m\u001b[39m\"\u001b[39m\u001b[39m` with `include_top`\u001b[39m\u001b[39m'\u001b[39m\n\u001b[1;32m    127\u001b[0m                    \u001b[39m'\u001b[39m\u001b[39m as true, `classes` should be 1000\u001b[39m\u001b[39m'\u001b[39m)\n\u001b[1;32m    129\u001b[0m \u001b[39m# Determine proper input shape\u001b[39;00m\n\u001b[0;32m--> 130\u001b[0m input_shape \u001b[39m=\u001b[39m imagenet_utils\u001b[39m.\u001b[39;49mobtain_input_shape(\n\u001b[1;32m    131\u001b[0m     input_shape,\n\u001b[1;32m    132\u001b[0m     default_size\u001b[39m=\u001b[39;49m\u001b[39m299\u001b[39;49m,\n\u001b[1;32m    133\u001b[0m     min_size\u001b[39m=\u001b[39;49m\u001b[39m75\u001b[39;49m,\n\u001b[1;32m    134\u001b[0m     data_format\u001b[39m=\u001b[39;49mbackend\u001b[39m.\u001b[39;49mimage_data_format(),\n\u001b[1;32m    135\u001b[0m     require_flatten\u001b[39m=\u001b[39;49minclude_top,\n\u001b[1;32m    136\u001b[0m     weights\u001b[39m=\u001b[39;49mweights)\n\u001b[1;32m    138\u001b[0m \u001b[39mif\u001b[39;00m input_tensor \u001b[39mis\u001b[39;00m \u001b[39mNone\u001b[39;00m:\n\u001b[1;32m    139\u001b[0m   img_input \u001b[39m=\u001b[39m layers\u001b[39m.\u001b[39mInput(shape\u001b[39m=\u001b[39minput_shape)\n",
      "File \u001b[0;32m~/miniforge3/envs/deep/lib/python3.10/site-packages/keras/applications/imagenet_utils.py:376\u001b[0m, in \u001b[0;36mobtain_input_shape\u001b[0;34m(input_shape, default_size, min_size, data_format, require_flatten, weights)\u001b[0m\n\u001b[1;32m    372\u001b[0m         \u001b[39mraise\u001b[39;00m \u001b[39mValueError\u001b[39;00m(\u001b[39m'\u001b[39m\u001b[39mThe input must have 3 channels; Received \u001b[39m\u001b[39m'\u001b[39m\n\u001b[1;32m    373\u001b[0m                          \u001b[39mf\u001b[39m\u001b[39m'\u001b[39m\u001b[39m`input_shape=\u001b[39m\u001b[39m{\u001b[39;00minput_shape\u001b[39m}\u001b[39;00m\u001b[39m`\u001b[39m\u001b[39m'\u001b[39m)\n\u001b[1;32m    374\u001b[0m       \u001b[39mif\u001b[39;00m ((input_shape[\u001b[39m0\u001b[39m] \u001b[39mis\u001b[39;00m \u001b[39mnot\u001b[39;00m \u001b[39mNone\u001b[39;00m \u001b[39mand\u001b[39;00m input_shape[\u001b[39m0\u001b[39m] \u001b[39m<\u001b[39m min_size) \u001b[39mor\u001b[39;00m\n\u001b[1;32m    375\u001b[0m           (input_shape[\u001b[39m1\u001b[39m] \u001b[39mis\u001b[39;00m \u001b[39mnot\u001b[39;00m \u001b[39mNone\u001b[39;00m \u001b[39mand\u001b[39;00m input_shape[\u001b[39m1\u001b[39m] \u001b[39m<\u001b[39m min_size)):\n\u001b[0;32m--> 376\u001b[0m         \u001b[39mraise\u001b[39;00m \u001b[39mValueError\u001b[39;00m(\u001b[39m'\u001b[39m\u001b[39mInput size must be at least \u001b[39m\u001b[39m'\u001b[39m\n\u001b[1;32m    377\u001b[0m                          \u001b[39mf\u001b[39m\u001b[39m'\u001b[39m\u001b[39m{\u001b[39;00mmin_size\u001b[39m}\u001b[39;00m\u001b[39mx\u001b[39m\u001b[39m{\u001b[39;00mmin_size\u001b[39m}\u001b[39;00m\u001b[39m; Received: \u001b[39m\u001b[39m'\u001b[39m\n\u001b[1;32m    378\u001b[0m                          \u001b[39mf\u001b[39m\u001b[39m'\u001b[39m\u001b[39minput_shape=\u001b[39m\u001b[39m{\u001b[39;00minput_shape\u001b[39m}\u001b[39;00m\u001b[39m'\u001b[39m)\n\u001b[1;32m    379\u001b[0m \u001b[39melse\u001b[39;00m:\n\u001b[1;32m    380\u001b[0m   \u001b[39mif\u001b[39;00m require_flatten:\n",
      "\u001b[0;31mValueError\u001b[0m: Input size must be at least 75x75; Received: input_shape=(64, 64, 3)"
     ]
    }
   ],
   "source": [
    "model = InceptionResNetV2(weights=\"imagenet\",input_shape=(64,64,3), include_top=False, classes= len(LABELS))"
   ]
  },
  {
   "cell_type": "code",
   "execution_count": 199,
   "metadata": {},
   "outputs": [],
   "source": [
    "from keras.applications.vgg19 import VGG19\n",
    "model_vgg19 = VGG19(weights=\"imagenet\",input_shape=(64,64,3), include_top=False, classes= len(LABELS), pooling='avg')"
   ]
  },
  {
   "cell_type": "code",
   "execution_count": 219,
   "metadata": {},
   "outputs": [],
   "source": [
    "model_vgg19.compile(optimizer=Adagrad(), loss='categorical_crossentropy', metrics=['categorical_accuracy'])"
   ]
  },
  {
   "cell_type": "code",
   "execution_count": 220,
   "metadata": {},
   "outputs": [
    {
     "name": "stdout",
     "output_type": "stream",
     "text": [
      "Model: \"vgg19\"\n",
      "_________________________________________________________________\n",
      " Layer (type)                Output Shape              Param #   \n",
      "=================================================================\n",
      " input_22 (InputLayer)       [(None, 64, 64, 3)]       0         \n",
      "                                                                 \n",
      " block1_conv1 (Conv2D)       (None, 64, 64, 64)        1792      \n",
      "                                                                 \n",
      " block1_conv2 (Conv2D)       (None, 64, 64, 64)        36928     \n",
      "                                                                 \n",
      " block1_pool (MaxPooling2D)  (None, 32, 32, 64)        0         \n",
      "                                                                 \n",
      " block2_conv1 (Conv2D)       (None, 32, 32, 128)       73856     \n",
      "                                                                 \n",
      " block2_conv2 (Conv2D)       (None, 32, 32, 128)       147584    \n",
      "                                                                 \n",
      " block2_pool (MaxPooling2D)  (None, 16, 16, 128)       0         \n",
      "                                                                 \n",
      " block3_conv1 (Conv2D)       (None, 16, 16, 256)       295168    \n",
      "                                                                 \n",
      " block3_conv2 (Conv2D)       (None, 16, 16, 256)       590080    \n",
      "                                                                 \n",
      " block3_conv3 (Conv2D)       (None, 16, 16, 256)       590080    \n",
      "                                                                 \n",
      " block3_conv4 (Conv2D)       (None, 16, 16, 256)       590080    \n",
      "                                                                 \n",
      " block3_pool (MaxPooling2D)  (None, 8, 8, 256)         0         \n",
      "                                                                 \n",
      " block4_conv1 (Conv2D)       (None, 8, 8, 512)         1180160   \n",
      "                                                                 \n",
      " block4_conv2 (Conv2D)       (None, 8, 8, 512)         2359808   \n",
      "                                                                 \n",
      " block4_conv3 (Conv2D)       (None, 8, 8, 512)         2359808   \n",
      "                                                                 \n",
      " block4_conv4 (Conv2D)       (None, 8, 8, 512)         2359808   \n",
      "                                                                 \n",
      " block4_pool (MaxPooling2D)  (None, 4, 4, 512)         0         \n",
      "                                                                 \n",
      " block5_conv1 (Conv2D)       (None, 4, 4, 512)         2359808   \n",
      "                                                                 \n",
      " block5_conv2 (Conv2D)       (None, 4, 4, 512)         2359808   \n",
      "                                                                 \n",
      " block5_conv3 (Conv2D)       (None, 4, 4, 512)         2359808   \n",
      "                                                                 \n",
      " block5_conv4 (Conv2D)       (None, 4, 4, 512)         2359808   \n",
      "                                                                 \n",
      " block5_pool (MaxPooling2D)  (None, 2, 2, 512)         0         \n",
      "                                                                 \n",
      " global_average_pooling2d_3   (None, 512)              0         \n",
      " (GlobalAveragePooling2D)                                        \n",
      "                                                                 \n",
      "=================================================================\n",
      "Total params: 20,024,384\n",
      "Trainable params: 20,024,384\n",
      "Non-trainable params: 0\n",
      "_________________________________________________________________\n"
     ]
    }
   ],
   "source": [
    "model_vgg19.summary()"
   ]
  },
  {
   "cell_type": "code",
   "execution_count": 221,
   "metadata": {},
   "outputs": [],
   "source": [
    "train_generator.reset()"
   ]
  },
  {
   "cell_type": "code",
   "execution_count": 222,
   "metadata": {},
   "outputs": [
    {
     "name": "stdout",
     "output_type": "stream",
     "text": [
      "Epoch 1/10\n"
     ]
    },
    {
     "name": "stderr",
     "output_type": "stream",
     "text": [
      "/var/folders/wm/jf5bq5r94mqgp8j4gnpmb7xw0000gn/T/ipykernel_16370/2941083123.py:1: UserWarning: `Model.fit_generator` is deprecated and will be removed in a future version. Please use `Model.fit`, which supports generators.\n",
      "  model_vgg19.fit_generator(train_generator,epochs=10, validation_data=valid_generator)\n",
      "2022-06-24 13:46:21.686722: I tensorflow/core/grappler/optimizers/custom_graph_optimizer_registry.cc:113] Plugin optimizer for device_type GPU is enabled.\n"
     ]
    },
    {
     "ename": "InvalidArgumentError",
     "evalue": "Graph execution error:\n\nDetected at node 'categorical_crossentropy/mul' defined at (most recent call last):\n    File \"/Users/arjunarora/miniforge3/envs/deep/lib/python3.10/runpy.py\", line 196, in _run_module_as_main\n      return _run_code(code, main_globals, None,\n    File \"/Users/arjunarora/miniforge3/envs/deep/lib/python3.10/runpy.py\", line 86, in _run_code\n      exec(code, run_globals)\n    File \"/Users/arjunarora/miniforge3/envs/deep/lib/python3.10/site-packages/ipykernel_launcher.py\", line 17, in <module>\n      app.launch_new_instance()\n    File \"/Users/arjunarora/miniforge3/envs/deep/lib/python3.10/site-packages/traitlets/config/application.py\", line 972, in launch_instance\n      app.start()\n    File \"/Users/arjunarora/miniforge3/envs/deep/lib/python3.10/site-packages/ipykernel/kernelapp.py\", line 712, in start\n      self.io_loop.start()\n    File \"/Users/arjunarora/miniforge3/envs/deep/lib/python3.10/site-packages/tornado/platform/asyncio.py\", line 199, in start\n      self.asyncio_loop.run_forever()\n    File \"/Users/arjunarora/miniforge3/envs/deep/lib/python3.10/asyncio/base_events.py\", line 600, in run_forever\n      self._run_once()\n    File \"/Users/arjunarora/miniforge3/envs/deep/lib/python3.10/asyncio/base_events.py\", line 1896, in _run_once\n      handle._run()\n    File \"/Users/arjunarora/miniforge3/envs/deep/lib/python3.10/asyncio/events.py\", line 80, in _run\n      self._context.run(self._callback, *self._args)\n    File \"/Users/arjunarora/miniforge3/envs/deep/lib/python3.10/site-packages/ipykernel/kernelbase.py\", line 504, in dispatch_queue\n      await self.process_one()\n    File \"/Users/arjunarora/miniforge3/envs/deep/lib/python3.10/site-packages/ipykernel/kernelbase.py\", line 493, in process_one\n      await dispatch(*args)\n    File \"/Users/arjunarora/miniforge3/envs/deep/lib/python3.10/site-packages/ipykernel/kernelbase.py\", line 400, in dispatch_shell\n      await result\n    File \"/Users/arjunarora/miniforge3/envs/deep/lib/python3.10/site-packages/ipykernel/kernelbase.py\", line 724, in execute_request\n      reply_content = await reply_content\n    File \"/Users/arjunarora/miniforge3/envs/deep/lib/python3.10/site-packages/ipykernel/ipkernel.py\", line 383, in do_execute\n      res = shell.run_cell(\n    File \"/Users/arjunarora/miniforge3/envs/deep/lib/python3.10/site-packages/ipykernel/zmqshell.py\", line 528, in run_cell\n      return super().run_cell(*args, **kwargs)\n    File \"/Users/arjunarora/miniforge3/envs/deep/lib/python3.10/site-packages/IPython/core/interactiveshell.py\", line 2881, in run_cell\n      result = self._run_cell(\n    File \"/Users/arjunarora/miniforge3/envs/deep/lib/python3.10/site-packages/IPython/core/interactiveshell.py\", line 2936, in _run_cell\n      return runner(coro)\n    File \"/Users/arjunarora/miniforge3/envs/deep/lib/python3.10/site-packages/IPython/core/async_helpers.py\", line 129, in _pseudo_sync_runner\n      coro.send(None)\n    File \"/Users/arjunarora/miniforge3/envs/deep/lib/python3.10/site-packages/IPython/core/interactiveshell.py\", line 3135, in run_cell_async\n      has_raised = await self.run_ast_nodes(code_ast.body, cell_name,\n    File \"/Users/arjunarora/miniforge3/envs/deep/lib/python3.10/site-packages/IPython/core/interactiveshell.py\", line 3338, in run_ast_nodes\n      if await self.run_code(code, result, async_=asy):\n    File \"/Users/arjunarora/miniforge3/envs/deep/lib/python3.10/site-packages/IPython/core/interactiveshell.py\", line 3398, in run_code\n      exec(code_obj, self.user_global_ns, self.user_ns)\n    File \"/var/folders/wm/jf5bq5r94mqgp8j4gnpmb7xw0000gn/T/ipykernel_16370/2941083123.py\", line 1, in <cell line: 1>\n      model_vgg19.fit_generator(train_generator,epochs=10, validation_data=valid_generator)\n    File \"/Users/arjunarora/miniforge3/envs/deep/lib/python3.10/site-packages/keras/engine/training.py\", line 2260, in fit_generator\n      return self.fit(\n    File \"/Users/arjunarora/miniforge3/envs/deep/lib/python3.10/site-packages/keras/utils/traceback_utils.py\", line 64, in error_handler\n      return fn(*args, **kwargs)\n    File \"/Users/arjunarora/miniforge3/envs/deep/lib/python3.10/site-packages/keras/engine/training.py\", line 1409, in fit\n      tmp_logs = self.train_function(iterator)\n    File \"/Users/arjunarora/miniforge3/envs/deep/lib/python3.10/site-packages/keras/engine/training.py\", line 1051, in train_function\n      return step_function(self, iterator)\n    File \"/Users/arjunarora/miniforge3/envs/deep/lib/python3.10/site-packages/keras/engine/training.py\", line 1040, in step_function\n      outputs = model.distribute_strategy.run(run_step, args=(data,))\n    File \"/Users/arjunarora/miniforge3/envs/deep/lib/python3.10/site-packages/keras/engine/training.py\", line 1030, in run_step\n      outputs = model.train_step(data)\n    File \"/Users/arjunarora/miniforge3/envs/deep/lib/python3.10/site-packages/keras/engine/training.py\", line 890, in train_step\n      loss = self.compute_loss(x, y, y_pred, sample_weight)\n    File \"/Users/arjunarora/miniforge3/envs/deep/lib/python3.10/site-packages/keras/engine/training.py\", line 948, in compute_loss\n      return self.compiled_loss(\n    File \"/Users/arjunarora/miniforge3/envs/deep/lib/python3.10/site-packages/keras/engine/compile_utils.py\", line 201, in __call__\n      loss_value = loss_obj(y_t, y_p, sample_weight=sw)\n    File \"/Users/arjunarora/miniforge3/envs/deep/lib/python3.10/site-packages/keras/losses.py\", line 139, in __call__\n      losses = call_fn(y_true, y_pred)\n    File \"/Users/arjunarora/miniforge3/envs/deep/lib/python3.10/site-packages/keras/losses.py\", line 243, in call\n      return ag_fn(y_true, y_pred, **self._fn_kwargs)\n    File \"/Users/arjunarora/miniforge3/envs/deep/lib/python3.10/site-packages/keras/losses.py\", line 1787, in categorical_crossentropy\n      return backend.categorical_crossentropy(\n    File \"/Users/arjunarora/miniforge3/envs/deep/lib/python3.10/site-packages/keras/backend.py\", line 5153, in categorical_crossentropy\n      return -tf.reduce_sum(target * tf.math.log(output), axis)\nNode: 'categorical_crossentropy/mul'\nDetected at node 'categorical_crossentropy/mul' defined at (most recent call last):\n    File \"/Users/arjunarora/miniforge3/envs/deep/lib/python3.10/runpy.py\", line 196, in _run_module_as_main\n      return _run_code(code, main_globals, None,\n    File \"/Users/arjunarora/miniforge3/envs/deep/lib/python3.10/runpy.py\", line 86, in _run_code\n      exec(code, run_globals)\n    File \"/Users/arjunarora/miniforge3/envs/deep/lib/python3.10/site-packages/ipykernel_launcher.py\", line 17, in <module>\n      app.launch_new_instance()\n    File \"/Users/arjunarora/miniforge3/envs/deep/lib/python3.10/site-packages/traitlets/config/application.py\", line 972, in launch_instance\n      app.start()\n    File \"/Users/arjunarora/miniforge3/envs/deep/lib/python3.10/site-packages/ipykernel/kernelapp.py\", line 712, in start\n      self.io_loop.start()\n    File \"/Users/arjunarora/miniforge3/envs/deep/lib/python3.10/site-packages/tornado/platform/asyncio.py\", line 199, in start\n      self.asyncio_loop.run_forever()\n    File \"/Users/arjunarora/miniforge3/envs/deep/lib/python3.10/asyncio/base_events.py\", line 600, in run_forever\n      self._run_once()\n    File \"/Users/arjunarora/miniforge3/envs/deep/lib/python3.10/asyncio/base_events.py\", line 1896, in _run_once\n      handle._run()\n    File \"/Users/arjunarora/miniforge3/envs/deep/lib/python3.10/asyncio/events.py\", line 80, in _run\n      self._context.run(self._callback, *self._args)\n    File \"/Users/arjunarora/miniforge3/envs/deep/lib/python3.10/site-packages/ipykernel/kernelbase.py\", line 504, in dispatch_queue\n      await self.process_one()\n    File \"/Users/arjunarora/miniforge3/envs/deep/lib/python3.10/site-packages/ipykernel/kernelbase.py\", line 493, in process_one\n      await dispatch(*args)\n    File \"/Users/arjunarora/miniforge3/envs/deep/lib/python3.10/site-packages/ipykernel/kernelbase.py\", line 400, in dispatch_shell\n      await result\n    File \"/Users/arjunarora/miniforge3/envs/deep/lib/python3.10/site-packages/ipykernel/kernelbase.py\", line 724, in execute_request\n      reply_content = await reply_content\n    File \"/Users/arjunarora/miniforge3/envs/deep/lib/python3.10/site-packages/ipykernel/ipkernel.py\", line 383, in do_execute\n      res = shell.run_cell(\n    File \"/Users/arjunarora/miniforge3/envs/deep/lib/python3.10/site-packages/ipykernel/zmqshell.py\", line 528, in run_cell\n      return super().run_cell(*args, **kwargs)\n    File \"/Users/arjunarora/miniforge3/envs/deep/lib/python3.10/site-packages/IPython/core/interactiveshell.py\", line 2881, in run_cell\n      result = self._run_cell(\n    File \"/Users/arjunarora/miniforge3/envs/deep/lib/python3.10/site-packages/IPython/core/interactiveshell.py\", line 2936, in _run_cell\n      return runner(coro)\n    File \"/Users/arjunarora/miniforge3/envs/deep/lib/python3.10/site-packages/IPython/core/async_helpers.py\", line 129, in _pseudo_sync_runner\n      coro.send(None)\n    File \"/Users/arjunarora/miniforge3/envs/deep/lib/python3.10/site-packages/IPython/core/interactiveshell.py\", line 3135, in run_cell_async\n      has_raised = await self.run_ast_nodes(code_ast.body, cell_name,\n    File \"/Users/arjunarora/miniforge3/envs/deep/lib/python3.10/site-packages/IPython/core/interactiveshell.py\", line 3338, in run_ast_nodes\n      if await self.run_code(code, result, async_=asy):\n    File \"/Users/arjunarora/miniforge3/envs/deep/lib/python3.10/site-packages/IPython/core/interactiveshell.py\", line 3398, in run_code\n      exec(code_obj, self.user_global_ns, self.user_ns)\n    File \"/var/folders/wm/jf5bq5r94mqgp8j4gnpmb7xw0000gn/T/ipykernel_16370/2941083123.py\", line 1, in <cell line: 1>\n      model_vgg19.fit_generator(train_generator,epochs=10, validation_data=valid_generator)\n    File \"/Users/arjunarora/miniforge3/envs/deep/lib/python3.10/site-packages/keras/engine/training.py\", line 2260, in fit_generator\n      return self.fit(\n    File \"/Users/arjunarora/miniforge3/envs/deep/lib/python3.10/site-packages/keras/utils/traceback_utils.py\", line 64, in error_handler\n      return fn(*args, **kwargs)\n    File \"/Users/arjunarora/miniforge3/envs/deep/lib/python3.10/site-packages/keras/engine/training.py\", line 1409, in fit\n      tmp_logs = self.train_function(iterator)\n    File \"/Users/arjunarora/miniforge3/envs/deep/lib/python3.10/site-packages/keras/engine/training.py\", line 1051, in train_function\n      return step_function(self, iterator)\n    File \"/Users/arjunarora/miniforge3/envs/deep/lib/python3.10/site-packages/keras/engine/training.py\", line 1040, in step_function\n      outputs = model.distribute_strategy.run(run_step, args=(data,))\n    File \"/Users/arjunarora/miniforge3/envs/deep/lib/python3.10/site-packages/keras/engine/training.py\", line 1030, in run_step\n      outputs = model.train_step(data)\n    File \"/Users/arjunarora/miniforge3/envs/deep/lib/python3.10/site-packages/keras/engine/training.py\", line 890, in train_step\n      loss = self.compute_loss(x, y, y_pred, sample_weight)\n    File \"/Users/arjunarora/miniforge3/envs/deep/lib/python3.10/site-packages/keras/engine/training.py\", line 948, in compute_loss\n      return self.compiled_loss(\n    File \"/Users/arjunarora/miniforge3/envs/deep/lib/python3.10/site-packages/keras/engine/compile_utils.py\", line 201, in __call__\n      loss_value = loss_obj(y_t, y_p, sample_weight=sw)\n    File \"/Users/arjunarora/miniforge3/envs/deep/lib/python3.10/site-packages/keras/losses.py\", line 139, in __call__\n      losses = call_fn(y_true, y_pred)\n    File \"/Users/arjunarora/miniforge3/envs/deep/lib/python3.10/site-packages/keras/losses.py\", line 243, in call\n      return ag_fn(y_true, y_pred, **self._fn_kwargs)\n    File \"/Users/arjunarora/miniforge3/envs/deep/lib/python3.10/site-packages/keras/losses.py\", line 1787, in categorical_crossentropy\n      return backend.categorical_crossentropy(\n    File \"/Users/arjunarora/miniforge3/envs/deep/lib/python3.10/site-packages/keras/backend.py\", line 5153, in categorical_crossentropy\n      return -tf.reduce_sum(target * tf.math.log(output), axis)\nNode: 'categorical_crossentropy/mul'\n2 root error(s) found.\n  (0) INVALID_ARGUMENT:  Incompatible shapes: [128,10] vs. [128,512]\n\t [[{{node categorical_crossentropy/mul}}]]\n\t [[Equal/_13]]\n  (1) INVALID_ARGUMENT:  Incompatible shapes: [128,10] vs. [128,512]\n\t [[{{node categorical_crossentropy/mul}}]]\n0 successful operations.\n0 derived errors ignored. [Op:__inference_train_function_190932]",
     "output_type": "error",
     "traceback": [
      "\u001b[0;31m---------------------------------------------------------------------------\u001b[0m",
      "\u001b[0;31mInvalidArgumentError\u001b[0m                      Traceback (most recent call last)",
      "\u001b[1;32m/Users/arjunarora/Documents/TUB/Studies/SS22/DL SS22/EuroSAT/EuroSAT.ipynb Cell 35'\u001b[0m in \u001b[0;36m<cell line: 1>\u001b[0;34m()\u001b[0m\n\u001b[0;32m----> <a href='vscode-notebook-cell:/Users/arjunarora/Documents/TUB/Studies/SS22/DL%20SS22/EuroSAT/EuroSAT.ipynb#ch0000035?line=0'>1</a>\u001b[0m model_vgg19\u001b[39m.\u001b[39;49mfit_generator(train_generator,epochs\u001b[39m=\u001b[39;49m\u001b[39m10\u001b[39;49m, validation_data\u001b[39m=\u001b[39;49mvalid_generator)\n",
      "File \u001b[0;32m~/miniforge3/envs/deep/lib/python3.10/site-packages/keras/engine/training.py:2260\u001b[0m, in \u001b[0;36mModel.fit_generator\u001b[0;34m(self, generator, steps_per_epoch, epochs, verbose, callbacks, validation_data, validation_steps, validation_freq, class_weight, max_queue_size, workers, use_multiprocessing, shuffle, initial_epoch)\u001b[0m\n\u001b[1;32m   2249\u001b[0m \u001b[39m\"\"\"Fits the model on data yielded batch-by-batch by a Python generator.\u001b[39;00m\n\u001b[1;32m   2250\u001b[0m \n\u001b[1;32m   2251\u001b[0m \u001b[39mDEPRECATED:\u001b[39;00m\n\u001b[1;32m   2252\u001b[0m \u001b[39m  `Model.fit` now supports generators, so there is no longer any need to use\u001b[39;00m\n\u001b[1;32m   2253\u001b[0m \u001b[39m  this endpoint.\u001b[39;00m\n\u001b[1;32m   2254\u001b[0m \u001b[39m\"\"\"\u001b[39;00m\n\u001b[1;32m   2255\u001b[0m warnings\u001b[39m.\u001b[39mwarn(\n\u001b[1;32m   2256\u001b[0m     \u001b[39m'\u001b[39m\u001b[39m`Model.fit_generator` is deprecated and \u001b[39m\u001b[39m'\u001b[39m\n\u001b[1;32m   2257\u001b[0m     \u001b[39m'\u001b[39m\u001b[39mwill be removed in a future version. \u001b[39m\u001b[39m'\u001b[39m\n\u001b[1;32m   2258\u001b[0m     \u001b[39m'\u001b[39m\u001b[39mPlease use `Model.fit`, which supports generators.\u001b[39m\u001b[39m'\u001b[39m,\n\u001b[1;32m   2259\u001b[0m     stacklevel\u001b[39m=\u001b[39m\u001b[39m2\u001b[39m)\n\u001b[0;32m-> 2260\u001b[0m \u001b[39mreturn\u001b[39;00m \u001b[39mself\u001b[39;49m\u001b[39m.\u001b[39;49mfit(\n\u001b[1;32m   2261\u001b[0m     generator,\n\u001b[1;32m   2262\u001b[0m     steps_per_epoch\u001b[39m=\u001b[39;49msteps_per_epoch,\n\u001b[1;32m   2263\u001b[0m     epochs\u001b[39m=\u001b[39;49mepochs,\n\u001b[1;32m   2264\u001b[0m     verbose\u001b[39m=\u001b[39;49mverbose,\n\u001b[1;32m   2265\u001b[0m     callbacks\u001b[39m=\u001b[39;49mcallbacks,\n\u001b[1;32m   2266\u001b[0m     validation_data\u001b[39m=\u001b[39;49mvalidation_data,\n\u001b[1;32m   2267\u001b[0m     validation_steps\u001b[39m=\u001b[39;49mvalidation_steps,\n\u001b[1;32m   2268\u001b[0m     validation_freq\u001b[39m=\u001b[39;49mvalidation_freq,\n\u001b[1;32m   2269\u001b[0m     class_weight\u001b[39m=\u001b[39;49mclass_weight,\n\u001b[1;32m   2270\u001b[0m     max_queue_size\u001b[39m=\u001b[39;49mmax_queue_size,\n\u001b[1;32m   2271\u001b[0m     workers\u001b[39m=\u001b[39;49mworkers,\n\u001b[1;32m   2272\u001b[0m     use_multiprocessing\u001b[39m=\u001b[39;49muse_multiprocessing,\n\u001b[1;32m   2273\u001b[0m     shuffle\u001b[39m=\u001b[39;49mshuffle,\n\u001b[1;32m   2274\u001b[0m     initial_epoch\u001b[39m=\u001b[39;49minitial_epoch)\n",
      "File \u001b[0;32m~/miniforge3/envs/deep/lib/python3.10/site-packages/keras/utils/traceback_utils.py:67\u001b[0m, in \u001b[0;36mfilter_traceback.<locals>.error_handler\u001b[0;34m(*args, **kwargs)\u001b[0m\n\u001b[1;32m     65\u001b[0m \u001b[39mexcept\u001b[39;00m \u001b[39mException\u001b[39;00m \u001b[39mas\u001b[39;00m e:  \u001b[39m# pylint: disable=broad-except\u001b[39;00m\n\u001b[1;32m     66\u001b[0m   filtered_tb \u001b[39m=\u001b[39m _process_traceback_frames(e\u001b[39m.\u001b[39m__traceback__)\n\u001b[0;32m---> 67\u001b[0m   \u001b[39mraise\u001b[39;00m e\u001b[39m.\u001b[39mwith_traceback(filtered_tb) \u001b[39mfrom\u001b[39;00m \u001b[39mNone\u001b[39m\n\u001b[1;32m     68\u001b[0m \u001b[39mfinally\u001b[39;00m:\n\u001b[1;32m     69\u001b[0m   \u001b[39mdel\u001b[39;00m filtered_tb\n",
      "File \u001b[0;32m~/miniforge3/envs/deep/lib/python3.10/site-packages/tensorflow/python/eager/execute.py:54\u001b[0m, in \u001b[0;36mquick_execute\u001b[0;34m(op_name, num_outputs, inputs, attrs, ctx, name)\u001b[0m\n\u001b[1;32m     52\u001b[0m \u001b[39mtry\u001b[39;00m:\n\u001b[1;32m     53\u001b[0m   ctx\u001b[39m.\u001b[39mensure_initialized()\n\u001b[0;32m---> 54\u001b[0m   tensors \u001b[39m=\u001b[39m pywrap_tfe\u001b[39m.\u001b[39mTFE_Py_Execute(ctx\u001b[39m.\u001b[39m_handle, device_name, op_name,\n\u001b[1;32m     55\u001b[0m                                       inputs, attrs, num_outputs)\n\u001b[1;32m     56\u001b[0m \u001b[39mexcept\u001b[39;00m core\u001b[39m.\u001b[39m_NotOkStatusException \u001b[39mas\u001b[39;00m e:\n\u001b[1;32m     57\u001b[0m   \u001b[39mif\u001b[39;00m name \u001b[39mis\u001b[39;00m \u001b[39mnot\u001b[39;00m \u001b[39mNone\u001b[39;00m:\n",
      "\u001b[0;31mInvalidArgumentError\u001b[0m: Graph execution error:\n\nDetected at node 'categorical_crossentropy/mul' defined at (most recent call last):\n    File \"/Users/arjunarora/miniforge3/envs/deep/lib/python3.10/runpy.py\", line 196, in _run_module_as_main\n      return _run_code(code, main_globals, None,\n    File \"/Users/arjunarora/miniforge3/envs/deep/lib/python3.10/runpy.py\", line 86, in _run_code\n      exec(code, run_globals)\n    File \"/Users/arjunarora/miniforge3/envs/deep/lib/python3.10/site-packages/ipykernel_launcher.py\", line 17, in <module>\n      app.launch_new_instance()\n    File \"/Users/arjunarora/miniforge3/envs/deep/lib/python3.10/site-packages/traitlets/config/application.py\", line 972, in launch_instance\n      app.start()\n    File \"/Users/arjunarora/miniforge3/envs/deep/lib/python3.10/site-packages/ipykernel/kernelapp.py\", line 712, in start\n      self.io_loop.start()\n    File \"/Users/arjunarora/miniforge3/envs/deep/lib/python3.10/site-packages/tornado/platform/asyncio.py\", line 199, in start\n      self.asyncio_loop.run_forever()\n    File \"/Users/arjunarora/miniforge3/envs/deep/lib/python3.10/asyncio/base_events.py\", line 600, in run_forever\n      self._run_once()\n    File \"/Users/arjunarora/miniforge3/envs/deep/lib/python3.10/asyncio/base_events.py\", line 1896, in _run_once\n      handle._run()\n    File \"/Users/arjunarora/miniforge3/envs/deep/lib/python3.10/asyncio/events.py\", line 80, in _run\n      self._context.run(self._callback, *self._args)\n    File \"/Users/arjunarora/miniforge3/envs/deep/lib/python3.10/site-packages/ipykernel/kernelbase.py\", line 504, in dispatch_queue\n      await self.process_one()\n    File \"/Users/arjunarora/miniforge3/envs/deep/lib/python3.10/site-packages/ipykernel/kernelbase.py\", line 493, in process_one\n      await dispatch(*args)\n    File \"/Users/arjunarora/miniforge3/envs/deep/lib/python3.10/site-packages/ipykernel/kernelbase.py\", line 400, in dispatch_shell\n      await result\n    File \"/Users/arjunarora/miniforge3/envs/deep/lib/python3.10/site-packages/ipykernel/kernelbase.py\", line 724, in execute_request\n      reply_content = await reply_content\n    File \"/Users/arjunarora/miniforge3/envs/deep/lib/python3.10/site-packages/ipykernel/ipkernel.py\", line 383, in do_execute\n      res = shell.run_cell(\n    File \"/Users/arjunarora/miniforge3/envs/deep/lib/python3.10/site-packages/ipykernel/zmqshell.py\", line 528, in run_cell\n      return super().run_cell(*args, **kwargs)\n    File \"/Users/arjunarora/miniforge3/envs/deep/lib/python3.10/site-packages/IPython/core/interactiveshell.py\", line 2881, in run_cell\n      result = self._run_cell(\n    File \"/Users/arjunarora/miniforge3/envs/deep/lib/python3.10/site-packages/IPython/core/interactiveshell.py\", line 2936, in _run_cell\n      return runner(coro)\n    File \"/Users/arjunarora/miniforge3/envs/deep/lib/python3.10/site-packages/IPython/core/async_helpers.py\", line 129, in _pseudo_sync_runner\n      coro.send(None)\n    File \"/Users/arjunarora/miniforge3/envs/deep/lib/python3.10/site-packages/IPython/core/interactiveshell.py\", line 3135, in run_cell_async\n      has_raised = await self.run_ast_nodes(code_ast.body, cell_name,\n    File \"/Users/arjunarora/miniforge3/envs/deep/lib/python3.10/site-packages/IPython/core/interactiveshell.py\", line 3338, in run_ast_nodes\n      if await self.run_code(code, result, async_=asy):\n    File \"/Users/arjunarora/miniforge3/envs/deep/lib/python3.10/site-packages/IPython/core/interactiveshell.py\", line 3398, in run_code\n      exec(code_obj, self.user_global_ns, self.user_ns)\n    File \"/var/folders/wm/jf5bq5r94mqgp8j4gnpmb7xw0000gn/T/ipykernel_16370/2941083123.py\", line 1, in <cell line: 1>\n      model_vgg19.fit_generator(train_generator,epochs=10, validation_data=valid_generator)\n    File \"/Users/arjunarora/miniforge3/envs/deep/lib/python3.10/site-packages/keras/engine/training.py\", line 2260, in fit_generator\n      return self.fit(\n    File \"/Users/arjunarora/miniforge3/envs/deep/lib/python3.10/site-packages/keras/utils/traceback_utils.py\", line 64, in error_handler\n      return fn(*args, **kwargs)\n    File \"/Users/arjunarora/miniforge3/envs/deep/lib/python3.10/site-packages/keras/engine/training.py\", line 1409, in fit\n      tmp_logs = self.train_function(iterator)\n    File \"/Users/arjunarora/miniforge3/envs/deep/lib/python3.10/site-packages/keras/engine/training.py\", line 1051, in train_function\n      return step_function(self, iterator)\n    File \"/Users/arjunarora/miniforge3/envs/deep/lib/python3.10/site-packages/keras/engine/training.py\", line 1040, in step_function\n      outputs = model.distribute_strategy.run(run_step, args=(data,))\n    File \"/Users/arjunarora/miniforge3/envs/deep/lib/python3.10/site-packages/keras/engine/training.py\", line 1030, in run_step\n      outputs = model.train_step(data)\n    File \"/Users/arjunarora/miniforge3/envs/deep/lib/python3.10/site-packages/keras/engine/training.py\", line 890, in train_step\n      loss = self.compute_loss(x, y, y_pred, sample_weight)\n    File \"/Users/arjunarora/miniforge3/envs/deep/lib/python3.10/site-packages/keras/engine/training.py\", line 948, in compute_loss\n      return self.compiled_loss(\n    File \"/Users/arjunarora/miniforge3/envs/deep/lib/python3.10/site-packages/keras/engine/compile_utils.py\", line 201, in __call__\n      loss_value = loss_obj(y_t, y_p, sample_weight=sw)\n    File \"/Users/arjunarora/miniforge3/envs/deep/lib/python3.10/site-packages/keras/losses.py\", line 139, in __call__\n      losses = call_fn(y_true, y_pred)\n    File \"/Users/arjunarora/miniforge3/envs/deep/lib/python3.10/site-packages/keras/losses.py\", line 243, in call\n      return ag_fn(y_true, y_pred, **self._fn_kwargs)\n    File \"/Users/arjunarora/miniforge3/envs/deep/lib/python3.10/site-packages/keras/losses.py\", line 1787, in categorical_crossentropy\n      return backend.categorical_crossentropy(\n    File \"/Users/arjunarora/miniforge3/envs/deep/lib/python3.10/site-packages/keras/backend.py\", line 5153, in categorical_crossentropy\n      return -tf.reduce_sum(target * tf.math.log(output), axis)\nNode: 'categorical_crossentropy/mul'\nDetected at node 'categorical_crossentropy/mul' defined at (most recent call last):\n    File \"/Users/arjunarora/miniforge3/envs/deep/lib/python3.10/runpy.py\", line 196, in _run_module_as_main\n      return _run_code(code, main_globals, None,\n    File \"/Users/arjunarora/miniforge3/envs/deep/lib/python3.10/runpy.py\", line 86, in _run_code\n      exec(code, run_globals)\n    File \"/Users/arjunarora/miniforge3/envs/deep/lib/python3.10/site-packages/ipykernel_launcher.py\", line 17, in <module>\n      app.launch_new_instance()\n    File \"/Users/arjunarora/miniforge3/envs/deep/lib/python3.10/site-packages/traitlets/config/application.py\", line 972, in launch_instance\n      app.start()\n    File \"/Users/arjunarora/miniforge3/envs/deep/lib/python3.10/site-packages/ipykernel/kernelapp.py\", line 712, in start\n      self.io_loop.start()\n    File \"/Users/arjunarora/miniforge3/envs/deep/lib/python3.10/site-packages/tornado/platform/asyncio.py\", line 199, in start\n      self.asyncio_loop.run_forever()\n    File \"/Users/arjunarora/miniforge3/envs/deep/lib/python3.10/asyncio/base_events.py\", line 600, in run_forever\n      self._run_once()\n    File \"/Users/arjunarora/miniforge3/envs/deep/lib/python3.10/asyncio/base_events.py\", line 1896, in _run_once\n      handle._run()\n    File \"/Users/arjunarora/miniforge3/envs/deep/lib/python3.10/asyncio/events.py\", line 80, in _run\n      self._context.run(self._callback, *self._args)\n    File \"/Users/arjunarora/miniforge3/envs/deep/lib/python3.10/site-packages/ipykernel/kernelbase.py\", line 504, in dispatch_queue\n      await self.process_one()\n    File \"/Users/arjunarora/miniforge3/envs/deep/lib/python3.10/site-packages/ipykernel/kernelbase.py\", line 493, in process_one\n      await dispatch(*args)\n    File \"/Users/arjunarora/miniforge3/envs/deep/lib/python3.10/site-packages/ipykernel/kernelbase.py\", line 400, in dispatch_shell\n      await result\n    File \"/Users/arjunarora/miniforge3/envs/deep/lib/python3.10/site-packages/ipykernel/kernelbase.py\", line 724, in execute_request\n      reply_content = await reply_content\n    File \"/Users/arjunarora/miniforge3/envs/deep/lib/python3.10/site-packages/ipykernel/ipkernel.py\", line 383, in do_execute\n      res = shell.run_cell(\n    File \"/Users/arjunarora/miniforge3/envs/deep/lib/python3.10/site-packages/ipykernel/zmqshell.py\", line 528, in run_cell\n      return super().run_cell(*args, **kwargs)\n    File \"/Users/arjunarora/miniforge3/envs/deep/lib/python3.10/site-packages/IPython/core/interactiveshell.py\", line 2881, in run_cell\n      result = self._run_cell(\n    File \"/Users/arjunarora/miniforge3/envs/deep/lib/python3.10/site-packages/IPython/core/interactiveshell.py\", line 2936, in _run_cell\n      return runner(coro)\n    File \"/Users/arjunarora/miniforge3/envs/deep/lib/python3.10/site-packages/IPython/core/async_helpers.py\", line 129, in _pseudo_sync_runner\n      coro.send(None)\n    File \"/Users/arjunarora/miniforge3/envs/deep/lib/python3.10/site-packages/IPython/core/interactiveshell.py\", line 3135, in run_cell_async\n      has_raised = await self.run_ast_nodes(code_ast.body, cell_name,\n    File \"/Users/arjunarora/miniforge3/envs/deep/lib/python3.10/site-packages/IPython/core/interactiveshell.py\", line 3338, in run_ast_nodes\n      if await self.run_code(code, result, async_=asy):\n    File \"/Users/arjunarora/miniforge3/envs/deep/lib/python3.10/site-packages/IPython/core/interactiveshell.py\", line 3398, in run_code\n      exec(code_obj, self.user_global_ns, self.user_ns)\n    File \"/var/folders/wm/jf5bq5r94mqgp8j4gnpmb7xw0000gn/T/ipykernel_16370/2941083123.py\", line 1, in <cell line: 1>\n      model_vgg19.fit_generator(train_generator,epochs=10, validation_data=valid_generator)\n    File \"/Users/arjunarora/miniforge3/envs/deep/lib/python3.10/site-packages/keras/engine/training.py\", line 2260, in fit_generator\n      return self.fit(\n    File \"/Users/arjunarora/miniforge3/envs/deep/lib/python3.10/site-packages/keras/utils/traceback_utils.py\", line 64, in error_handler\n      return fn(*args, **kwargs)\n    File \"/Users/arjunarora/miniforge3/envs/deep/lib/python3.10/site-packages/keras/engine/training.py\", line 1409, in fit\n      tmp_logs = self.train_function(iterator)\n    File \"/Users/arjunarora/miniforge3/envs/deep/lib/python3.10/site-packages/keras/engine/training.py\", line 1051, in train_function\n      return step_function(self, iterator)\n    File \"/Users/arjunarora/miniforge3/envs/deep/lib/python3.10/site-packages/keras/engine/training.py\", line 1040, in step_function\n      outputs = model.distribute_strategy.run(run_step, args=(data,))\n    File \"/Users/arjunarora/miniforge3/envs/deep/lib/python3.10/site-packages/keras/engine/training.py\", line 1030, in run_step\n      outputs = model.train_step(data)\n    File \"/Users/arjunarora/miniforge3/envs/deep/lib/python3.10/site-packages/keras/engine/training.py\", line 890, in train_step\n      loss = self.compute_loss(x, y, y_pred, sample_weight)\n    File \"/Users/arjunarora/miniforge3/envs/deep/lib/python3.10/site-packages/keras/engine/training.py\", line 948, in compute_loss\n      return self.compiled_loss(\n    File \"/Users/arjunarora/miniforge3/envs/deep/lib/python3.10/site-packages/keras/engine/compile_utils.py\", line 201, in __call__\n      loss_value = loss_obj(y_t, y_p, sample_weight=sw)\n    File \"/Users/arjunarora/miniforge3/envs/deep/lib/python3.10/site-packages/keras/losses.py\", line 139, in __call__\n      losses = call_fn(y_true, y_pred)\n    File \"/Users/arjunarora/miniforge3/envs/deep/lib/python3.10/site-packages/keras/losses.py\", line 243, in call\n      return ag_fn(y_true, y_pred, **self._fn_kwargs)\n    File \"/Users/arjunarora/miniforge3/envs/deep/lib/python3.10/site-packages/keras/losses.py\", line 1787, in categorical_crossentropy\n      return backend.categorical_crossentropy(\n    File \"/Users/arjunarora/miniforge3/envs/deep/lib/python3.10/site-packages/keras/backend.py\", line 5153, in categorical_crossentropy\n      return -tf.reduce_sum(target * tf.math.log(output), axis)\nNode: 'categorical_crossentropy/mul'\n2 root error(s) found.\n  (0) INVALID_ARGUMENT:  Incompatible shapes: [128,10] vs. [128,512]\n\t [[{{node categorical_crossentropy/mul}}]]\n\t [[Equal/_13]]\n  (1) INVALID_ARGUMENT:  Incompatible shapes: [128,10] vs. [128,512]\n\t [[{{node categorical_crossentropy/mul}}]]\n0 successful operations.\n0 derived errors ignored. [Op:__inference_train_function_190932]"
     ]
    }
   ],
   "source": [
    "model_vgg19.fit_generator(train_generator,epochs=10, validation_data=valid_generator)"
   ]
  },
  {
   "cell_type": "code",
   "execution_count": 182,
   "metadata": {},
   "outputs": [],
   "source": [
    "model_eff_net = tf.keras.applications.EfficientNetV2L(\n",
    "    include_top=True,\n",
    "    weights=\"imagenet\",\n",
    "    input_tensor=None,\n",
    "    input_shape=(None),\n",
    "    pooling=None,\n",
    "    classes=1000,\n",
    "    classifier_activation=\"softmax\",\n",
    "    include_preprocessing=True,\n",
    ").compile(optimizer=Adagrad(), loss='categorical_crossentropy', metrics=['categorical_accuracy'])"
   ]
  },
  {
   "cell_type": "code",
   "execution_count": null,
   "metadata": {},
   "outputs": [],
   "source": []
  },
  {
   "cell_type": "code",
   "execution_count": null,
   "metadata": {},
   "outputs": [],
   "source": []
  }
 ],
 "metadata": {
  "kernelspec": {
   "display_name": "Python 3.10.4 ('deep')",
   "language": "python",
   "name": "python3"
  },
  "language_info": {
   "codemirror_mode": {
    "name": "ipython",
    "version": 3
   },
   "file_extension": ".py",
   "mimetype": "text/x-python",
   "name": "python",
   "nbconvert_exporter": "python",
   "pygments_lexer": "ipython3",
   "version": "3.10.4"
  },
  "orig_nbformat": 4,
  "vscode": {
   "interpreter": {
    "hash": "0a3aadebaddfbe734b1d334477c49318698dd57f53358bc0436e6a94ccc67973"
   }
  }
 },
 "nbformat": 4,
 "nbformat_minor": 2
}
